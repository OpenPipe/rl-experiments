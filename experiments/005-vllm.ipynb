{
 "cells": [
  {
   "cell_type": "code",
   "execution_count": 1,
   "metadata": {},
   "outputs": [],
   "source": [
    "%load_ext autoreload\n",
    "%autoreload 2"
   ]
  },
  {
   "cell_type": "code",
   "execution_count": 2,
   "metadata": {},
   "outputs": [
    {
     "data": {
      "text/html": [
       "<style>\n",
       ".cell-output-ipywidget-background {\n",
       "    background-color: transparent !important;\n",
       "}\n",
       ":root {\n",
       "    --jp-widgets-color: var(--vscode-editor-foreground);\n",
       "    --jp-widgets-font-size: var(--vscode-editor-font-size);\n",
       "}  \n",
       "</style>\n"
      ],
      "text/plain": [
       "<IPython.core.display.HTML object>"
      ]
     },
     "metadata": {},
     "output_type": "display_data"
    }
   ],
   "source": [
    "%%html\n",
    "<style>\n",
    ".cell-output-ipywidget-background {\n",
    "    background-color: transparent !important;\n",
    "}\n",
    ":root {\n",
    "    --jp-widgets-color: var(--vscode-editor-foreground);\n",
    "    --jp-widgets-font-size: var(--vscode-editor-font-size);\n",
    "}  \n",
    "</style>"
   ]
  },
  {
   "cell_type": "code",
   "execution_count": 3,
   "metadata": {},
   "outputs": [
    {
     "data": {
      "text/plain": [
       "(256, 72, 92, 436)"
      ]
     },
     "execution_count": 3,
     "metadata": {},
     "output_type": "execute_result"
    }
   ],
   "source": [
    "from itertools import islice\n",
    "from lib import models\n",
    "from lib.nyt_connections import get_connections_games, get_connections_tasks\n",
    "from lib.pack import packed_tensors_from_tokenized_results, plot_packed_tensors\n",
    "from lib.recipe import ComponentConfig, TuneRecipeConfig\n",
    "from lib.tasks import ChatCompletionParams, get_task_results\n",
    "from lib.tokenize import TaskResultTokenizer\n",
    "from lib.tune import tune\n",
    "from lib.vllm import start_vllm, kill_vllm_workers\n",
    "import openai\n",
    "import os\n",
    "import torch\n",
    "from transformers import AutoTokenizer\n",
    "\n",
    "games = get_connections_games()\n",
    "tasks = list(\n",
    "    islice(get_connections_tasks(games, parse_answers_liberally=False), len(games) * 2)\n",
    ")\n",
    "# distill_tasks = tasks[:436]\n",
    "distill_tasks = tasks[:256]\n",
    "val_tasks = tasks[436:508]\n",
    "test_tasks = tasks[508 : len(games)]\n",
    "train_tasks = tasks[len(games) : len(games) + 436]\n",
    "len(distill_tasks), len(val_tasks), len(test_tasks), len(train_tasks)"
   ]
  },
  {
   "cell_type": "code",
   "execution_count": 5,
   "metadata": {},
   "outputs": [
    {
     "name": "stdout",
     "output_type": "stream",
     "text": [
      "$ vllm serve deepseek-ai/DeepSeek-R1-Distill-Llama-70B --block-size=32 --disable-log-requests --enable-prefix-caching --enforce-eager --gpu-memory-utilization=0.95 --max-model-len=16384 --max-num-seqs=512 --max-num-batched-tokens=16384 --num-scheduler-steps=8 --preemption-mode=swap --return-tokens-as-token-ids --swap-space=80 --tensor-parallel-size=8 --port=8000 --api-key=default\n",
      "INFO 02-18 17:05:01 __init__.py:190] Automatically detected platform cuda.\n",
      "INFO 02-18 17:05:02 api_server.py:840] vLLM API server version 0.7.2\n",
      "INFO 02-18 17:05:02 api_server.py:841] args: Namespace(subparser='serve', model_tag='deepseek-ai/DeepSeek-R1-Distill-Llama-70B', config='', host=None, port=8000, uvicorn_log_level='info', allow_credentials=False, allowed_origins=['*'], allowed_methods=['*'], allowed_headers=['*'], api_key='default', lora_modules=None, prompt_adapters=None, chat_template=None, chat_template_content_format='auto', response_role='assistant', ssl_keyfile=None, ssl_certfile=None, ssl_ca_certs=None, ssl_cert_reqs=0, root_path=None, middleware=[], return_tokens_as_token_ids=True, disable_frontend_multiprocessing=False, enable_request_id_headers=False, enable_auto_tool_choice=False, enable_reasoning=False, reasoning_parser=None, tool_call_parser=None, tool_parser_plugin='', model='deepseek-ai/DeepSeek-R1-Distill-Llama-70B', task='auto', tokenizer=None, skip_tokenizer_init=False, revision=None, code_revision=None, tokenizer_revision=None, tokenizer_mode='auto', trust_remote_code=False, allowed_local_media_path=None, download_dir=None, load_format='auto', config_format=<ConfigFormat.AUTO: 'auto'>, dtype='auto', kv_cache_dtype='auto', max_model_len=16384, guided_decoding_backend='xgrammar', logits_processor_pattern=None, model_impl='auto', distributed_executor_backend=None, pipeline_parallel_size=1, tensor_parallel_size=8, max_parallel_loading_workers=None, ray_workers_use_nsight=False, block_size=32, enable_prefix_caching=True, disable_sliding_window=False, use_v2_block_manager=True, num_lookahead_slots=0, seed=0, swap_space=80.0, cpu_offload_gb=0, gpu_memory_utilization=0.95, num_gpu_blocks_override=None, max_num_batched_tokens=16384, max_num_seqs=512, max_logprobs=20, disable_log_stats=False, quantization=None, rope_scaling=None, rope_theta=None, hf_overrides=None, enforce_eager=True, max_seq_len_to_capture=8192, disable_custom_all_reduce=False, tokenizer_pool_size=0, tokenizer_pool_type='ray', tokenizer_pool_extra_config=None, limit_mm_per_prompt=None, mm_processor_kwargs=None, disable_mm_preprocessor_cache=False, enable_lora=False, enable_lora_bias=False, max_loras=1, max_lora_rank=16, lora_extra_vocab_size=256, lora_dtype='auto', long_lora_scaling_factors=None, max_cpu_loras=None, fully_sharded_loras=False, enable_prompt_adapter=False, max_prompt_adapters=1, max_prompt_adapter_token=0, device='auto', num_scheduler_steps=8, multi_step_stream_outputs=True, scheduler_delay_factor=0.0, enable_chunked_prefill=None, speculative_model=None, speculative_model_quantization=None, num_speculative_tokens=None, speculative_disable_mqa_scorer=False, speculative_draft_tensor_parallel_size=None, speculative_max_model_len=None, speculative_disable_by_batch_size=None, ngram_prompt_lookup_max=None, ngram_prompt_lookup_min=None, spec_decoding_acceptance_method='rejection_sampler', typical_acceptance_sampler_posterior_threshold=None, typical_acceptance_sampler_posterior_alpha=None, disable_logprobs_during_spec_decoding=None, model_loader_extra_config=None, ignore_patterns=[], preemption_mode='swap', served_model_name=None, qlora_adapter_name_or_path=None, otlp_traces_endpoint=None, collect_detailed_traces=None, disable_async_output_proc=False, scheduling_policy='fcfs', override_neuron_config=None, override_pooler_config=None, compilation_config=None, kv_transfer_config=None, worker_cls='auto', generation_config=None, override_generation_config=None, enable_sleep_mode=False, calculate_kv_scales=False, disable_log_requests=True, max_log_len=None, disable_fastapi_docs=False, enable_prompt_tokens_details=False, dispatch_function=<function serve at 0x7449dd8aaac0>)\n",
      "INFO 02-18 17:05:02 api_server.py:206] Started engine process with PID 36741\n",
      "INFO 02-18 17:05:05 __init__.py:190] Automatically detected platform cuda.\n",
      "INFO 02-18 17:05:08 config.py:542] This model supports multiple tasks: {'reward', 'classify', 'score', 'embed', 'generate'}. Defaulting to 'generate'.\n",
      "INFO 02-18 17:05:08 config.py:1401] Defaulting to use mp for distributed inference\n",
      "WARNING 02-18 17:05:08 cuda.py:95] To see benefits of async output processing, enable CUDA graph. Since, enforce-eager is enabled, async output processor cannot be used\n",
      "WARNING 02-18 17:05:08 config.py:678] Async output processing is not supported on the current platform type cuda.\n",
      "INFO 02-18 17:05:11 config.py:542] This model supports multiple tasks: {'embed', 'generate', 'classify', 'reward', 'score'}. Defaulting to 'generate'.\n",
      "INFO 02-18 17:05:12 config.py:1401] Defaulting to use mp for distributed inference\n",
      "WARNING 02-18 17:05:12 cuda.py:95] To see benefits of async output processing, enable CUDA graph. Since, enforce-eager is enabled, async output processor cannot be used\n",
      "WARNING 02-18 17:05:12 config.py:678] Async output processing is not supported on the current platform type cuda.\n",
      "INFO 02-18 17:05:12 llm_engine.py:234] Initializing a V0 LLM engine (v0.7.2) with config: model='deepseek-ai/DeepSeek-R1-Distill-Llama-70B', speculative_config=None, tokenizer='deepseek-ai/DeepSeek-R1-Distill-Llama-70B', skip_tokenizer_init=False, tokenizer_mode=auto, revision=None, override_neuron_config=None, tokenizer_revision=None, trust_remote_code=False, dtype=torch.bfloat16, max_seq_len=16384, download_dir=None, load_format=LoadFormat.AUTO, tensor_parallel_size=8, pipeline_parallel_size=1, disable_custom_all_reduce=False, quantization=None, enforce_eager=True, kv_cache_dtype=auto,  device_config=cuda, decoding_config=DecodingConfig(guided_decoding_backend='xgrammar'), observability_config=ObservabilityConfig(otlp_traces_endpoint=None, collect_model_forward_time=False, collect_model_execute_time=False), seed=0, served_model_name=deepseek-ai/DeepSeek-R1-Distill-Llama-70B, num_scheduler_steps=8, multi_step_stream_outputs=True, enable_prefix_caching=True, chunked_prefill_enabled=False, use_async_output_proc=False, disable_mm_preprocessor_cache=False, mm_processor_kwargs=None, pooler_config=None, compilation_config={\"splitting_ops\":[],\"compile_sizes\":[],\"cudagraph_capture_sizes\":[],\"max_capture_size\":0}, use_cached_outputs=True, \n",
      "WARNING 02-18 17:05:12 multiproc_worker_utils.py:300] Reducing Torch parallelism from 104 threads to 1 to avoid unnecessary CPU contention. Set OMP_NUM_THREADS in the external environment to tune this value as needed.\n",
      "INFO 02-18 17:05:12 custom_cache_manager.py:19] Setting Triton cache manager to: vllm.triton_utils.custom_cache_manager:CustomCacheManager\n",
      "INFO 02-18 17:05:13 cuda.py:230] Using Flash Attention backend.\n",
      "WARNING 02-18 17:05:13 registry.py:340] `mm_limits` has already been set for model=deepseek-ai/DeepSeek-R1-Distill-Llama-70B, and will be overwritten by the new values.\n",
      "INFO 02-18 17:05:16 __init__.py:190] Automatically detected platform cuda.\n",
      "INFO 02-18 17:05:16 __init__.py:190] Automatically detected platform cuda.\n",
      "INFO 02-18 17:05:16 __init__.py:190] Automatically detected platform cuda.\n",
      "INFO 02-18 17:05:16 __init__.py:190] Automatically detected platform cuda.\n",
      "INFO 02-18 17:05:16 __init__.py:190] Automatically detected platform cuda.\n",
      "INFO 02-18 17:05:16 __init__.py:190] Automatically detected platform cuda.\n",
      "INFO 02-18 17:05:16 __init__.py:190] Automatically detected platform cuda.\n",
      "\u001b[1;36m(VllmWorkerProcess pid=37072)\u001b[0;0m INFO 02-18 17:05:18 multiproc_worker_utils.py:229] Worker ready; awaiting tasks\n",
      "\u001b[1;36m(VllmWorkerProcess pid=37075)\u001b[0;0m INFO 02-18 17:05:19 multiproc_worker_utils.py:229] Worker ready; awaiting tasks\n",
      "\u001b[1;36m(VllmWorkerProcess pid=37073)\u001b[0;0m INFO 02-18 17:05:19 multiproc_worker_utils.py:229] Worker ready; awaiting tasks\n",
      "\u001b[1;36m(VllmWorkerProcess pid=37089)\u001b[0;0m INFO 02-18 17:05:19 multiproc_worker_utils.py:229] Worker ready; awaiting tasks\n",
      "\u001b[1;36m(VllmWorkerProcess pid=37074)\u001b[0;0m INFO 02-18 17:05:19 multiproc_worker_utils.py:229] Worker ready; awaiting tasks\n",
      "\u001b[1;36m(VllmWorkerProcess pid=37090)\u001b[0;0m INFO 02-18 17:05:19 multiproc_worker_utils.py:229] Worker ready; awaiting tasks\n",
      "\u001b[1;36m(VllmWorkerProcess pid=37091)\u001b[0;0m INFO 02-18 17:05:19 multiproc_worker_utils.py:229] Worker ready; awaiting tasks\n",
      "\u001b[1;36m(VllmWorkerProcess pid=37072)\u001b[0;0m INFO 02-18 17:05:19 cuda.py:230] Using Flash Attention backend.\n",
      "\u001b[1;36m(VllmWorkerProcess pid=37072)\u001b[0;0m WARNING 02-18 17:05:19 registry.py:340] `mm_limits` has already been set for model=deepseek-ai/DeepSeek-R1-Distill-Llama-70B, and will be overwritten by the new values.\n",
      "\u001b[1;36m(VllmWorkerProcess pid=37075)\u001b[0;0m INFO 02-18 17:05:20 cuda.py:230] Using Flash Attention backend.\n",
      "\u001b[1;36m(VllmWorkerProcess pid=37075)\u001b[0;0m WARNING 02-18 17:05:20 registry.py:340] `mm_limits` has already been set for model=deepseek-ai/DeepSeek-R1-Distill-Llama-70B, and will be overwritten by the new values.\n",
      "\u001b[1;36m(VllmWorkerProcess pid=37089)\u001b[0;0m INFO 02-18 17:05:20 cuda.py:230] Using Flash Attention backend.\n",
      "\u001b[1;36m(VllmWorkerProcess pid=37089)\u001b[0;0m WARNING 02-18 17:05:20 registry.py:340] `mm_limits` has already been set for model=deepseek-ai/DeepSeek-R1-Distill-Llama-70B, and will be overwritten by the new values.\n",
      "\u001b[1;36m(VllmWorkerProcess pid=37073)\u001b[0;0m INFO 02-18 17:05:20 cuda.py:230] Using Flash Attention backend.\n",
      "\u001b[1;36m(VllmWorkerProcess pid=37073)\u001b[0;0m WARNING 02-18 17:05:20 registry.py:340] `mm_limits` has already been set for model=deepseek-ai/DeepSeek-R1-Distill-Llama-70B, and will be overwritten by the new values.\n",
      "\u001b[1;36m(VllmWorkerProcess pid=37074)\u001b[0;0m INFO 02-18 17:05:20 cuda.py:230] Using Flash Attention backend.\n",
      "\u001b[1;36m(VllmWorkerProcess pid=37074)\u001b[0;0m WARNING 02-18 17:05:20 registry.py:340] `mm_limits` has already been set for model=deepseek-ai/DeepSeek-R1-Distill-Llama-70B, and will be overwritten by the new values.\n",
      "\u001b[1;36m(VllmWorkerProcess pid=37091)\u001b[0;0m INFO 02-18 17:05:20 cuda.py:230] Using Flash Attention backend.\n",
      "\u001b[1;36m(VllmWorkerProcess pid=37091)\u001b[0;0m WARNING 02-18 17:05:20 registry.py:340] `mm_limits` has already been set for model=deepseek-ai/DeepSeek-R1-Distill-Llama-70B, and will be overwritten by the new values.\n",
      "\u001b[1;36m(VllmWorkerProcess pid=37090)\u001b[0;0m INFO 02-18 17:05:20 cuda.py:230] Using Flash Attention backend.\n",
      "\u001b[1;36m(VllmWorkerProcess pid=37090)\u001b[0;0m WARNING 02-18 17:05:20 registry.py:340] `mm_limits` has already been set for model=deepseek-ai/DeepSeek-R1-Distill-Llama-70B, and will be overwritten by the new values.\n",
      "INFO 02-18 17:05:27 utils.py:950] Found nccl from library libnccl.so.2\n",
      "INFO 02-18 17:05:27 pynccl.py:69] vLLM is using nccl==2.21.5\n",
      "\u001b[1;36m(VllmWorkerProcess pid=37072)\u001b[0;0m INFO 02-18 17:05:27 utils.py:950] Found nccl from library libnccl.so.2\n",
      "\u001b[1;36m(VllmWorkerProcess pid=37075)\u001b[0;0m INFO 02-18 17:05:27 utils.py:950] Found nccl from library libnccl.so.2\n",
      "\u001b[1;36m(VllmWorkerProcess pid=37073)\u001b[0;0m INFO 02-18 17:05:27 utils.py:950] Found nccl from library libnccl.so.2\n",
      "\u001b[1;36m(VllmWorkerProcess pid=37074)\u001b[0;0m INFO 02-18 17:05:27 utils.py:950] Found nccl from library libnccl.so.2\n",
      "\u001b[1;36m(VllmWorkerProcess pid=37072)\u001b[0;0m INFO 02-18 17:05:27 pynccl.py:69] vLLM is using nccl==2.21.5\n",
      "\u001b[1;36m(VllmWorkerProcess pid=37075)\u001b[0;0m INFO 02-18 17:05:27 pynccl.py:69] vLLM is using nccl==2.21.5\n",
      "\u001b[1;36m(VllmWorkerProcess pid=37073)\u001b[0;0m INFO 02-18 17:05:27 pynccl.py:69] vLLM is using nccl==2.21.5\n",
      "\u001b[1;36m(VllmWorkerProcess pid=37074)\u001b[0;0m INFO 02-18 17:05:27 pynccl.py:69] vLLM is using nccl==2.21.5\n",
      "\u001b[1;36m(VllmWorkerProcess pid=37090)\u001b[0;0m INFO 02-18 17:05:27 utils.py:950] Found nccl from library libnccl.so.2\n",
      "\u001b[1;36m(VllmWorkerProcess pid=37091)\u001b[0;0m INFO 02-18 17:05:27 utils.py:950] Found nccl from library libnccl.so.2\n",
      "\u001b[1;36m(VllmWorkerProcess pid=37089)\u001b[0;0m INFO 02-18 17:05:27 utils.py:950] Found nccl from library libnccl.so.2\n",
      "\u001b[1;36m(VllmWorkerProcess pid=37090)\u001b[0;0m INFO 02-18 17:05:27 pynccl.py:69] vLLM is using nccl==2.21.5\n",
      "\u001b[1;36m(VllmWorkerProcess pid=37091)\u001b[0;0m INFO 02-18 17:05:27 pynccl.py:69] vLLM is using nccl==2.21.5\n",
      "\u001b[1;36m(VllmWorkerProcess pid=37089)\u001b[0;0m INFO 02-18 17:05:27 pynccl.py:69] vLLM is using nccl==2.21.5\n",
      "INFO 02-18 17:05:36 custom_all_reduce_utils.py:244] reading GPU P2P access cache from /home/gcpuser/.cache/vllm/gpu_p2p_access_cache_for_0,1,2,3,4,5,6,7.json\n",
      "\u001b[1;36m(VllmWorkerProcess pid=37090)\u001b[0;0m INFO 02-18 17:05:36 custom_all_reduce_utils.py:244] reading GPU P2P access cache from /home/gcpuser/.cache/vllm/gpu_p2p_access_cache_for_0,1,2,3,4,5,6,7.json\n",
      "\u001b[1;36m(VllmWorkerProcess pid=37073)\u001b[0;0m INFO 02-18 17:05:36 custom_all_reduce_utils.py:244] reading GPU P2P access cache from /home/gcpuser/.cache/vllm/gpu_p2p_access_cache_for_0,1,2,3,4,5,6,7.json\n",
      "\u001b[1;36m(VllmWorkerProcess pid=37074)\u001b[0;0m INFO 02-18 17:05:36 custom_all_reduce_utils.py:244] reading GPU P2P access cache from /home/gcpuser/.cache/vllm/gpu_p2p_access_cache_for_0,1,2,3,4,5,6,7.json\n",
      "\u001b[1;36m(VllmWorkerProcess pid=37091)\u001b[0;0m INFO 02-18 17:05:36 custom_all_reduce_utils.py:244] reading GPU P2P access cache from /home/gcpuser/.cache/vllm/gpu_p2p_access_cache_for_0,1,2,3,4,5,6,7.json\n",
      "\u001b[1;36m(VllmWorkerProcess pid=37072)\u001b[0;0m INFO 02-18 17:05:36 custom_all_reduce_utils.py:244] reading GPU P2P access cache from /home/gcpuser/.cache/vllm/gpu_p2p_access_cache_for_0,1,2,3,4,5,6,7.json\n",
      "\u001b[1;36m(VllmWorkerProcess pid=37075)\u001b[0;0m INFO 02-18 17:05:36 custom_all_reduce_utils.py:244] reading GPU P2P access cache from /home/gcpuser/.cache/vllm/gpu_p2p_access_cache_for_0,1,2,3,4,5,6,7.json\n",
      "\u001b[1;36m(VllmWorkerProcess pid=37089)\u001b[0;0m INFO 02-18 17:05:36 custom_all_reduce_utils.py:244] reading GPU P2P access cache from /home/gcpuser/.cache/vllm/gpu_p2p_access_cache_for_0,1,2,3,4,5,6,7.json\n",
      "INFO 02-18 17:05:37 shm_broadcast.py:258] vLLM message queue communication handle: Handle(connect_ip='127.0.0.1', local_reader_ranks=[1, 2, 3, 4, 5, 6, 7], buffer_handle=(7, 4194304, 6, 'psm_3f9bb25b'), local_subscribe_port=37085, remote_subscribe_port=None)\n",
      "INFO 02-18 17:05:37 model_runner.py:1110] Starting to load model deepseek-ai/DeepSeek-R1-Distill-Llama-70B...\n",
      "\u001b[1;36m(VllmWorkerProcess pid=37091)\u001b[0;0m INFO 02-18 17:05:37 model_runner.py:1110] Starting to load model deepseek-ai/DeepSeek-R1-Distill-Llama-70B...\n",
      "\u001b[1;36m(VllmWorkerProcess pid=37073)\u001b[0;0m INFO 02-18 17:05:37 model_runner.py:1110] Starting to load model deepseek-ai/DeepSeek-R1-Distill-Llama-70B...\n",
      "\u001b[1;36m(VllmWorkerProcess pid=37074)\u001b[0;0m INFO 02-18 17:05:37 model_runner.py:1110] Starting to load model deepseek-ai/DeepSeek-R1-Distill-Llama-70B...\n",
      "\u001b[1;36m(VllmWorkerProcess pid=37090)\u001b[0;0m INFO 02-18 17:05:37 model_runner.py:1110] Starting to load model deepseek-ai/DeepSeek-R1-Distill-Llama-70B...\n",
      "\u001b[1;36m(VllmWorkerProcess pid=37075)\u001b[0;0m INFO 02-18 17:05:37 model_runner.py:1110] Starting to load model deepseek-ai/DeepSeek-R1-Distill-Llama-70B...\n",
      "\u001b[1;36m(VllmWorkerProcess pid=37089)\u001b[0;0m INFO 02-18 17:05:37 model_runner.py:1110] Starting to load model deepseek-ai/DeepSeek-R1-Distill-Llama-70B...\n",
      "\u001b[1;36m(VllmWorkerProcess pid=37072)\u001b[0;0m INFO 02-18 17:05:37 model_runner.py:1110] Starting to load model deepseek-ai/DeepSeek-R1-Distill-Llama-70B...\n",
      "INFO 02-18 17:05:38 weight_utils.py:252] Using model weights format ['*.safetensors']\n",
      "\u001b[1;36m(VllmWorkerProcess pid=37090)\u001b[0;0m INFO 02-18 17:05:38 weight_utils.py:252] Using model weights format ['*.safetensors']\n",
      "\u001b[1;36m(VllmWorkerProcess pid=37074)\u001b[0;0m INFO 02-18 17:05:38 weight_utils.py:252] Using model weights format ['*.safetensors']\n",
      "\u001b[1;36m(VllmWorkerProcess pid=37075)\u001b[0;0m INFO 02-18 17:05:38 weight_utils.py:252] Using model weights format ['*.safetensors']\n",
      "\u001b[1;36m(VllmWorkerProcess pid=37089)\u001b[0;0m INFO 02-18 17:05:38 weight_utils.py:252] Using model weights format ['*.safetensors']\n",
      "\u001b[1;36m(VllmWorkerProcess pid=37091)\u001b[0;0m INFO 02-18 17:05:38 weight_utils.py:252] Using model weights format ['*.safetensors']\n",
      "\u001b[1;36m(VllmWorkerProcess pid=37072)\u001b[0;0m INFO 02-18 17:05:38 weight_utils.py:252] Using model weights format ['*.safetensors']\n",
      "\u001b[1;36m(VllmWorkerProcess pid=37073)\u001b[0;0m INFO 02-18 17:05:38 weight_utils.py:252] Using model weights format ['*.safetensors']\n"
     ]
    },
    {
     "name": "stderr",
     "output_type": "stream",
     "text": [
      "Loading safetensors checkpoint shards:   0% Completed | 0/17 [00:00<?, ?it/s]\n",
      "Loading safetensors checkpoint shards:   6% Completed | 1/17 [00:00<00:06,  2.43it/s]\n",
      "Loading safetensors checkpoint shards:  12% Completed | 2/17 [00:00<00:06,  2.33it/s]\n",
      "Loading safetensors checkpoint shards:  18% Completed | 3/17 [00:01<00:06,  2.31it/s]\n",
      "Loading safetensors checkpoint shards:  24% Completed | 4/17 [00:01<00:05,  2.30it/s]\n",
      "Loading safetensors checkpoint shards:  29% Completed | 5/17 [00:02<00:05,  2.26it/s]\n",
      "Loading safetensors checkpoint shards:  35% Completed | 6/17 [00:02<00:04,  2.22it/s]\n",
      "Loading safetensors checkpoint shards:  41% Completed | 7/17 [00:03<00:04,  2.21it/s]\n",
      "Loading safetensors checkpoint shards:  47% Completed | 8/17 [00:03<00:04,  2.21it/s]\n",
      "Loading safetensors checkpoint shards:  53% Completed | 9/17 [00:04<00:03,  2.19it/s]\n",
      "Loading safetensors checkpoint shards:  59% Completed | 10/17 [00:04<00:03,  2.19it/s]\n",
      "Loading safetensors checkpoint shards:  65% Completed | 11/17 [00:04<00:02,  2.17it/s]\n",
      "Loading safetensors checkpoint shards:  71% Completed | 12/17 [00:05<00:02,  2.24it/s]\n",
      "Loading safetensors checkpoint shards:  76% Completed | 13/17 [00:05<00:01,  2.22it/s]\n",
      "Loading safetensors checkpoint shards:  82% Completed | 14/17 [00:06<00:01,  2.19it/s]\n",
      "Loading safetensors checkpoint shards:  88% Completed | 15/17 [00:06<00:00,  2.20it/s]\n",
      "Loading safetensors checkpoint shards:  94% Completed | 16/17 [00:06<00:00,  2.81it/s]\n",
      "Loading safetensors checkpoint shards: 100% Completed | 17/17 [00:07<00:00,  2.69it/s]\n",
      "Loading safetensors checkpoint shards: 100% Completed | 17/17 [00:07<00:00,  2.33it/s]\n",
      "\n"
     ]
    },
    {
     "name": "stdout",
     "output_type": "stream",
     "text": [
      "\u001b[1;36m(VllmWorkerProcess pid=37089)\u001b[0;0m INFO 02-18 17:06:40 model_runner.py:1115] Loading model weights took 16.4606 GB\n",
      "INFO 02-18 17:06:40 model_runner.py:1115] Loading model weights took 16.4606 GB\n",
      "\u001b[1;36m(VllmWorkerProcess pid=37075)\u001b[0;0m INFO 02-18 17:06:40 model_runner.py:1115] Loading model weights took 16.4606 GB\n",
      "\u001b[1;36m(VllmWorkerProcess pid=37074)\u001b[0;0m INFO 02-18 17:06:41 model_runner.py:1115] Loading model weights took 16.4606 GB\n",
      "\u001b[1;36m(VllmWorkerProcess pid=37073)\u001b[0;0m INFO 02-18 17:06:41 model_runner.py:1115] Loading model weights took 16.4606 GB\n",
      "\u001b[1;36m(VllmWorkerProcess pid=37090)\u001b[0;0m INFO 02-18 17:06:41 model_runner.py:1115] Loading model weights took 16.4606 GB\n",
      "\u001b[1;36m(VllmWorkerProcess pid=37091)\u001b[0;0m INFO 02-18 17:06:41 model_runner.py:1115] Loading model weights took 16.4606 GB\n",
      "\u001b[1;36m(VllmWorkerProcess pid=37072)\u001b[0;0m INFO 02-18 17:06:41 model_runner.py:1115] Loading model weights took 16.4606 GB\n",
      "\u001b[1;36m(VllmWorkerProcess pid=37073)\u001b[0;0m INFO 02-18 17:06:52 worker.py:267] Memory profiling takes 10.81 seconds\n",
      "\u001b[1;36m(VllmWorkerProcess pid=37073)\u001b[0;0m INFO 02-18 17:06:52 worker.py:267] the current vLLM instance can use total_gpu_memory (79.11GiB) x gpu_memory_utilization (0.95) = 75.15GiB\n",
      "\u001b[1;36m(VllmWorkerProcess pid=37073)\u001b[0;0m INFO 02-18 17:06:52 worker.py:267] model weights take 16.46GiB; non_torch_memory takes 5.13GiB; PyTorch activation peak memory takes 1.39GiB; the rest of the memory reserved for KV Cache is 52.17GiB.\n",
      "\u001b[1;36m(VllmWorkerProcess pid=37072)\u001b[0;0m INFO 02-18 17:06:52 worker.py:267] Memory profiling takes 10.85 seconds\n",
      "\u001b[1;36m(VllmWorkerProcess pid=37072)\u001b[0;0m INFO 02-18 17:06:52 worker.py:267] the current vLLM instance can use total_gpu_memory (79.11GiB) x gpu_memory_utilization (0.95) = 75.15GiB\n",
      "\u001b[1;36m(VllmWorkerProcess pid=37072)\u001b[0;0m INFO 02-18 17:06:52 worker.py:267] model weights take 16.46GiB; non_torch_memory takes 5.13GiB; PyTorch activation peak memory takes 1.39GiB; the rest of the memory reserved for KV Cache is 52.17GiB.\n",
      "\u001b[1;36m(VllmWorkerProcess pid=37089)\u001b[0;0m INFO 02-18 17:06:52 worker.py:267] Memory profiling takes 10.84 seconds\n",
      "\u001b[1;36m(VllmWorkerProcess pid=37089)\u001b[0;0m INFO 02-18 17:06:52 worker.py:267] the current vLLM instance can use total_gpu_memory (79.11GiB) x gpu_memory_utilization (0.95) = 75.15GiB\n",
      "\u001b[1;36m(VllmWorkerProcess pid=37089)\u001b[0;0m INFO 02-18 17:06:52 worker.py:267] model weights take 16.46GiB; non_torch_memory takes 5.13GiB; PyTorch activation peak memory takes 1.39GiB; the rest of the memory reserved for KV Cache is 52.17GiB.\n",
      "\u001b[1;36m(VllmWorkerProcess pid=37091)\u001b[0;0m INFO 02-18 17:06:52 worker.py:267] Memory profiling takes 10.81 seconds\n",
      "\u001b[1;36m(VllmWorkerProcess pid=37091)\u001b[0;0m INFO 02-18 17:06:52 worker.py:267] the current vLLM instance can use total_gpu_memory (79.11GiB) x gpu_memory_utilization (0.95) = 75.15GiB\n",
      "\u001b[1;36m(VllmWorkerProcess pid=37091)\u001b[0;0m INFO 02-18 17:06:52 worker.py:267] model weights take 16.46GiB; non_torch_memory takes 4.66GiB; PyTorch activation peak memory takes 1.39GiB; the rest of the memory reserved for KV Cache is 52.64GiB.\n",
      "\u001b[1;36m(VllmWorkerProcess pid=37090)\u001b[0;0m INFO 02-18 17:06:52 worker.py:267] Memory profiling takes 10.85 seconds\n",
      "\u001b[1;36m(VllmWorkerProcess pid=37090)\u001b[0;0m INFO 02-18 17:06:52 worker.py:267] the current vLLM instance can use total_gpu_memory (79.11GiB) x gpu_memory_utilization (0.95) = 75.15GiB\n",
      "\u001b[1;36m(VllmWorkerProcess pid=37090)\u001b[0;0m INFO 02-18 17:06:52 worker.py:267] model weights take 16.46GiB; non_torch_memory takes 5.13GiB; PyTorch activation peak memory takes 1.39GiB; the rest of the memory reserved for KV Cache is 52.17GiB.\n",
      "\u001b[1;36m(VllmWorkerProcess pid=37075)\u001b[0;0m INFO 02-18 17:06:52 worker.py:267] Memory profiling takes 10.86 seconds\n",
      "\u001b[1;36m(VllmWorkerProcess pid=37075)\u001b[0;0m INFO 02-18 17:06:52 worker.py:267] the current vLLM instance can use total_gpu_memory (79.11GiB) x gpu_memory_utilization (0.95) = 75.15GiB\n",
      "\u001b[1;36m(VllmWorkerProcess pid=37075)\u001b[0;0m INFO 02-18 17:06:52 worker.py:267] model weights take 16.46GiB; non_torch_memory takes 5.13GiB; PyTorch activation peak memory takes 1.39GiB; the rest of the memory reserved for KV Cache is 52.17GiB.\n",
      "INFO 02-18 17:06:52 worker.py:267] Memory profiling takes 10.87 seconds\n",
      "INFO 02-18 17:06:52 worker.py:267] the current vLLM instance can use total_gpu_memory (79.11GiB) x gpu_memory_utilization (0.95) = 75.15GiB\n",
      "INFO 02-18 17:06:52 worker.py:267] model weights take 16.46GiB; non_torch_memory takes 7.16GiB; PyTorch activation peak memory takes 2.61GiB; the rest of the memory reserved for KV Cache is 48.92GiB.\n",
      "\u001b[1;36m(VllmWorkerProcess pid=37074)\u001b[0;0m INFO 02-18 17:06:52 worker.py:267] Memory profiling takes 11.01 seconds\n",
      "\u001b[1;36m(VllmWorkerProcess pid=37074)\u001b[0;0m INFO 02-18 17:06:52 worker.py:267] the current vLLM instance can use total_gpu_memory (79.11GiB) x gpu_memory_utilization (0.95) = 75.15GiB\n",
      "\u001b[1;36m(VllmWorkerProcess pid=37074)\u001b[0;0m INFO 02-18 17:06:52 worker.py:267] model weights take 16.46GiB; non_torch_memory takes 5.13GiB; PyTorch activation peak memory takes 1.39GiB; the rest of the memory reserved for KV Cache is 52.17GiB.\n",
      "INFO 02-18 17:06:53 executor_base.py:110] # CUDA blocks: 40077, # CPU blocks: 65536\n",
      "INFO 02-18 17:06:53 executor_base.py:115] Maximum concurrency for 16384 tokens per request: 78.28x\n",
      "INFO 02-18 17:07:52 llm_engine.py:431] init engine (profile, create kv cache, warmup model) took 70.37 seconds\n",
      "INFO 02-18 17:07:53 api_server.py:756] Using supplied chat template:\n",
      "INFO 02-18 17:07:53 api_server.py:756] None\n",
      "INFO 02-18 17:07:53 launcher.py:21] Available routes are:\n",
      "INFO 02-18 17:07:53 launcher.py:29] Route: /openapi.json, Methods: GET, HEAD\n",
      "INFO 02-18 17:07:53 launcher.py:29] Route: /docs, Methods: GET, HEAD\n",
      "INFO 02-18 17:07:53 launcher.py:29] Route: /docs/oauth2-redirect, Methods: GET, HEAD\n",
      "INFO 02-18 17:07:53 launcher.py:29] Route: /redoc, Methods: GET, HEAD\n",
      "INFO 02-18 17:07:53 launcher.py:29] Route: /health, Methods: GET\n",
      "INFO 02-18 17:07:53 launcher.py:29] Route: /ping, Methods: GET, POST\n",
      "INFO 02-18 17:07:53 launcher.py:29] Route: /tokenize, Methods: POST\n",
      "INFO 02-18 17:07:53 launcher.py:29] Route: /detokenize, Methods: POST\n",
      "INFO 02-18 17:07:53 launcher.py:29] Route: /v1/models, Methods: GET\n",
      "INFO 02-18 17:07:53 launcher.py:29] Route: /version, Methods: GET\n",
      "INFO 02-18 17:07:53 launcher.py:29] Route: /v1/chat/completions, Methods: POST\n",
      "INFO 02-18 17:07:53 launcher.py:29] Route: /v1/completions, Methods: POST\n",
      "INFO 02-18 17:07:53 launcher.py:29] Route: /v1/embeddings, Methods: POST\n",
      "INFO 02-18 17:07:53 launcher.py:29] Route: /pooling, Methods: POST\n",
      "INFO 02-18 17:07:53 launcher.py:29] Route: /score, Methods: POST\n",
      "INFO 02-18 17:07:53 launcher.py:29] Route: /v1/score, Methods: POST\n",
      "INFO 02-18 17:07:53 launcher.py:29] Route: /rerank, Methods: POST\n",
      "INFO 02-18 17:07:53 launcher.py:29] Route: /v1/rerank, Methods: POST\n",
      "INFO 02-18 17:07:53 launcher.py:29] Route: /v2/rerank, Methods: POST\n",
      "INFO 02-18 17:07:53 launcher.py:29] Route: /invocations, Methods: POST\n"
     ]
    },
    {
     "name": "stderr",
     "output_type": "stream",
     "text": [
      "INFO:     Started server process [36659]\n",
      "INFO:     Waiting for application startup.\n",
      "INFO:     Application startup complete.\n",
      "INFO:     Uvicorn running on http://0.0.0.0:8000 (Press CTRL+C to quit)\n"
     ]
    },
    {
     "name": "stdout",
     "output_type": "stream",
     "text": [
      "INFO 02-18 17:07:55 chat_utils.py:332] Detected the chat template content format to be 'string'. You can set `--chat-template-content-format` to override this.\n",
      "INFO:     127.0.0.1:32894 - \"POST /v1/chat/completions HTTP/1.1\" 200 OK\n",
      "vLLM server started succesfully. Logs can be found at ./logs/vllm.log\n"
     ]
    },
    {
     "data": {
      "text/plain": [
       "vLLM(client=<openai.AsyncOpenAI object at 0x7c06928fbb90>, max_concurrent_tokens=1282539, process=<Process 36659>)"
      ]
     },
     "execution_count": 5,
     "metadata": {},
     "output_type": "execute_result"
    }
   ],
   "source": [
    "vllm = await start_vllm(\n",
    "    \"deepseek-ai/DeepSeek-R1-Distill-Llama-70B\",\n",
    "    # env={\"VLLM_ALLOW_LONG_MAX_MODEL_LEN\": \"1\"},\n",
    "    max_concurrent_requests=512,\n",
    "    named_arguments=dict(\n",
    "        block_size=32,\n",
    "        disable_log_requests=True,\n",
    "        # enable_chunked_prefill=True,\n",
    "        enable_prefix_caching=True,\n",
    "        enforce_eager=True,\n",
    "        gpu_memory_utilization=0.95,\n",
    "        max_model_len=16384,\n",
    "        max_num_seqs=512,\n",
    "        max_num_batched_tokens=16384,\n",
    "        num_scheduler_steps=8,\n",
    "        preemption_mode=\"swap\",\n",
    "        return_tokens_as_token_ids=True,\n",
    "        swap_space=80,\n",
    "        tensor_parallel_size=torch.cuda.device_count(),\n",
    "    ),\n",
    "    timeout=120 + 15 * torch.cuda.device_count(),\n",
    ")\n",
    "vllm"
   ]
  },
  {
   "cell_type": "code",
   "execution_count": 6,
   "metadata": {},
   "outputs": [
    {
     "data": {
      "application/vnd.jupyter.widget-view+json": {
       "model_id": "7885fffd9bf14f98b501a9686f6015e2",
       "version_major": 2,
       "version_minor": 0
      },
      "text/plain": [
       "  0%|          | 0/512 [00:00<?, ?it/s]"
      ]
     },
     "metadata": {},
     "output_type": "display_data"
    }
   ],
   "source": [
    "import asyncio\n",
    "\n",
    "tokenized_results = [\n",
    "    result\n",
    "    for results in await get_task_results(\n",
    "        tasks=train_tasks[: 512 // 16],\n",
    "        client=vllm.client,\n",
    "        model=\"deepseek-ai/DeepSeek-R1-Distill-Llama-70B\",\n",
    "        cache=False,\n",
    "        log_results=8,\n",
    "        n=16,\n",
    "        params=ChatCompletionParams(\n",
    "            stream_options={\n",
    "                \"include_usage\": True,\n",
    "            },\n",
    "        ),\n",
    "        semaphore=asyncio.Semaphore(vllm.max_concurrent_tokens // 3800),\n",
    "        transform=TaskResultTokenizer(\n",
    "            AutoTokenizer.from_pretrained(\"deepseek-ai/DeepSeek-R1-Distill-Llama-70B\")\n",
    "        ),\n",
    "    )\n",
    "    for result in results\n",
    "]"
   ]
  },
  {
   "cell_type": "code",
   "execution_count": 7,
   "metadata": {},
   "outputs": [],
   "source": [
    "vllm.process.terminate()\n",
    "kill_vllm_workers()"
   ]
  }
 ],
 "metadata": {
  "kernelspec": {
   "display_name": ".venv",
   "language": "python",
   "name": "python3"
  },
  "language_info": {
   "codemirror_mode": {
    "name": "ipython",
    "version": 3
   },
   "file_extension": ".py",
   "mimetype": "text/x-python",
   "name": "python",
   "nbconvert_exporter": "python",
   "pygments_lexer": "ipython3",
   "version": "3.12.9"
  }
 },
 "nbformat": 4,
 "nbformat_minor": 2
}
