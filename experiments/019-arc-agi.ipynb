{
 "cells": [
  {
   "cell_type": "code",
   "execution_count": 1,
   "metadata": {},
   "outputs": [],
   "source": [
    "%load_ext autoreload\n",
    "%autoreload 2"
   ]
  },
  {
   "cell_type": "code",
   "execution_count": 2,
   "metadata": {},
   "outputs": [
    {
     "data": {
      "text/html": [
       "<style>\n",
       ".cell-output-ipywidget-background {\n",
       "    background-color: transparent !important;\n",
       "}\n",
       ":root {\n",
       "    --jp-widgets-color: var(--vscode-editor-foreground);\n",
       "    --jp-widgets-font-size: var(--vscode-editor-font-size);\n",
       "}  \n",
       "</style>\n"
      ],
      "text/plain": [
       "<IPython.core.display.HTML object>"
      ]
     },
     "metadata": {},
     "output_type": "display_data"
    }
   ],
   "source": [
    "%%html\n",
    "<style>\n",
    ".cell-output-ipywidget-background {\n",
    "    background-color: transparent !important;\n",
    "}\n",
    ":root {\n",
    "    --jp-widgets-color: var(--vscode-editor-foreground);\n",
    "    --jp-widgets-font-size: var(--vscode-editor-font-size);\n",
    "}  \n",
    "</style>"
   ]
  },
  {
   "cell_type": "code",
   "execution_count": 24,
   "metadata": {},
   "outputs": [
    {
     "data": {
      "text/plain": [
       "(80, 64, 64, 272)"
      ]
     },
     "execution_count": 24,
     "metadata": {},
     "output_type": "execute_result"
    }
   ],
   "source": [
    "import asyncio\n",
    "from lib.arc_agi import get_arc_agi_tasks\n",
    "from lib.tasks import ChatCompletionParams, get_task_results\n",
    "import openai\n",
    "import os\n",
    "\n",
    "zebra_grid_tasks = list(get_arc_agi_tasks(partial_credit=0.5))\n",
    "benchmark_tasks = zebra_grid_tasks[:80]\n",
    "val_tasks = zebra_grid_tasks[:64]\n",
    "test_tasks = zebra_grid_tasks[64:128]\n",
    "train_tasks = zebra_grid_tasks[128:]\n",
    "len(benchmark_tasks), len(val_tasks), len(test_tasks), len(train_tasks)"
   ]
  },
  {
   "cell_type": "code",
   "execution_count": 25,
   "metadata": {},
   "outputs": [
    {
     "data": {
      "application/vnd.jupyter.widget-view+json": {
       "model_id": "52b03e003165469da8acb8d957c5e1fd",
       "version_major": 2,
       "version_minor": 0
      },
      "text/plain": [
       "deepseek-r1:   0%|          | 0/80 [00:00<?, ?it/s]"
      ]
     },
     "metadata": {},
     "output_type": "display_data"
    },
    {
     "data": {
      "application/vnd.jupyter.widget-view+json": {
       "model_id": "5f9ef5fc21ee487bb2997d6de76dfeb5",
       "version_major": 2,
       "version_minor": 0
      },
      "text/plain": [
       "r1-qwen-1.5b:   0%|          | 0/80 [00:00<?, ?it/s]"
      ]
     },
     "metadata": {},
     "output_type": "display_data"
    },
    {
     "data": {
      "application/vnd.jupyter.widget-view+json": {
       "model_id": "f22360274f4b4c83b055b7902cb5d1c9",
       "version_major": 2,
       "version_minor": 0
      },
      "text/plain": [
       "qwen-2.5-7b:   0%|          | 0/80 [00:00<?, ?it/s]"
      ]
     },
     "metadata": {},
     "output_type": "display_data"
    },
    {
     "data": {
      "application/vnd.jupyter.widget-view+json": {
       "model_id": "edc8eadd1ca74c93b7484202440fd656",
       "version_major": 2,
       "version_minor": 0
      },
      "text/plain": [
       "r1-qwen-14b:   0%|          | 0/80 [00:00<?, ?it/s]"
      ]
     },
     "metadata": {},
     "output_type": "display_data"
    },
    {
     "data": {
      "application/vnd.jupyter.widget-view+json": {
       "model_id": "93c33095ea5e4b2eb9a9d016b411d42d",
       "version_major": 2,
       "version_minor": 0
      },
      "text/plain": [
       "r1-qwen-32b:   0%|          | 0/80 [00:00<?, ?it/s]"
      ]
     },
     "metadata": {},
     "output_type": "display_data"
    },
    {
     "data": {
      "application/vnd.jupyter.widget-view+json": {
       "model_id": "e3451eaf09da4ad18a52b6c393a78fa7",
       "version_major": 2,
       "version_minor": 0
      },
      "text/plain": [
       "r1-llama-70b:targon:   0%|          | 0/80 [00:00<?, ?it/s]"
      ]
     },
     "metadata": {},
     "output_type": "display_data"
    },
    {
     "data": {
      "application/vnd.jupyter.widget-view+json": {
       "model_id": "0563ebd76a4149538571182c84055c0f",
       "version_major": 2,
       "version_minor": 0
      },
      "text/plain": [
       "r1-llama-70b:samba:   0%|          | 0/80 [00:00<?, ?it/s]"
      ]
     },
     "metadata": {},
     "output_type": "display_data"
    }
   ],
   "source": [
    "fireworks = openai.AsyncOpenAI(\n",
    "    base_url=\"https://api.fireworks.ai/inference/v1\",\n",
    "    api_key=os.getenv(\"FIREWORKS_API_KEY\"),\n",
    ")\n",
    "openrouter = openai.AsyncOpenAI(\n",
    "    base_url=\"https://openrouter.ai/api/v1\", api_key=os.getenv(\"OPENROUTER_API_KEY\")\n",
    ")\n",
    "together = openai.AsyncOpenAI(\n",
    "    base_url=\"https://api.together.xyz/v1\", api_key=os.getenv(\"TOGETHER_API_KEY\")\n",
    ")\n",
    "\n",
    "results = await asyncio.gather(\n",
    "    get_task_results(\n",
    "        tasks=benchmark_tasks,\n",
    "        client=fireworks,\n",
    "        model=\"accounts/fireworks/models/deepseek-r1\",\n",
    "        params=ChatCompletionParams(\n",
    "            max_tokens=2**17,\n",
    "            logprobs=True,\n",
    "            top_logprobs=5,\n",
    "        ),\n",
    "        pbar_desc=\"deepseek-r1\",\n",
    "        prices=(8.0, 8.0),\n",
    "    ),\n",
    "    get_task_results(\n",
    "        tasks=benchmark_tasks,\n",
    "        client=openrouter,\n",
    "        model=\"deepseek/deepseek-r1-distill-qwen-1.5b\",\n",
    "        pbar_desc=\"r1-qwen-1.5b\",\n",
    "        prices=(0.18, 0.18),\n",
    "    ),\n",
    "    get_task_results(\n",
    "        tasks=benchmark_tasks,\n",
    "        client=openrouter,\n",
    "        model=\"qwen/qwen-2.5-7b-instruct\",\n",
    "        pbar_desc=\"qwen-2.5-7b\",\n",
    "        params=ChatCompletionParams(\n",
    "            extra_body={\"provider\": {\"order\": [\"DeepInfra\"], \"allow_fallbacks\": False}},\n",
    "        ),\n",
    "        prices=(0.0025, 0.005),\n",
    "    ),\n",
    "    get_task_results(\n",
    "        tasks=benchmark_tasks,\n",
    "        client=openrouter,\n",
    "        model=\"deepseek/deepseek-r1-distill-qwen-14b\",\n",
    "        pbar_desc=\"r1-qwen-14b\",\n",
    "        prices=(1.6, 1.6),\n",
    "    ),\n",
    "    get_task_results(\n",
    "        tasks=benchmark_tasks,\n",
    "        client=openrouter,\n",
    "        model=\"deepseek/deepseek-r1-distill-qwen-32b\",\n",
    "        params=ChatCompletionParams(\n",
    "            extra_body={\"provider\": {\"order\": [\"DeepInfra\"], \"allow_fallbacks\": False}},\n",
    "        ),\n",
    "        pbar_desc=\"r1-qwen-32b\",\n",
    "        prices=(0.12, 0.18),\n",
    "    ),\n",
    "    get_task_results(\n",
    "        tasks=benchmark_tasks,\n",
    "        client=openrouter,\n",
    "        model=\"deepseek/deepseek-r1-distill-llama-70b:free\",\n",
    "        params=ChatCompletionParams(\n",
    "            extra_body={\"provider\": {\"order\": [\"Targon\"], \"allow_fallbacks\": False}},\n",
    "        ),\n",
    "        pbar_desc=\"r1-llama-70b:targon\",\n",
    "        prices=(0.0, 0.0),\n",
    "    ),\n",
    "    get_task_results(\n",
    "        tasks=benchmark_tasks,\n",
    "        client=openrouter,\n",
    "        model=\"deepseek/deepseek-r1-distill-llama-70b\",\n",
    "        params=ChatCompletionParams(\n",
    "            extra_body={\"provider\": {\"order\": [\"SambaNova\"], \"allow_fallbacks\": False}},\n",
    "        ),\n",
    "        pbar_desc=\"r1-llama-70b:samba\",\n",
    "        prices=(0.7, 1.4),\n",
    "    ),\n",
    ")"
   ]
  },
  {
   "cell_type": "code",
   "execution_count": 23,
   "metadata": {},
   "outputs": [
    {
     "name": "stdout",
     "output_type": "stream",
     "text": [
      "<think>\n",
      "Okay, so I need to figure out the rule that transforms these input grids to the output grids based on the examples provided. Let me take a look at each example carefully and see if I can spot a pattern.\n",
      "\n",
      "Starting with Example 1:\n",
      "Input:\n",
      "0 0 5\n",
      "0 5 0\n",
      "5 0 0\n",
      "Output:\n",
      "3 3 3\n",
      "4 4 4\n",
      "2 2 2\n",
      "\n",
      "Hmm. The input has 5s arranged in a descending diagonal from right to left. The output has each row filled with 3, then 4, then 2. I notice that in Example 1's input, each 5 is in a different row and column. Maybe the position of the 5s affects the output. Let's look for where the 5s are. For the first example, in the first row, the 5 is at column 3, row 1. The second row, column 2, row 2. Third row, column 1, row 3. So the 5s form a diagonal from top-right to bottom-left. The output rows are all 3s, then 4s, then 2s. Not sure how that connects yet.\n",
      "\n",
      "Example 2:\n",
      "Input:\n",
      "0 0 5\n",
      "0 0 5\n",
      "0 0 5\n",
      "Output:\n",
      "3 3 3\n",
      "3 3 3\n",
      "3 3 3\n",
      "\n",
      "Here, all the 5s are in the third column of each row. The output is all 3s. So when all 5s are in the same column, the entire output is filled with 3s. So maybe the columns of the 5s play a role, like their positions determine the output numbers.\n",
      "\n",
      "Example 3:\n",
      "Input:\n",
      "5 0 0\n",
      "0 5 0\n",
      "5 0 0\n",
      "Output:\n",
      "2 2 2\n",
      "4 4 4\n",
      "2 2 2\n",
      "\n",
      "In this case, the first row has a 5 in column 1, the second row column 2, and the third row column 1 again. The output has rows 2 and 3 as 2s and the middle row as 4s. That's interesting. So when there are 5s in column 1 in the first and third rows, those rows have 2, and the middle with 4. So maybe each 5 in a row affects its own row, but how?\n",
      "\n",
      "Example 4:\n",
      "Input:\n",
      "0 5 0\n",
      "0 0 5\n",
      "0 5 0\n",
      "Output:\n",
      "4 4 4\n",
      "3 3 3\n",
      "4 4 4\n",
      "\n",
      "Here, rows 1 and 3 have 5s in column 2, and the middle row has a 5 in column 3. The output is 4s in first and third rows and 3s in the middle. Hmmm.\n",
      "\n",
      "Let me see if I can find a pattern where each row's output number is determined by the positions of the 5 in that row. Wait, but in Example 1, the first row's 5 is in column 3, and the output is 3. The second row's 5 is in column 2, output is 4. Third row's 5 is column 1, output 2. Hmm, maybe there's a relation between the column position and the number. Column 3 leads to 3, column 2 to 4, column 1 to 2. Wait, but 3,4,2? That doesn't seem like an obvious sequence. Or maybe it's not the exact column number. Let's think differently.\n",
      "\n",
      "Looking at the outputs: the numbers used are 2,3,4. Maybe each position of 5 corresponds to a certain number. For example, 5 in the first column results in 2, 5 in the second column is 4, and third column is 3. Wait, let's check:\n",
      "\n",
      "In Example 1:\n",
      "Row 1's 5 is column 3 → output 3. So 3 in output. So if column 3 → 3. Then in Example 2, all 5s are column 3 → outputs 3. So that aligns. In Example 3, there are 5s in column 1 (so output 2) and column 2 (so output 4). But the rows with 5 in column 1 become 2, and column 2 becomes 4, column 1 again becomes 2. That matches. Example 4: the 5s are column 2 and 3. Wait, but row 1's 5 is column 2 → should be 4. But in Example 4's row 2, the 5 is column 3 → output 3, which fits. But for rows 1 and 3 in example 4, the output is 4. So if 5 is in column 2, output 4.\n",
      "\n",
      "So mapping: Column 1 → 2; Column 2 →4; Column3→3. That seems possible. Let's test each example:\n",
      "\n",
      "Example1:\n",
      "\n",
      "Row1 (column3) → 3, so entire row is 3s. \n",
      "\n",
      "Row2 (column2) →4, so 4s. \n",
      "\n",
      "Row3 (column1)→2, so 2s. \n",
      "\n",
      "Which matches.\n",
      "\n",
      "Example2:\n",
      "\n",
      "All rows have 5 in column3 →3, so all rows are 3s.\n",
      "\n",
      "Example3:\n",
      "\n",
      "Rows 1 and 3 (col1) →2. \n",
      "\n",
      "Row2 (col2) →4. Output aligns.\n",
      "\n",
      "Example4:\n",
      "\n",
      "Row1 and 3: 5 in column2 →4. \n",
      "\n",
      "Row2: 5 in column3→3. Which fits the output.\n",
      "\n",
      "So this seems to hold. So the rule is for each row, look at which column the '5' is in, then output the row filled with the number associated with that column: where column 1 →2, column2→4, column3→3. Then for rows without a 5 (but in the examples, every row has exactly one 5?), so we're to check each row. But looking at all examples, each input grid has exactly one 5 per row. For example, example 3 has two rows with 5s? Wait, example3's input is:\n",
      "\n",
      "5 0 0\n",
      "\n",
      "0 5 0\n",
      "\n",
      "5 0 0\n",
      "\n",
      "Wait, rows1,2,3. Row1 has 5 in column1, row2 column2, row3 column1. Wait, no, that input has two rows (1 and3) with 5 in column1. Wait the output for example3 is all 2s, then 4s, then 2s. So each row is determined by the position of 5: row1's 5 is col1 →2, row2's 5 is col2 →4, row3's 5 is col1 →2. So each row individually maps based on the column of the 5. That works.\n",
      "\n",
      "Therefore, the rule is: For each row in the input grid, look at the position (column) of the number 5. Then, replace the entire row with the value corresponding to that column's position. The mapping of column to number is as follows:\n",
      "\n",
      "Column 1 → 2\n",
      "\n",
      "Column 2 →4\n",
      "\n",
      "Column3 →3\n",
      "\n",
      "So, each row is transformed into a row filled with the mapped number based on where the 5 is in that row.\n",
      "\n",
      "Now, let's check the test input. The input provided is:\n",
      "\n",
      "0 0 5\n",
      "\n",
      "5 0 0\n",
      "\n",
      "0 5 0\n",
      "\n",
      "So row1: 5 in column3 → mapped to 3, so the entire row becomes 3s.\n",
      "\n",
      "Row2: 5 in column1 → mapped to 2, so row becomes 2s.\n",
      "\n",
      "Row3: 5 in column2 → mapped to4, so row becomes4s.\n",
      "\n",
      "Thus the output should be:\n",
      "\n",
      "3 3 3\n",
      "\n",
      "2 2 2\n",
      "\n",
      "4 4 4\n",
      "\n",
      "Wait, is that correct? Wait but example1 had each row output according to this mapping, but arranged in a certain order. Let's see if the test input's rows match this.\n",
      "\n",
      "Let me recheck each row:\n",
      "\n",
      "Row1: 0 0 5 → 5 is in column3 → 3 → so row becomes three 3s.\n",
      "\n",
      "Row2: 5 0 0 →5 is in column1 →2 → all 2s.\n",
      "\n",
      "Row3: 0 5 0 →5 in column2 →4 → all 4s.\n",
      "\n",
      "Therefore the output grid would be:\n",
      "\n",
      "3 3 3\n",
      "\n",
      "2 2 2\n",
      "\n",
      "4 4 4\n",
      "\n",
      "But let me check if this contradicts any of the examples. Wait, looking at example4's output, when a row has 5 in column2, the output for that row is4, which is correct. Similarly, example1 with column3→3. So yes, this mapping holds.\n",
      "\n",
      "So applying this rule to the test input gives the output as above.\n",
      "</think>\n",
      "\n",
      "3 3 3\n",
      "2 2 2\n",
      "4 4 4\n"
     ]
    }
   ],
   "source": [
    "print(results[0][0].chat_completions[0].choices[0].message.content)"
   ]
  },
  {
   "cell_type": "code",
   "execution_count": 10,
   "metadata": {},
   "outputs": [
    {
     "ename": "AssertionError",
     "evalue": "",
     "output_type": "error",
     "traceback": [
      "\u001b[0;31m---------------------------------------------------------------------------\u001b[0m",
      "\u001b[0;31mAssertionError\u001b[0m                            Traceback (most recent call last)",
      "Cell \u001b[0;32mIn[10], line 1\u001b[0m\n\u001b[0;32m----> 1\u001b[0m \u001b[38;5;28;01mraise\u001b[39;00m [exception \u001b[38;5;28;01mfor\u001b[39;00m result \u001b[38;5;129;01min\u001b[39;00m results[\u001b[38;5;241m1\u001b[39m][\u001b[38;5;241m0\u001b[39m] \u001b[38;5;28;01mfor\u001b[39;00m exception \u001b[38;5;129;01min\u001b[39;00m result\u001b[38;5;241m.\u001b[39mexceptions][\u001b[38;5;241m0\u001b[39m]\n",
      "File \u001b[0;32m~/github/bradhilton/openpipe-rl/experiments/lib/tasks.py:99\u001b[0m, in \u001b[0;36mget_task_results.<locals>.get_task_result\u001b[0;34m(task, client, model, log_results)\u001b[0m\n\u001b[1;32m     95\u001b[0m \u001b[38;5;28;01mfor\u001b[39;00m reward_future \u001b[38;5;129;01min\u001b[39;00m asyncio\u001b[38;5;241m.\u001b[39mas_completed(\n\u001b[1;32m     96\u001b[0m     _grade(choice, task\u001b[38;5;241m.\u001b[39mgrader) \u001b[38;5;28;01mfor\u001b[39;00m choice \u001b[38;5;129;01min\u001b[39;00m chat_completion\u001b[38;5;241m.\u001b[39mchoices\n\u001b[1;32m     97\u001b[0m ):\n\u001b[1;32m     98\u001b[0m     \u001b[38;5;28;01mtry\u001b[39;00m:\n\u001b[0;32m---> 99\u001b[0m         choice_index, reward \u001b[38;5;241m=\u001b[39m \u001b[38;5;28;01mawait\u001b[39;00m reward_future\n\u001b[1;32m    100\u001b[0m         stats\u001b[38;5;241m.\u001b[39mupdate(\u001b[38;5;28mid\u001b[39m\u001b[38;5;241m=\u001b[39mchat_completion\u001b[38;5;241m.\u001b[39mid, reward\u001b[38;5;241m=\u001b[39mreward)\n\u001b[1;32m    101\u001b[0m         rewards[chat_completion\u001b[38;5;241m.\u001b[39mid, choice_index] \u001b[38;5;241m=\u001b[39m reward\n",
      "File \u001b[0;32m/opt/homebrew/Cellar/python@3.12/3.12.5/Frameworks/Python.framework/Versions/3.12/lib/python3.12/asyncio/tasks.py:631\u001b[0m, in \u001b[0;36mas_completed.<locals>._wait_for_one\u001b[0;34m()\u001b[0m\n\u001b[1;32m    628\u001b[0m \u001b[38;5;28;01mif\u001b[39;00m f \u001b[38;5;129;01mis\u001b[39;00m \u001b[38;5;28;01mNone\u001b[39;00m:\n\u001b[1;32m    629\u001b[0m     \u001b[38;5;66;03m# Dummy value from _on_timeout().\u001b[39;00m\n\u001b[1;32m    630\u001b[0m     \u001b[38;5;28;01mraise\u001b[39;00m exceptions\u001b[38;5;241m.\u001b[39mTimeoutError\n\u001b[0;32m--> 631\u001b[0m \u001b[38;5;28;01mreturn\u001b[39;00m \u001b[43mf\u001b[49m\u001b[38;5;241;43m.\u001b[39;49m\u001b[43mresult\u001b[49m\u001b[43m(\u001b[49m\u001b[43m)\u001b[49m\n",
      "File \u001b[0;32m~/github/bradhilton/openpipe-rl/experiments/lib/tasks.py:93\u001b[0m, in \u001b[0;36mget_task_results.<locals>.get_task_result.<locals>._grade\u001b[0;34m(choice, grader)\u001b[0m\n\u001b[1;32m     92\u001b[0m \u001b[38;5;28;01masync\u001b[39;00m \u001b[38;5;28;01mdef\u001b[39;00m\u001b[38;5;250m \u001b[39m\u001b[38;5;21m_grade\u001b[39m(choice: Choice, grader: Grader) \u001b[38;5;241m-\u001b[39m\u001b[38;5;241m>\u001b[39m \u001b[38;5;28mtuple\u001b[39m[\u001b[38;5;28mint\u001b[39m, \u001b[38;5;28mfloat\u001b[39m]:\n\u001b[0;32m---> 93\u001b[0m     \u001b[38;5;28;01mreturn\u001b[39;00m choice\u001b[38;5;241m.\u001b[39mindex, \u001b[38;5;28;01mawait\u001b[39;00m maybe_await(\u001b[43mgrader\u001b[49m\u001b[43m(\u001b[49m\u001b[43mchoice\u001b[49m\u001b[43m)\u001b[49m)\n",
      "File \u001b[0;32m~/github/bradhilton/openpipe-rl/experiments/lib/zebra_grid.py:36\u001b[0m, in \u001b[0;36mget_zebra_grid_tasks.<locals>.grader\u001b[0;34m(choice, puzzle, pattern)\u001b[0m\n\u001b[1;32m     30\u001b[0m \u001b[38;5;28;01mdef\u001b[39;00m\u001b[38;5;250m \u001b[39m\u001b[38;5;21mgrader\u001b[39m(\n\u001b[1;32m     31\u001b[0m     choice: Choice,\n\u001b[1;32m     32\u001b[0m     puzzle: \u001b[38;5;28mdict\u001b[39m[\u001b[38;5;28mstr\u001b[39m, Any] \u001b[38;5;241m=\u001b[39m puzzle,\n\u001b[1;32m     33\u001b[0m     pattern: re\u001b[38;5;241m.\u001b[39mPattern[\u001b[38;5;28mstr\u001b[39m] \u001b[38;5;241m=\u001b[39m pattern,\n\u001b[1;32m     34\u001b[0m ) \u001b[38;5;241m-\u001b[39m\u001b[38;5;241m>\u001b[39m \u001b[38;5;28mfloat\u001b[39m:\n\u001b[1;32m     35\u001b[0m     content \u001b[38;5;241m=\u001b[39m choice\u001b[38;5;241m.\u001b[39mmessage\u001b[38;5;241m.\u001b[39mcontent\n\u001b[0;32m---> 36\u001b[0m     \u001b[38;5;28;01massert\u001b[39;00m content \u001b[38;5;129;01mis\u001b[39;00m \u001b[38;5;129;01mnot\u001b[39;00m \u001b[38;5;28;01mNone\u001b[39;00m \u001b[38;5;129;01mand\u001b[39;00m \u001b[38;5;28misinstance\u001b[39m(content, \u001b[38;5;28mstr\u001b[39m)\n\u001b[1;32m     37\u001b[0m     num_cells \u001b[38;5;241m=\u001b[39m \u001b[38;5;28msum\u001b[39m(\u001b[38;5;28mlen\u001b[39m(row) \u001b[38;5;28;01mfor\u001b[39;00m row \u001b[38;5;129;01min\u001b[39;00m puzzle[\u001b[38;5;124m\"\u001b[39m\u001b[38;5;124msolution\u001b[39m\u001b[38;5;124m\"\u001b[39m][\u001b[38;5;124m\"\u001b[39m\u001b[38;5;124mrows\u001b[39m\u001b[38;5;124m\"\u001b[39m])\n\u001b[1;32m     38\u001b[0m     num_cells \u001b[38;5;241m=\u001b[39m \u001b[38;5;28msum\u001b[39m(\u001b[38;5;28mlen\u001b[39m(row) \u001b[38;5;28;01mfor\u001b[39;00m row \u001b[38;5;129;01min\u001b[39;00m puzzle[\u001b[38;5;124m\"\u001b[39m\u001b[38;5;124msolution\u001b[39m\u001b[38;5;124m\"\u001b[39m][\u001b[38;5;124m\"\u001b[39m\u001b[38;5;124mrows\u001b[39m\u001b[38;5;124m\"\u001b[39m])\n",
      "\u001b[0;31mAssertionError\u001b[0m: "
     ]
    }
   ],
   "source": [
    "raise [exception for result in results[1] for exception in result.exceptions][0]"
   ]
  }
 ],
 "metadata": {
  "kernelspec": {
   "display_name": ".venv",
   "language": "python",
   "name": "python3"
  },
  "language_info": {
   "codemirror_mode": {
    "name": "ipython",
    "version": 3
   },
   "file_extension": ".py",
   "mimetype": "text/x-python",
   "name": "python",
   "nbconvert_exporter": "python",
   "pygments_lexer": "ipython3",
   "version": "3.12.5"
  }
 },
 "nbformat": 4,
 "nbformat_minor": 2
}
