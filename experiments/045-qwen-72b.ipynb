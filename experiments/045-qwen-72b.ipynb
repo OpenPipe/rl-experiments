{
 "cells": [
  {
   "cell_type": "code",
   "execution_count": 1,
   "metadata": {},
   "outputs": [],
   "source": [
    "%load_ext autoreload\n",
    "%autoreload 2"
   ]
  },
  {
   "cell_type": "code",
   "execution_count": 2,
   "metadata": {},
   "outputs": [
    {
     "data": {
      "text/html": [
       "<style>\n",
       ".cell-output-ipywidget-background {\n",
       "    background-color: transparent !important;\n",
       "}\n",
       ":root {\n",
       "    --jp-widgets-color: var(--vscode-editor-foreground);\n",
       "    --jp-widgets-font-size: var(--vscode-editor-font-size);\n",
       "}  \n",
       "</style>\n"
      ],
      "text/plain": [
       "<IPython.core.display.HTML object>"
      ]
     },
     "metadata": {},
     "output_type": "display_data"
    }
   ],
   "source": [
    "%%html\n",
    "<style>\n",
    ".cell-output-ipywidget-background {\n",
    "    background-color: transparent !important;\n",
    "}\n",
    ":root {\n",
    "    --jp-widgets-color: var(--vscode-editor-foreground);\n",
    "    --jp-widgets-font-size: var(--vscode-editor-font-size);\n",
    "}  \n",
    "</style>"
   ]
  },
  {
   "cell_type": "code",
   "execution_count": 3,
   "metadata": {},
   "outputs": [
    {
     "name": "stderr",
     "output_type": "stream",
     "text": [
      "\u001b[34m\u001b[1mwandb\u001b[0m: Currently logged in as: \u001b[33mbradhilton\u001b[0m to \u001b[32mhttps://api.wandb.ai\u001b[0m. Use \u001b[1m`wandb login --relogin`\u001b[0m to force relogin\n",
      "\u001b[34m\u001b[1mwandb\u001b[0m: Using wandb-core as the SDK backend.  Please refer to https://wandb.me/wandb-core for more information.\n"
     ]
    },
    {
     "data": {
      "application/vnd.jupyter.widget-view+json": {
       "model_id": "6f04df009f5f418e814f48638143fe42",
       "version_major": 2,
       "version_minor": 0
      },
      "text/plain": [
       "VBox(children=(Label(value='Waiting for wandb.init()...\\r'), FloatProgress(value=0.011112765544444554, max=1.0…"
      ]
     },
     "metadata": {},
     "output_type": "display_data"
    },
    {
     "data": {
      "text/html": [
       "Tracking run with wandb version 0.19.6"
      ],
      "text/plain": [
       "<IPython.core.display.HTML object>"
      ]
     },
     "metadata": {},
     "output_type": "display_data"
    },
    {
     "data": {
      "text/html": [
       "Run data is saved locally in <code>/home/gcpuser/sky_workdir/experiments/wandb/run-20250224_230545-045</code>"
      ],
      "text/plain": [
       "<IPython.core.display.HTML object>"
      ]
     },
     "metadata": {},
     "output_type": "display_data"
    },
    {
     "data": {
      "text/html": [
       "Syncing run <strong><a href='https://wandb.ai/bradhilton/rl-experiments/runs/045' target=\"_blank\">045</a></strong> to <a href='https://wandb.ai/bradhilton/rl-experiments' target=\"_blank\">Weights & Biases</a> (<a href='https://wandb.me/developer-guide' target=\"_blank\">docs</a>)<br>"
      ],
      "text/plain": [
       "<IPython.core.display.HTML object>"
      ]
     },
     "metadata": {},
     "output_type": "display_data"
    },
    {
     "data": {
      "text/html": [
       " View project at <a href='https://wandb.ai/bradhilton/rl-experiments' target=\"_blank\">https://wandb.ai/bradhilton/rl-experiments</a>"
      ],
      "text/plain": [
       "<IPython.core.display.HTML object>"
      ]
     },
     "metadata": {},
     "output_type": "display_data"
    },
    {
     "data": {
      "text/html": [
       " View run at <a href='https://wandb.ai/bradhilton/rl-experiments/runs/045' target=\"_blank\">https://wandb.ai/bradhilton/rl-experiments/runs/045</a>"
      ],
      "text/plain": [
       "<IPython.core.display.HTML object>"
      ]
     },
     "metadata": {},
     "output_type": "display_data"
    },
    {
     "data": {
      "text/plain": [
       "(64, 64, 2860)"
      ]
     },
     "execution_count": 3,
     "metadata": {},
     "output_type": "execute_result"
    }
   ],
   "source": [
    "import asyncio\n",
    "from itertools import cycle, islice\n",
    "from lib import models\n",
    "from lib.grpo import GRPO\n",
    "from lib.inference_early_stop import InferenceEarlyStop\n",
    "from lib.pack import packed_tensors_from_tokenized_results, plot_packed_tensors\n",
    "from lib.recipe import ComponentConfig, TuneRecipeConfig\n",
    "from lib.tasks import ChatCompletionParams, get_task_results\n",
    "from lib.temporal_clue import get_temporal_clue_tasks\n",
    "from lib.tokenize import TaskResultTokenizer\n",
    "from lib.tune import (\n",
    "    clear_iteration_dirs,\n",
    "    get_iteration,\n",
    "    get_last_iteration_dir,\n",
    "    last_tune_log,\n",
    "    tune,\n",
    "    Verbosity,\n",
    ")\n",
    "from lib.utils import symlink_shm, rsync_dir\n",
    "from lib.vllm import start_vllm, kill_vllm_workers\n",
    "import polars as pl\n",
    "import random\n",
    "import torch\n",
    "from transformers import AutoTokenizer\n",
    "import wandb\n",
    "\n",
    "run_name = \"045\"\n",
    "run = wandb.init(\n",
    "    project=\"rl-experiments\",\n",
    "    name=run_name,\n",
    "    id=run_name,\n",
    "    resume=\"allow\",\n",
    "    config={\"task\": \"temporal-clue\"},\n",
    ")\n",
    "\n",
    "tasks = list(get_temporal_clue_tasks())\n",
    "val_tasks = tasks[:64]\n",
    "test_tasks = tasks[64:128]\n",
    "train_tasks = tasks[128:]\n",
    "random.seed(42)\n",
    "random.shuffle(train_tasks)\n",
    "len(val_tasks), len(test_tasks), len(train_tasks)"
   ]
  },
  {
   "cell_type": "code",
   "execution_count": 4,
   "metadata": {},
   "outputs": [
    {
     "data": {
      "application/vnd.jupyter.widget-view+json": {
       "model_id": "81b4a0eb6a7b4806906f2256c6782db9",
       "version_major": 2,
       "version_minor": 0
      },
      "text/plain": [
       "tokenizer_config.json:   0%|          | 0.00/7.30k [00:00<?, ?B/s]"
      ]
     },
     "metadata": {},
     "output_type": "display_data"
    },
    {
     "data": {
      "application/vnd.jupyter.widget-view+json": {
       "model_id": "1eaad354e01345b291934d741347816d",
       "version_major": 2,
       "version_minor": 0
      },
      "text/plain": [
       "vocab.json:   0%|          | 0.00/2.78M [00:00<?, ?B/s]"
      ]
     },
     "metadata": {},
     "output_type": "display_data"
    },
    {
     "data": {
      "application/vnd.jupyter.widget-view+json": {
       "model_id": "4b241ec2c08746ae8593314330011569",
       "version_major": 2,
       "version_minor": 0
      },
      "text/plain": [
       "merges.txt:   0%|          | 0.00/1.67M [00:00<?, ?B/s]"
      ]
     },
     "metadata": {},
     "output_type": "display_data"
    },
    {
     "data": {
      "application/vnd.jupyter.widget-view+json": {
       "model_id": "b7d85d1c92364dd0b83539a351ae30c2",
       "version_major": 2,
       "version_minor": 0
      },
      "text/plain": [
       "tokenizer.json:   0%|          | 0.00/7.03M [00:00<?, ?B/s]"
      ]
     },
     "metadata": {},
     "output_type": "display_data"
    }
   ],
   "source": [
    "# GRPO params\n",
    "wandb.config[\"clip_epsilon\"] = clip_epsilon = 0.2\n",
    "wandb.config[\"entropy_coef\"] = entropy_coef = 0.0\n",
    "wandb.config[\"kl_coef\"] = kl_coef = 0.0\n",
    "wandb.config[\"tanh\"] = tanh = True\n",
    "\n",
    "expected_tokens = 1000  # Expected completion tokens per task sample\n",
    "inference_early_stop = InferenceEarlyStop(alpha=0.992, threshold=-3.0)\n",
    "wandb.config[\"lr\"] = lr = 2e-6\n",
    "wandb.config[\"betas\"] = betas = (0.9, 0.99)\n",
    "wandb.config[\"weight_decay\"] = weight_decay = 0.1\n",
    "model = models.qwen_72b()\n",
    "wandb.config[\"model\"] = model.base_model\n",
    "num_iterations = 1_000\n",
    "output_dir = f\"./models/{run_name}\"\n",
    "wandb.config[\"samples_per_task\"] = samples_per_task = 50\n",
    "wandb.config[\"seq_len\"] = seq_len = 16384\n",
    "wandb.config[\"stride\"] = stride = 32\n",
    "wandb.config[\"tasks_per_iter\"] = tasks_per_iter = 64\n",
    "sync_dir = symlink_shm(output_dir) or output_dir\n",
    "tokenizer = AutoTokenizer.from_pretrained(model.base_model)\n",
    "verbosity: Verbosity = 2"
   ]
  },
  {
   "cell_type": "code",
   "execution_count": null,
   "metadata": {},
   "outputs": [
    {
     "name": "stdout",
     "output_type": "stream",
     "text": [
      "$ vllm serve Qwen/Qwen2.5-72B-Instruct --block-size=32 --disable-log-requests --enable-prefix-caching --enforce-eager --gpu-memory-utilization=0.95 --max-model-len=16384 --max-num-seqs=1024 --max-num-batched-tokens=16384 --num-scheduler-steps=8 --preemption-mode=swap --return-tokens-as-token-ids --swap-space=80 --tensor-parallel-size=8 --port=8000 --api-key=default\n",
      "INFO 02-24 23:05:55 __init__.py:190] Automatically detected platform cuda.\n",
      "INFO 02-24 23:05:57 api_server.py:840] vLLM API server version 0.7.2\n",
      "INFO 02-24 23:05:57 api_server.py:841] args: Namespace(subparser='serve', model_tag='Qwen/Qwen2.5-72B-Instruct', config='', host=None, port=8000, uvicorn_log_level='info', allow_credentials=False, allowed_origins=['*'], allowed_methods=['*'], allowed_headers=['*'], api_key='default', lora_modules=None, prompt_adapters=None, chat_template=None, chat_template_content_format='auto', response_role='assistant', ssl_keyfile=None, ssl_certfile=None, ssl_ca_certs=None, ssl_cert_reqs=0, root_path=None, middleware=[], return_tokens_as_token_ids=True, disable_frontend_multiprocessing=False, enable_request_id_headers=False, enable_auto_tool_choice=False, enable_reasoning=False, reasoning_parser=None, tool_call_parser=None, tool_parser_plugin='', model='Qwen/Qwen2.5-72B-Instruct', task='auto', tokenizer=None, skip_tokenizer_init=False, revision=None, code_revision=None, tokenizer_revision=None, tokenizer_mode='auto', trust_remote_code=False, allowed_local_media_path=None, download_dir=None, load_format='auto', config_format=<ConfigFormat.AUTO: 'auto'>, dtype='auto', kv_cache_dtype='auto', max_model_len=16384, guided_decoding_backend='xgrammar', logits_processor_pattern=None, model_impl='auto', distributed_executor_backend=None, pipeline_parallel_size=1, tensor_parallel_size=8, max_parallel_loading_workers=None, ray_workers_use_nsight=False, block_size=32, enable_prefix_caching=True, disable_sliding_window=False, use_v2_block_manager=True, num_lookahead_slots=0, seed=0, swap_space=80.0, cpu_offload_gb=0, gpu_memory_utilization=0.95, num_gpu_blocks_override=None, max_num_batched_tokens=16384, max_num_seqs=1024, max_logprobs=20, disable_log_stats=False, quantization=None, rope_scaling=None, rope_theta=None, hf_overrides=None, enforce_eager=True, max_seq_len_to_capture=8192, disable_custom_all_reduce=False, tokenizer_pool_size=0, tokenizer_pool_type='ray', tokenizer_pool_extra_config=None, limit_mm_per_prompt=None, mm_processor_kwargs=None, disable_mm_preprocessor_cache=False, enable_lora=False, enable_lora_bias=False, max_loras=1, max_lora_rank=16, lora_extra_vocab_size=256, lora_dtype='auto', long_lora_scaling_factors=None, max_cpu_loras=None, fully_sharded_loras=False, enable_prompt_adapter=False, max_prompt_adapters=1, max_prompt_adapter_token=0, device='auto', num_scheduler_steps=8, multi_step_stream_outputs=True, scheduler_delay_factor=0.0, enable_chunked_prefill=None, speculative_model=None, speculative_model_quantization=None, num_speculative_tokens=None, speculative_disable_mqa_scorer=False, speculative_draft_tensor_parallel_size=None, speculative_max_model_len=None, speculative_disable_by_batch_size=None, ngram_prompt_lookup_max=None, ngram_prompt_lookup_min=None, spec_decoding_acceptance_method='rejection_sampler', typical_acceptance_sampler_posterior_threshold=None, typical_acceptance_sampler_posterior_alpha=None, disable_logprobs_during_spec_decoding=None, model_loader_extra_config=None, ignore_patterns=[], preemption_mode='swap', served_model_name=None, qlora_adapter_name_or_path=None, otlp_traces_endpoint=None, collect_detailed_traces=None, disable_async_output_proc=False, scheduling_policy='fcfs', override_neuron_config=None, override_pooler_config=None, compilation_config=None, kv_transfer_config=None, worker_cls='auto', generation_config=None, override_generation_config=None, enable_sleep_mode=False, calculate_kv_scales=False, disable_log_requests=True, max_log_len=None, disable_fastapi_docs=False, enable_prompt_tokens_details=False, dispatch_function=<function serve at 0x7183cbf102c0>)\n",
      "INFO 02-24 23:05:57 api_server.py:206] Started engine process with PID 20700\n",
      "INFO 02-24 23:06:00 __init__.py:190] Automatically detected platform cuda.\n",
      "INFO 02-24 23:06:02 config.py:542] This model supports multiple tasks: {'reward', 'embed', 'score', 'classify', 'generate'}. Defaulting to 'generate'.\n",
      "INFO 02-24 23:06:02 config.py:1401] Defaulting to use mp for distributed inference\n",
      "WARNING 02-24 23:06:02 cuda.py:95] To see benefits of async output processing, enable CUDA graph. Since, enforce-eager is enabled, async output processor cannot be used\n",
      "WARNING 02-24 23:06:02 config.py:678] Async output processing is not supported on the current platform type cuda.\n",
      "INFO 02-24 23:06:06 config.py:542] This model supports multiple tasks: {'classify', 'reward', 'score', 'generate', 'embed'}. Defaulting to 'generate'.\n",
      "INFO 02-24 23:06:06 config.py:1401] Defaulting to use mp for distributed inference\n",
      "WARNING 02-24 23:06:06 cuda.py:95] To see benefits of async output processing, enable CUDA graph. Since, enforce-eager is enabled, async output processor cannot be used\n",
      "WARNING 02-24 23:06:06 config.py:678] Async output processing is not supported on the current platform type cuda.\n",
      "INFO 02-24 23:06:06 llm_engine.py:234] Initializing a V0 LLM engine (v0.7.2) with config: model='Qwen/Qwen2.5-72B-Instruct', speculative_config=None, tokenizer='Qwen/Qwen2.5-72B-Instruct', skip_tokenizer_init=False, tokenizer_mode=auto, revision=None, override_neuron_config=None, tokenizer_revision=None, trust_remote_code=False, dtype=torch.bfloat16, max_seq_len=16384, download_dir=None, load_format=LoadFormat.AUTO, tensor_parallel_size=8, pipeline_parallel_size=1, disable_custom_all_reduce=False, quantization=None, enforce_eager=True, kv_cache_dtype=auto,  device_config=cuda, decoding_config=DecodingConfig(guided_decoding_backend='xgrammar'), observability_config=ObservabilityConfig(otlp_traces_endpoint=None, collect_model_forward_time=False, collect_model_execute_time=False), seed=0, served_model_name=Qwen/Qwen2.5-72B-Instruct, num_scheduler_steps=8, multi_step_stream_outputs=True, enable_prefix_caching=True, chunked_prefill_enabled=False, use_async_output_proc=False, disable_mm_preprocessor_cache=False, mm_processor_kwargs=None, pooler_config=None, compilation_config={\"splitting_ops\":[],\"compile_sizes\":[],\"cudagraph_capture_sizes\":[],\"max_capture_size\":0}, use_cached_outputs=True, \n",
      "WARNING 02-24 23:06:06 multiproc_worker_utils.py:300] Reducing Torch parallelism from 104 threads to 1 to avoid unnecessary CPU contention. Set OMP_NUM_THREADS in the external environment to tune this value as needed.\n",
      "INFO 02-24 23:06:06 custom_cache_manager.py:19] Setting Triton cache manager to: vllm.triton_utils.custom_cache_manager:CustomCacheManager\n",
      "INFO 02-24 23:06:07 cuda.py:230] Using Flash Attention backend.\n",
      "WARNING 02-24 23:06:07 registry.py:340] `mm_limits` has already been set for model=Qwen/Qwen2.5-72B-Instruct, and will be overwritten by the new values.\n",
      "INFO 02-24 23:06:10 __init__.py:190] Automatically detected platform cuda.\n",
      "INFO 02-24 23:06:10 __init__.py:190] Automatically detected platform cuda.\n",
      "INFO 02-24 23:06:10 __init__.py:190] Automatically detected platform cuda.\n",
      "INFO 02-24 23:06:10 __init__.py:190] Automatically detected platform cuda.\n",
      "INFO 02-24 23:06:10 __init__.py:190] Automatically detected platform cuda.\n",
      "INFO 02-24 23:06:10 __init__.py:190] Automatically detected platform cuda.\n",
      "INFO 02-24 23:06:10 __init__.py:190] Automatically detected platform cuda.\n",
      "\u001b[1;36m(VllmWorkerProcess pid=20987)\u001b[0;0m INFO 02-24 23:06:12 multiproc_worker_utils.py:229] Worker ready; awaiting tasks\n",
      "\u001b[1;36m(VllmWorkerProcess pid=20993)\u001b[0;0m INFO 02-24 23:06:12 multiproc_worker_utils.py:229] Worker ready; awaiting tasks\n",
      "\u001b[1;36m(VllmWorkerProcess pid=20991)\u001b[0;0m INFO 02-24 23:06:12 multiproc_worker_utils.py:229] Worker ready; awaiting tasks\n",
      "\u001b[1;36m(VllmWorkerProcess pid=20990)\u001b[0;0m INFO 02-24 23:06:12 multiproc_worker_utils.py:229] Worker ready; awaiting tasks\n",
      "\u001b[1;36m(VllmWorkerProcess pid=20988)\u001b[0;0m INFO 02-24 23:06:12 multiproc_worker_utils.py:229] Worker ready; awaiting tasks\n",
      "\u001b[1;36m(VllmWorkerProcess pid=20992)\u001b[0;0m INFO 02-24 23:06:12 multiproc_worker_utils.py:229] Worker ready; awaiting tasks\n",
      "\u001b[1;36m(VllmWorkerProcess pid=20989)\u001b[0;0m INFO 02-24 23:06:12 multiproc_worker_utils.py:229] Worker ready; awaiting tasks\n",
      "\u001b[1;36m(VllmWorkerProcess pid=20987)\u001b[0;0m INFO 02-24 23:06:13 cuda.py:230] Using Flash Attention backend.\n",
      "\u001b[1;36m(VllmWorkerProcess pid=20987)\u001b[0;0m WARNING 02-24 23:06:13 registry.py:340] `mm_limits` has already been set for model=Qwen/Qwen2.5-72B-Instruct, and will be overwritten by the new values.\n",
      "\u001b[1;36m(VllmWorkerProcess pid=20993)\u001b[0;0m INFO 02-24 23:06:13 cuda.py:230] Using Flash Attention backend.\n",
      "\u001b[1;36m(VllmWorkerProcess pid=20993)\u001b[0;0m WARNING 02-24 23:06:13 registry.py:340] `mm_limits` has already been set for model=Qwen/Qwen2.5-72B-Instruct, and will be overwritten by the new values.\n",
      "\u001b[1;36m(VllmWorkerProcess pid=20988)\u001b[0;0m INFO 02-24 23:06:13 cuda.py:230] Using Flash Attention backend.\n",
      "\u001b[1;36m(VllmWorkerProcess pid=20988)\u001b[0;0m WARNING 02-24 23:06:13 registry.py:340] `mm_limits` has already been set for model=Qwen/Qwen2.5-72B-Instruct, and will be overwritten by the new values.\n",
      "\u001b[1;36m(VllmWorkerProcess pid=20992)\u001b[0;0m INFO 02-24 23:06:13 cuda.py:230] Using Flash Attention backend.\n",
      "\u001b[1;36m(VllmWorkerProcess pid=20992)\u001b[0;0m WARNING 02-24 23:06:13 registry.py:340] `mm_limits` has already been set for model=Qwen/Qwen2.5-72B-Instruct, and will be overwritten by the new values.\n",
      "\u001b[1;36m(VllmWorkerProcess pid=20990)\u001b[0;0m INFO 02-24 23:06:13 cuda.py:230] Using Flash Attention backend.\n",
      "\u001b[1;36m(VllmWorkerProcess pid=20990)\u001b[0;0m WARNING 02-24 23:06:13 registry.py:340] `mm_limits` has already been set for model=Qwen/Qwen2.5-72B-Instruct, and will be overwritten by the new values.\n",
      "\u001b[1;36m(VllmWorkerProcess pid=20991)\u001b[0;0m INFO 02-24 23:06:13 cuda.py:230] Using Flash Attention backend.\n",
      "\u001b[1;36m(VllmWorkerProcess pid=20991)\u001b[0;0m WARNING 02-24 23:06:13 registry.py:340] `mm_limits` has already been set for model=Qwen/Qwen2.5-72B-Instruct, and will be overwritten by the new values.\n",
      "\u001b[1;36m(VllmWorkerProcess pid=20989)\u001b[0;0m INFO 02-24 23:06:13 cuda.py:230] Using Flash Attention backend.\n",
      "\u001b[1;36m(VllmWorkerProcess pid=20989)\u001b[0;0m WARNING 02-24 23:06:13 registry.py:340] `mm_limits` has already been set for model=Qwen/Qwen2.5-72B-Instruct, and will be overwritten by the new values.\n",
      "INFO 02-24 23:06:18 utils.py:950] Found nccl from library libnccl.so.2\n",
      "\u001b[1;36m(VllmWorkerProcess pid=20992)\u001b[0;0m INFO 02-24 23:06:18 utils.py:950] Found nccl from library libnccl.so.2\n",
      "INFO 02-24 23:06:18 pynccl.py:69] vLLM is using nccl==2.21.5\n",
      "\u001b[1;36m(VllmWorkerProcess pid=20991)\u001b[0;0m INFO 02-24 23:06:18 utils.py:950] Found nccl from library libnccl.so.2\n",
      "\u001b[1;36m(VllmWorkerProcess pid=20993)\u001b[0;0m INFO 02-24 23:06:18 utils.py:950] Found nccl from library libnccl.so.2\n",
      "\u001b[1;36m(VllmWorkerProcess pid=20992)\u001b[0;0m INFO 02-24 23:06:18 pynccl.py:69] vLLM is using nccl==2.21.5\n",
      "\u001b[1;36m(VllmWorkerProcess pid=20988)\u001b[0;0m INFO 02-24 23:06:18 utils.py:950] Found nccl from library libnccl.so.2\n",
      "\u001b[1;36m(VllmWorkerProcess pid=20987)\u001b[0;0m INFO 02-24 23:06:18 utils.py:950] Found nccl from library libnccl.so.2\n",
      "\u001b[1;36m(VllmWorkerProcess pid=20990)\u001b[0;0m INFO 02-24 23:06:18 utils.py:950] Found nccl from library libnccl.so.2\n",
      "\u001b[1;36m(VllmWorkerProcess pid=20993)\u001b[0;0m INFO 02-24 23:06:18 pynccl.py:69] vLLM is using nccl==2.21.5\n",
      "\u001b[1;36m(VllmWorkerProcess pid=20991)\u001b[0;0m INFO 02-24 23:06:18 pynccl.py:69] vLLM is using nccl==2.21.5\n",
      "\u001b[1;36m(VllmWorkerProcess pid=20988)\u001b[0;0m \u001b[1;36m(VllmWorkerProcess pid=20989)\u001b[0;0m INFO 02-24 23:06:18 pynccl.py:69] vLLM is using nccl==2.21.5\n",
      "INFO 02-24 23:06:18 utils.py:950] Found nccl from library libnccl.so.2\n",
      "\u001b[1;36m(VllmWorkerProcess pid=20987)\u001b[0;0m INFO 02-24 23:06:18 pynccl.py:69] vLLM is using nccl==2.21.5\n",
      "\u001b[1;36m(VllmWorkerProcess pid=20990)\u001b[0;0m INFO 02-24 23:06:18 pynccl.py:69] vLLM is using nccl==2.21.5\n",
      "\u001b[1;36m(VllmWorkerProcess pid=20989)\u001b[0;0m INFO 02-24 23:06:18 pynccl.py:69] vLLM is using nccl==2.21.5\n",
      "INFO 02-24 23:06:25 custom_all_reduce_utils.py:206] generating GPU P2P access cache in /home/gcpuser/.cache/vllm/gpu_p2p_access_cache_for_0,1,2,3,4,5,6,7.json\n",
      "INFO 02-24 23:07:07 custom_all_reduce_utils.py:244] reading GPU P2P access cache from /home/gcpuser/.cache/vllm/gpu_p2p_access_cache_for_0,1,2,3,4,5,6,7.json\n",
      "\u001b[1;36m(VllmWorkerProcess pid=20993)\u001b[0;0m INFO 02-24 23:07:07 custom_all_reduce_utils.py:244] reading GPU P2P access cache from /home/gcpuser/.cache/vllm/gpu_p2p_access_cache_for_0,1,2,3,4,5,6,7.json\n",
      "\u001b[1;36m(VllmWorkerProcess pid=20990)\u001b[0;0m INFO 02-24 23:07:07 custom_all_reduce_utils.py:244] reading GPU P2P access cache from /home/gcpuser/.cache/vllm/gpu_p2p_access_cache_for_0,1,2,3,4,5,6,7.json\n",
      "\u001b[1;36m(VllmWorkerProcess pid=20987)\u001b[0;0m INFO 02-24 23:07:07 custom_all_reduce_utils.py:244] reading GPU P2P access cache from /home/gcpuser/.cache/vllm/gpu_p2p_access_cache_for_0,1,2,3,4,5,6,7.json\n",
      "\u001b[1;36m(VllmWorkerProcess pid=20992)\u001b[0;0m INFO 02-24 23:07:07 custom_all_reduce_utils.py:244] reading GPU P2P access cache from /home/gcpuser/.cache/vllm/gpu_p2p_access_cache_for_0,1,2,3,4,5,6,7.json\n",
      "\u001b[1;36m(VllmWorkerProcess pid=20988)\u001b[0;0m INFO 02-24 23:07:07 custom_all_reduce_utils.py:244] reading GPU P2P access cache from /home/gcpuser/.cache/vllm/gpu_p2p_access_cache_for_0,1,2,3,4,5,6,7.json\n",
      "\u001b[1;36m(VllmWorkerProcess pid=20989)\u001b[0;0m INFO 02-24 23:07:07 custom_all_reduce_utils.py:244] reading GPU P2P access cache from /home/gcpuser/.cache/vllm/gpu_p2p_access_cache_for_0,1,2,3,4,5,6,7.json\n",
      "\u001b[1;36m(VllmWorkerProcess pid=20991)\u001b[0;0m INFO 02-24 23:07:07 custom_all_reduce_utils.py:244] reading GPU P2P access cache from /home/gcpuser/.cache/vllm/gpu_p2p_access_cache_for_0,1,2,3,4,5,6,7.json\n",
      "INFO 02-24 23:07:07 shm_broadcast.py:258] vLLM message queue communication handle: Handle(connect_ip='127.0.0.1', local_reader_ranks=[1, 2, 3, 4, 5, 6, 7], buffer_handle=(7, 4194304, 6, 'psm_7579578e'), local_subscribe_port=60159, remote_subscribe_port=None)\n",
      "\u001b[1;36m(VllmWorkerProcess pid=20988)\u001b[0;0m INFO 02-24 23:07:07 model_runner.py:1110] Starting to load model Qwen/Qwen2.5-72B-Instruct...\n",
      "\u001b[1;36m(VllmWorkerProcess pid=20990)\u001b[0;0m INFO 02-24 23:07:07 model_runner.py:1110] Starting to load model Qwen/Qwen2.5-72B-Instruct...\n",
      "INFO 02-24 23:07:07 model_runner.py:1110] Starting to load model Qwen/Qwen2.5-72B-Instruct...\n",
      "\u001b[1;36m(VllmWorkerProcess pid=20993)\u001b[0;0m INFO 02-24 23:07:07 model_runner.py:1110] Starting to load model Qwen/Qwen2.5-72B-Instruct...\n",
      "\u001b[1;36m(VllmWorkerProcess pid=20992)\u001b[0;0m INFO 02-24 23:07:07 model_runner.py:1110] Starting to load model Qwen/Qwen2.5-72B-Instruct...\n",
      "\u001b[1;36m(VllmWorkerProcess pid=20989)\u001b[0;0m INFO 02-24 23:07:07 model_runner.py:1110] Starting to load model Qwen/Qwen2.5-72B-Instruct...\n",
      "\u001b[1;36m(VllmWorkerProcess pid=20991)\u001b[0;0m INFO 02-24 23:07:07 model_runner.py:1110] Starting to load model Qwen/Qwen2.5-72B-Instruct...\n",
      "\u001b[1;36m(VllmWorkerProcess pid=20987)\u001b[0;0m INFO 02-24 23:07:07 model_runner.py:1110] Starting to load model Qwen/Qwen2.5-72B-Instruct...\n",
      "INFO 02-24 23:07:08 weight_utils.py:252] Using model weights format ['*.safetensors']\n",
      "\u001b[1;36m(VllmWorkerProcess pid=20991)\u001b[0;0m INFO 02-24 23:07:08 weight_utils.py:252] Using model weights format ['*.safetensors']\n",
      "\u001b[1;36m(VllmWorkerProcess pid=20990)\u001b[0;0m INFO 02-24 23:07:08 weight_utils.py:252] Using model weights format ['*.safetensors']\n",
      "\u001b[1;36m(VllmWorkerProcess pid=20992)\u001b[0;0m INFO 02-24 23:07:08 weight_utils.py:252] Using model weights format ['*.safetensors']\n",
      "\u001b[1;36m(VllmWorkerProcess pid=20993)\u001b[0;0m INFO 02-24 23:07:08 weight_utils.py:252] Using model weights format ['*.safetensors']\n",
      "\u001b[1;36m(VllmWorkerProcess pid=20987)\u001b[0;0m INFO 02-24 23:07:08 weight_utils.py:252] Using model weights format ['*.safetensors']\n",
      "\u001b[1;36m(VllmWorkerProcess pid=20989)\u001b[0;0m INFO 02-24 23:07:08 weight_utils.py:252] Using model weights format ['*.safetensors']\n",
      "\u001b[1;36m(VllmWorkerProcess pid=20988)\u001b[0;0m INFO 02-24 23:07:08 weight_utils.py:252] Using model weights format ['*.safetensors']\n"
     ]
    },
    {
     "name": "stderr",
     "output_type": "stream",
     "text": [
      "Loading safetensors checkpoint shards:   0% Completed | 0/37 [00:00<?, ?it/s]\n",
      "Loading safetensors checkpoint shards:   3% Completed | 1/37 [00:00<00:05,  6.15it/s]\n",
      "Loading safetensors checkpoint shards:   5% Completed | 2/37 [00:00<00:05,  5.86it/s]\n",
      "Loading safetensors checkpoint shards:   8% Completed | 3/37 [00:00<00:05,  5.79it/s]\n",
      "Loading safetensors checkpoint shards:  11% Completed | 4/37 [00:00<00:08,  3.77it/s]\n",
      "Loading safetensors checkpoint shards:  14% Completed | 5/37 [00:01<00:08,  3.99it/s]\n",
      "Loading safetensors checkpoint shards:  16% Completed | 6/37 [00:01<00:07,  4.11it/s]\n",
      "Loading safetensors checkpoint shards:  19% Completed | 7/37 [00:01<00:07,  4.22it/s]\n",
      "Loading safetensors checkpoint shards:  22% Completed | 8/37 [00:01<00:06,  4.51it/s]\n",
      "Loading safetensors checkpoint shards:  24% Completed | 9/37 [00:02<00:06,  4.45it/s]\n",
      "Loading safetensors checkpoint shards:  27% Completed | 10/37 [00:02<00:05,  4.57it/s]\n",
      "Loading safetensors checkpoint shards:  30% Completed | 11/37 [00:02<00:05,  4.76it/s]\n",
      "Loading safetensors checkpoint shards:  32% Completed | 12/37 [00:02<00:05,  4.88it/s]\n",
      "Loading safetensors checkpoint shards:  35% Completed | 13/37 [00:02<00:04,  4.91it/s]\n",
      "Loading safetensors checkpoint shards:  38% Completed | 14/37 [00:03<00:04,  4.97it/s]\n",
      "Loading safetensors checkpoint shards:  41% Completed | 15/37 [00:03<00:04,  4.98it/s]\n",
      "Loading safetensors checkpoint shards:  43% Completed | 16/37 [00:03<00:04,  5.03it/s]\n",
      "Loading safetensors checkpoint shards:  46% Completed | 17/37 [00:03<00:03,  5.07it/s]\n",
      "Loading safetensors checkpoint shards:  49% Completed | 18/37 [00:03<00:03,  5.65it/s]\n",
      "Loading safetensors checkpoint shards:  51% Completed | 19/37 [00:03<00:03,  5.58it/s]\n",
      "Loading safetensors checkpoint shards:  54% Completed | 20/37 [00:04<00:03,  5.41it/s]\n",
      "Loading safetensors checkpoint shards:  57% Completed | 21/37 [00:04<00:03,  5.25it/s]\n",
      "Loading safetensors checkpoint shards:  59% Completed | 22/37 [00:04<00:02,  5.21it/s]\n",
      "Loading safetensors checkpoint shards:  62% Completed | 23/37 [00:04<00:02,  4.91it/s]\n",
      "Loading safetensors checkpoint shards:  65% Completed | 24/37 [00:04<00:02,  4.92it/s]\n",
      "Loading safetensors checkpoint shards:  68% Completed | 25/37 [00:05<00:02,  4.97it/s]\n",
      "Loading safetensors checkpoint shards:  70% Completed | 26/37 [00:05<00:02,  4.75it/s]\n",
      "Loading safetensors checkpoint shards:  73% Completed | 27/37 [00:05<00:02,  4.81it/s]\n",
      "Loading safetensors checkpoint shards:  76% Completed | 28/37 [00:05<00:01,  4.88it/s]\n",
      "Loading safetensors checkpoint shards:  78% Completed | 29/37 [00:05<00:01,  4.80it/s]\n",
      "Loading safetensors checkpoint shards:  81% Completed | 30/37 [00:06<00:01,  4.63it/s]\n",
      "Loading safetensors checkpoint shards:  84% Completed | 31/37 [00:06<00:01,  4.78it/s]\n",
      "Loading safetensors checkpoint shards:  86% Completed | 32/37 [00:06<00:01,  4.84it/s]\n",
      "Loading safetensors checkpoint shards:  89% Completed | 33/37 [00:06<00:00,  4.90it/s]\n",
      "Loading safetensors checkpoint shards:  92% Completed | 34/37 [00:07<00:00,  4.97it/s]\n",
      "Loading safetensors checkpoint shards:  95% Completed | 35/37 [00:07<00:00,  5.83it/s]\n",
      "Loading safetensors checkpoint shards:  97% Completed | 36/37 [00:07<00:00,  5.33it/s]\n",
      "Loading safetensors checkpoint shards: 100% Completed | 37/37 [00:07<00:00,  5.24it/s]\n",
      "Loading safetensors checkpoint shards: 100% Completed | 37/37 [00:07<00:00,  4.92it/s]\n",
      "\n"
     ]
    },
    {
     "name": "stdout",
     "output_type": "stream",
     "text": [
      "INFO 02-24 23:10:02 model_runner.py:1115] Loading model weights took 16.9989 GB\n",
      "\u001b[1;36m(VllmWorkerProcess pid=20992)\u001b[0;0m INFO 02-24 23:10:02 model_runner.py:1115] Loading model weights took 16.9989 GB\n",
      "\u001b[1;36m(VllmWorkerProcess pid=20990)\u001b[0;0m INFO 02-24 23:10:02 model_runner.py:1115] Loading model weights took 16.9989 GB\n",
      "\u001b[1;36m(VllmWorkerProcess pid=20993)\u001b[0;0m INFO 02-24 23:10:02 model_runner.py:1115] Loading model weights took 16.9989 GB\n",
      "\u001b[1;36m(VllmWorkerProcess pid=20988)\u001b[0;0m INFO 02-24 23:10:03 model_runner.py:1115] Loading model weights took 16.9989 GB\n",
      "\u001b[1;36m(VllmWorkerProcess pid=20987)\u001b[0;0m INFO 02-24 23:10:03 model_runner.py:1115] Loading model weights took 16.9989 GB\n",
      "\u001b[1;36m(VllmWorkerProcess pid=20989)\u001b[0;0m INFO 02-24 23:10:03 model_runner.py:1115] Loading model weights took 16.9989 GB\n",
      "\u001b[1;36m(VllmWorkerProcess pid=20991)\u001b[0;0m INFO 02-24 23:10:03 model_runner.py:1115] Loading model weights took 16.9989 GB\n",
      "\u001b[1;36m(VllmWorkerProcess pid=20992)\u001b[0;0m INFO 02-24 23:10:19 worker.py:267] Memory profiling takes 15.59 seconds\n",
      "\u001b[1;36m(VllmWorkerProcess pid=20992)\u001b[0;0m INFO 02-24 23:10:19 worker.py:267] the current vLLM instance can use total_gpu_memory (79.11GiB) x gpu_memory_utilization (0.95) = 75.15GiB\n",
      "\u001b[1;36m(VllmWorkerProcess pid=20992)\u001b[0;0m INFO 02-24 23:10:19 worker.py:267] model weights take 17.00GiB; non_torch_memory takes 5.13GiB; PyTorch activation peak memory takes 1.62GiB; the rest of the memory reserved for KV Cache is 51.40GiB.\n",
      "\u001b[1;36m(VllmWorkerProcess pid=20993)\u001b[0;0m INFO 02-24 23:10:19 worker.py:267] Memory profiling takes 15.60 seconds\n",
      "\u001b[1;36m(VllmWorkerProcess pid=20993)\u001b[0;0m INFO 02-24 23:10:19 worker.py:267] the current vLLM instance can use total_gpu_memory (79.11GiB) x gpu_memory_utilization (0.95) = 75.15GiB\n",
      "\u001b[1;36m(VllmWorkerProcess pid=20993)\u001b[0;0m INFO 02-24 23:10:19 worker.py:267] model weights take 17.00GiB; non_torch_memory takes 4.66GiB; PyTorch activation peak memory takes 1.62GiB; the rest of the memory reserved for KV Cache is 51.87GiB.\n",
      "\u001b[1;36m(VllmWorkerProcess pid=20990)\u001b[0;0m INFO 02-24 23:10:19 worker.py:267] Memory profiling takes 15.61 seconds\n",
      "\u001b[1;36m(VllmWorkerProcess pid=20990)\u001b[0;0m INFO 02-24 23:10:19 worker.py:267] the current vLLM instance can use total_gpu_memory (79.11GiB) x gpu_memory_utilization (0.95) = 75.15GiB\n",
      "\u001b[1;36m(VllmWorkerProcess pid=20990)\u001b[0;0m INFO 02-24 23:10:19 worker.py:267] model weights take 17.00GiB; non_torch_memory takes 5.13GiB; PyTorch activation peak memory takes 1.62GiB; the rest of the memory reserved for KV Cache is 51.40GiB.\n",
      "\u001b[1;36m(VllmWorkerProcess pid=20989)\u001b[0;0m INFO 02-24 23:10:19 worker.py:267] Memory profiling takes 15.63 seconds\n",
      "\u001b[1;36m(VllmWorkerProcess pid=20989)\u001b[0;0m INFO 02-24 23:10:19 worker.py:267] the current vLLM instance can use total_gpu_memory (79.11GiB) x gpu_memory_utilization (0.95) = 75.15GiB\n",
      "\u001b[1;36m(VllmWorkerProcess pid=20989)\u001b[0;0m INFO 02-24 23:10:19 worker.py:267] model weights take 17.00GiB; non_torch_memory takes 5.13GiB; PyTorch activation peak memory takes 1.62GiB; the rest of the memory reserved for KV Cache is 51.40GiB.\n",
      "\u001b[1;36m(VllmWorkerProcess pid=20991)\u001b[0;0m INFO 02-24 23:10:19 worker.py:267] Memory profiling takes 15.55 seconds\n",
      "\u001b[1;36m(VllmWorkerProcess pid=20991)\u001b[0;0m INFO 02-24 23:10:19 worker.py:267] the current vLLM instance can use total_gpu_memory (79.11GiB) x gpu_memory_utilization (0.95) = 75.15GiB\n",
      "\u001b[1;36m(VllmWorkerProcess pid=20991)\u001b[0;0m INFO 02-24 23:10:19 worker.py:267] model weights take 17.00GiB; non_torch_memory takes 5.13GiB; PyTorch activation peak memory takes 1.62GiB; the rest of the memory reserved for KV Cache is 51.40GiB.\n",
      "\u001b[1;36m(VllmWorkerProcess pid=20987)\u001b[0;0m INFO 02-24 23:10:19 worker.py:267] Memory profiling takes 15.67 seconds\n",
      "\u001b[1;36m(VllmWorkerProcess pid=20987)\u001b[0;0m INFO 02-24 23:10:19 worker.py:267] the current vLLM instance can use total_gpu_memory (79.11GiB) x gpu_memory_utilization (0.95) = 75.15GiB\n",
      "\u001b[1;36m(VllmWorkerProcess pid=20987)\u001b[0;0m INFO 02-24 23:10:19 worker.py:267] model weights take 17.00GiB; non_torch_memory takes 5.13GiB; PyTorch activation peak memory takes 1.62GiB; the rest of the memory reserved for KV Cache is 51.40GiB.\n",
      "\u001b[1;36m(VllmWorkerProcess pid=20988)\u001b[0;0m INFO 02-24 23:10:19 worker.py:267] Memory profiling takes 15.47 seconds\n",
      "\u001b[1;36m(VllmWorkerProcess pid=20988)\u001b[0;0m INFO 02-24 23:10:19 worker.py:267] the current vLLM instance can use total_gpu_memory (79.11GiB) x gpu_memory_utilization (0.95) = 75.15GiB\n",
      "\u001b[1;36m(VllmWorkerProcess pid=20988)\u001b[0;0m INFO 02-24 23:10:19 worker.py:267] model weights take 17.00GiB; non_torch_memory takes 5.13GiB; PyTorch activation peak memory takes 1.62GiB; the rest of the memory reserved for KV Cache is 51.40GiB.\n",
      "INFO 02-24 23:10:19 worker.py:267] Memory profiling takes 15.70 seconds\n",
      "INFO 02-24 23:10:19 worker.py:267] the current vLLM instance can use total_gpu_memory (79.11GiB) x gpu_memory_utilization (0.95) = 75.15GiB\n",
      "INFO 02-24 23:10:19 worker.py:267] model weights take 17.00GiB; non_torch_memory takes 7.16GiB; PyTorch activation peak memory takes 5.79GiB; the rest of the memory reserved for KV Cache is 45.20GiB.\n",
      "INFO 02-24 23:10:19 executor_base.py:110] # CUDA blocks: 37027, # CPU blocks: 65536\n",
      "INFO 02-24 23:10:19 executor_base.py:115] Maximum concurrency for 16384 tokens per request: 72.32x\n",
      "INFO 02-24 23:11:07 llm_engine.py:431] init engine (profile, create kv cache, warmup model) took 63.56 seconds\n",
      "INFO 02-24 23:11:09 api_server.py:756] Using supplied chat template:\n",
      "INFO 02-24 23:11:09 api_server.py:756] None\n",
      "INFO 02-24 23:11:09 launcher.py:21] Available routes are:\n",
      "INFO 02-24 23:11:09 launcher.py:29] Route: /openapi.json, Methods: HEAD, GET\n",
      "INFO 02-24 23:11:09 launcher.py:29] Route: /docs, Methods: HEAD, GET\n",
      "INFO 02-24 23:11:09 launcher.py:29] Route: /docs/oauth2-redirect, Methods: HEAD, GET\n",
      "INFO 02-24 23:11:09 launcher.py:29] Route: /redoc, Methods: HEAD, GET\n",
      "INFO 02-24 23:11:09 launcher.py:29] Route: /health, Methods: GET\n",
      "INFO 02-24 23:11:09 launcher.py:29] Route: /ping, Methods: GET, POST\n",
      "INFO 02-24 23:11:09 launcher.py:29] Route: /tokenize, Methods: POST\n",
      "INFO 02-24 23:11:09 launcher.py:29] Route: /detokenize, Methods: POST\n",
      "INFO 02-24 23:11:09 launcher.py:29] Route: /v1/models, Methods: GET\n",
      "INFO 02-24 23:11:09 launcher.py:29] Route: /version, Methods: GET\n",
      "INFO 02-24 23:11:09 launcher.py:29] Route: /v1/chat/completions, Methods: POST\n",
      "INFO 02-24 23:11:09 launcher.py:29] Route: /v1/completions, Methods: POST\n",
      "INFO 02-24 23:11:09 launcher.py:29] Route: /v1/embeddings, Methods: POST\n",
      "INFO 02-24 23:11:09 launcher.py:29] Route: /pooling, Methods: POST\n",
      "INFO 02-24 23:11:09 launcher.py:29] Route: /score, Methods: POST\n",
      "INFO 02-24 23:11:09 launcher.py:29] Route: /v1/score, Methods: POST\n",
      "INFO 02-24 23:11:09 launcher.py:29] Route: /rerank, Methods: POST\n",
      "INFO 02-24 23:11:09 launcher.py:29] Route: /v1/rerank, Methods: POST\n",
      "INFO 02-24 23:11:09 launcher.py:29] Route: /v2/rerank, Methods: POST\n",
      "INFO 02-24 23:11:09 launcher.py:29] Route: /invocations, Methods: POST\n"
     ]
    },
    {
     "name": "stderr",
     "output_type": "stream",
     "text": [
      "INFO:     Started server process [20626]\n",
      "INFO:     Waiting for application startup.\n",
      "INFO:     Application startup complete.\n",
      "INFO:     Uvicorn running on http://0.0.0.0:8000 (Press CTRL+C to quit)\n"
     ]
    },
    {
     "name": "stdout",
     "output_type": "stream",
     "text": [
      "INFO 02-24 23:11:12 chat_utils.py:332] Detected the chat template content format to be 'string'. You can set `--chat-template-content-format` to override this.\n",
      "INFO:     127.0.0.1:34984 - \"POST /v1/chat/completions HTTP/1.1\" 200 OK\n",
      "vLLM server started succesfully. Logs can be found at ./logs/vllm.log\n"
     ]
    },
    {
     "data": {
      "application/vnd.jupyter.widget-view+json": {
       "model_id": "e3fdb69031154de5a37db67dd6c921c8",
       "version_major": 2,
       "version_minor": 0
      },
      "text/plain": [
       "val:   0%|          | 0/128 [00:00<?, ?it/s]"
      ]
     },
     "metadata": {},
     "output_type": "display_data"
    },
    {
     "data": {
      "application/vnd.jupyter.widget-view+json": {
       "model_id": "0edb3a201381485c852d4d9f50eb151f",
       "version_major": 2,
       "version_minor": 0
      },
      "text/plain": [
       "train:   0%|          | 0/3200 [00:00<?, ?it/s]"
      ]
     },
     "metadata": {},
     "output_type": "display_data"
    },
    {
     "name": "stdout",
     "output_type": "stream",
     "text": [
      "val: 100%|██████████| 128/128 [09:42<00:00,  9.55s/it, completion_tokens=1442, prompt_tokens=1220, reward=0.189, acc=0.189, token_logprobs=184545]\n"
     ]
    }
   ],
   "source": [
    "model_name = get_last_iteration_dir(output_dir) or model.base_model\n",
    "for i in range(get_iteration(output_dir), num_iterations):\n",
    "    vllm = await start_vllm(\n",
    "        model_name,\n",
    "        max_concurrent_requests=1024,\n",
    "        env={\"VLLM_ALLOW_LONG_MAX_MODEL_LEN\": \"1\"},\n",
    "        named_arguments=dict(\n",
    "            block_size=32,\n",
    "            disable_log_requests=True,\n",
    "            enable_prefix_caching=True,\n",
    "            enforce_eager=True,\n",
    "            gpu_memory_utilization=0.95,\n",
    "            max_model_len=16384,\n",
    "            max_num_seqs=1024,\n",
    "            max_num_batched_tokens=16384,\n",
    "            num_scheduler_steps=8,\n",
    "            preemption_mode=\"swap\",\n",
    "            return_tokens_as_token_ids=True,\n",
    "            swap_space=80,\n",
    "            tensor_parallel_size=torch.cuda.device_count(),\n",
    "        ),\n",
    "        timeout=360 + 30 * torch.cuda.device_count(),\n",
    "        verbosity=verbosity,\n",
    "    )\n",
    "    semaphore = asyncio.Semaphore(\n",
    "        int(1.33 * vllm.max_concurrent_tokens / expected_tokens)\n",
    "    )\n",
    "    offset = i * stride\n",
    "    val_results, train_results = await asyncio.gather(\n",
    "        get_task_results(\n",
    "            tasks=val_tasks,\n",
    "            client=vllm.client,\n",
    "            model=vllm.model,\n",
    "            cache=False,\n",
    "            log_results=8,\n",
    "            n=2,\n",
    "            on_chunk=inference_early_stop,\n",
    "            params=ChatCompletionParams(\n",
    "                stream_options={\n",
    "                    \"include_usage\": True,\n",
    "                },\n",
    "                max_completion_tokens=8192,\n",
    "            ),\n",
    "            pbar_desc=\"val\",\n",
    "            semaphore=semaphore,\n",
    "        ),\n",
    "        get_task_results(\n",
    "            tasks=list(islice(cycle(train_tasks), offset, offset + tasks_per_iter)),\n",
    "            client=vllm.client,\n",
    "            model=vllm.model,\n",
    "            cache=False,\n",
    "            log_results=False,\n",
    "            n=samples_per_task,\n",
    "            on_chunk=inference_early_stop,\n",
    "            params=ChatCompletionParams(\n",
    "                stream_options={\n",
    "                    \"include_usage\": True,\n",
    "                },\n",
    "                max_completion_tokens=8192,\n",
    "            ),\n",
    "            pbar_desc=\"train\",\n",
    "            semaphore=semaphore,\n",
    "            transform=TaskResultTokenizer(tokenizer),\n",
    "        ),\n",
    "    )\n",
    "    vllm.process.terminate()\n",
    "    kill_vllm_workers()\n",
    "    val_stats = val_results.stats\n",
    "    assert val_stats.grades > 0\n",
    "    assert val_stats.usages > 0\n",
    "    wandb_data = {\n",
    "        \"iteration\": i,\n",
    "        \"exceptions\": val_stats.exceptions + train_results.stats.exceptions,\n",
    "        \"reward\": val_stats.total_reward / val_stats.grades,\n",
    "        \"tokens\": round(val_stats.completion_tokens / val_stats.usages),\n",
    "    }\n",
    "    for metric in val_stats.total_metrics:\n",
    "        wandb_data[metric] = val_stats.total_metrics[metric] / val_stats.grades\n",
    "    try:\n",
    "        wandb_data.update(\n",
    "            pl.DataFrame(last_tune_log(output_dir)).drop(\"step\").mean().to_dicts()[0]\n",
    "        )\n",
    "    except Exception:\n",
    "        pass\n",
    "    wandb.log(wandb_data)\n",
    "    expected_tokens = wandb_data[\"tokens\"]\n",
    "    try:\n",
    "        best_iteration = (\n",
    "            wandb.Api()\n",
    "            .run(f\"{run.entity}/{run.project}/{run.id}\")\n",
    "            .history()\n",
    "            .sort_values(by=\"reward\")[\"iteration\"]\n",
    "            .iloc[-1]\n",
    "        )\n",
    "        clear_iteration_dirs(output_dir, [best_iteration, i])\n",
    "        # see ./logs/rsync.log for output\n",
    "        asyncio.create_task(rsync_dir(sync_dir, \"gs://atreides/openpipe/\"))\n",
    "    except Exception:\n",
    "        pass\n",
    "    tokenized_results = [\n",
    "        result\n",
    "        for results in train_results\n",
    "        for result in results\n",
    "        if result.advantage != 0\n",
    "    ]\n",
    "    packed_tensors = packed_tensors_from_tokenized_results(\n",
    "        tokenized_results,\n",
    "        seq_len=seq_len,\n",
    "        pad_token_id=tokenizer.pad_token_id,  # type: ignore\n",
    "    )\n",
    "    if verbosity == 2:\n",
    "        plot_packed_tensors(packed_tensors)\n",
    "    else:\n",
    "        print(f\"Packed tensors into {packed_tensors[\"tokens\"].size()} shape\")\n",
    "    optimizer_config = ComponentConfig(\n",
    "        model.tune_optimizer,\n",
    "        lr=lr,\n",
    "        betas=betas,\n",
    "        weight_decay=weight_decay,\n",
    "    )\n",
    "    if model.tune_optimizer == \"torch.optim.AdamW\":\n",
    "        optimizer_config.fused = True\n",
    "    model_name = await tune(\n",
    "        base_model=model.base_model,\n",
    "        output_dir=output_dir,\n",
    "        packed_tensors=packed_tensors,\n",
    "        model=model.tune_model,\n",
    "        model_type=model.tune_model_type,\n",
    "        config=TuneRecipeConfig(\n",
    "            optimizer=optimizer_config,\n",
    "            loss=ComponentConfig(\n",
    "                GRPO,\n",
    "                clip_epsilon=clip_epsilon,\n",
    "                entropy_coef=entropy_coef,\n",
    "                kl_coef=kl_coef,\n",
    "                tanh=tanh,\n",
    "            ),\n",
    "            shuffle=True,\n",
    "            batch_size=model.tune_max_batch_tokens // seq_len,\n",
    "            fsdp_cpu_offload=model.tune_fsdp_cpu_offload,\n",
    "            enable_activation_checkpointing=True,\n",
    "            enable_activation_offloading=True,\n",
    "            custom_sharded_layers=[\"tok_embeddings\", \"output\"],\n",
    "            num_output_chunks=model.tune_num_output_chunks,\n",
    "            compile=True,\n",
    "        ),\n",
    "        verbosity=verbosity,\n",
    "    )\n",
    "    # see ./logs/rsync.log for output\n",
    "    asyncio.create_task(rsync_dir(sync_dir, \"gs://atreides/openpipe/\"))"
   ]
  }
 ],
 "metadata": {
  "kernelspec": {
   "display_name": ".venv",
   "language": "python",
   "name": "python3"
  },
  "language_info": {
   "codemirror_mode": {
    "name": "ipython",
    "version": 3
   },
   "file_extension": ".py",
   "mimetype": "text/x-python",
   "name": "python",
   "nbconvert_exporter": "python",
   "pygments_lexer": "ipython3",
   "version": "3.12.5"
  }
 },
 "nbformat": 4,
 "nbformat_minor": 2
}
