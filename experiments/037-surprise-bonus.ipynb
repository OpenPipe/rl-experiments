{
 "cells": [
  {
   "cell_type": "code",
   "execution_count": 1,
   "metadata": {},
   "outputs": [],
   "source": [
    "%load_ext autoreload\n",
    "%autoreload 2"
   ]
  },
  {
   "cell_type": "code",
   "execution_count": null,
   "metadata": {},
   "outputs": [
    {
     "data": {
      "text/html": [
       "<style>\n",
       ".cell-output-ipywidget-background {\n",
       "    background-color: transparent !important;\n",
       "}\n",
       ":root {\n",
       "    --jp-widgets-color: var(--vscode-editor-foreground);\n",
       "    --jp-widgets-font-size: var(--vscode-editor-font-size);\n",
       "}  \n",
       "</style>\n"
      ],
      "text/plain": [
       "<IPython.core.display.HTML object>"
      ]
     },
     "metadata": {},
     "output_type": "display_data"
    }
   ],
   "source": [
    "%%html\n",
    "<style>\n",
    ".cell-output-ipywidget-background {\n",
    "    background-color: transparent !important;\n",
    "}\n",
    ":root {\n",
    "    --jp-widgets-color: var(--vscode-editor-foreground);\n",
    "    --jp-widgets-font-size: var(--vscode-editor-font-size);\n",
    "}  \n",
    "</style>"
   ]
  },
  {
   "cell_type": "code",
   "execution_count": 3,
   "metadata": {},
   "outputs": [
    {
     "name": "stderr",
     "output_type": "stream",
     "text": [
      "\u001b[34m\u001b[1mwandb\u001b[0m: Currently logged in as: \u001b[33mbradhilton\u001b[0m to \u001b[32mhttps://api.wandb.ai\u001b[0m. Use \u001b[1m`wandb login --relogin`\u001b[0m to force relogin\n",
      "\u001b[34m\u001b[1mwandb\u001b[0m: Using wandb-core as the SDK backend.  Please refer to https://wandb.me/wandb-core for more information.\n"
     ]
    },
    {
     "data": {
      "text/html": [
       "Tracking run with wandb version 0.19.6"
      ],
      "text/plain": [
       "<IPython.core.display.HTML object>"
      ]
     },
     "metadata": {},
     "output_type": "display_data"
    },
    {
     "data": {
      "text/html": [
       "Run data is saved locally in <code>/home/ubuntu/sky_workdir/experiments/wandb/run-20250222_185648-037</code>"
      ],
      "text/plain": [
       "<IPython.core.display.HTML object>"
      ]
     },
     "metadata": {},
     "output_type": "display_data"
    },
    {
     "data": {
      "text/html": [
       "Resuming run <strong><a href='https://wandb.ai/bradhilton/rl-experiments/runs/037' target=\"_blank\">037</a></strong> to <a href='https://wandb.ai/bradhilton/rl-experiments' target=\"_blank\">Weights & Biases</a> (<a href='https://wandb.me/developer-guide' target=\"_blank\">docs</a>)<br>"
      ],
      "text/plain": [
       "<IPython.core.display.HTML object>"
      ]
     },
     "metadata": {},
     "output_type": "display_data"
    },
    {
     "data": {
      "text/html": [
       " View project at <a href='https://wandb.ai/bradhilton/rl-experiments' target=\"_blank\">https://wandb.ai/bradhilton/rl-experiments</a>"
      ],
      "text/plain": [
       "<IPython.core.display.HTML object>"
      ]
     },
     "metadata": {},
     "output_type": "display_data"
    },
    {
     "data": {
      "text/html": [
       " View run at <a href='https://wandb.ai/bradhilton/rl-experiments/runs/037' target=\"_blank\">https://wandb.ai/bradhilton/rl-experiments/runs/037</a>"
      ],
      "text/plain": [
       "<IPython.core.display.HTML object>"
      ]
     },
     "metadata": {},
     "output_type": "display_data"
    },
    {
     "data": {
      "text/plain": [
       "(64, 64, 2860)"
      ]
     },
     "execution_count": 3,
     "metadata": {},
     "output_type": "execute_result"
    }
   ],
   "source": [
    "import asyncio\n",
    "from itertools import cycle, islice\n",
    "from lib import models\n",
    "from lib.grpo import GRPO\n",
    "from lib.pack import packed_tensors_from_tokenized_results, plot_packed_tensors\n",
    "from lib.recipe import ComponentConfig, TuneRecipeConfig\n",
    "from lib.tasks import ChatCompletionParams, get_task_results\n",
    "from lib.temporal_clue import get_temporal_clue_tasks\n",
    "from lib.tokenize import TaskResultTokenizer\n",
    "from lib.tune import (\n",
    "    clear_iteration_dirs,\n",
    "    get_iteration,\n",
    "    get_last_iteration_dir,\n",
    "    last_tune_log,\n",
    "    tune,\n",
    "    Verbosity,\n",
    ")\n",
    "from lib.utils import rsync_dir\n",
    "from lib.vllm import start_vllm, kill_vllm_workers\n",
    "import polars as pl\n",
    "import random\n",
    "import torch\n",
    "from transformers import AutoTokenizer\n",
    "import wandb\n",
    "\n",
    "run_name = \"037\"\n",
    "run = wandb.init(\n",
    "    project=\"rl-experiments\",\n",
    "    name=run_name,\n",
    "    id=run_name,\n",
    "    resume=\"allow\",\n",
    "    config={\"task\": \"temporal-clue\"},\n",
    ")\n",
    "\n",
    "tasks = list(get_temporal_clue_tasks(surprise_bonus=2e-1))\n",
    "val_tasks = tasks[:64]\n",
    "test_tasks = tasks[64:128]\n",
    "train_tasks = tasks[128:]\n",
    "random.seed(42)\n",
    "random.shuffle(train_tasks)\n",
    "len(val_tasks), len(test_tasks), len(train_tasks)"
   ]
  },
  {
   "cell_type": "code",
   "execution_count": 4,
   "metadata": {},
   "outputs": [],
   "source": [
    "# GRPO params\n",
    "wandb.config[\"clip_epsilon\"] = clip_epsilon = 0.2\n",
    "wandb.config[\"entropy_coef\"] = entropy_coef = 0.0\n",
    "wandb.config[\"kl_coef\"] = kl_coef = 0.0\n",
    "wandb.config[\"tanh\"] = tanh = True\n",
    "\n",
    "expected_tokens = 300  # Expected completion tokens per task sample\n",
    "wandb.config[\"lr\"] = lr = 2e-6\n",
    "wandb.config[\"betas\"] = betas = (0.9, 0.999)  # (0.9, 0.99)\n",
    "wandb.config[\"weight_decay\"] = weight_decay = 0.01  # 0.1\n",
    "model = models.theta_8b()\n",
    "wandb.config[\"model\"] = model.base_model\n",
    "num_iterations = 1_000\n",
    "output_dir = f\"./models/{run_name}\"\n",
    "wandb.config[\"samples_per_task\"] = samples_per_task = 50\n",
    "wandb.config[\"seq_len\"] = seq_len = 16384\n",
    "wandb.config[\"stride\"] = stride = 32\n",
    "wandb.config[\"tasks_per_iter\"] = tasks_per_iter = 64\n",
    "sync_dir = output_dir  # symlink_shm(output_dir) or output_dir\n",
    "tokenizer = AutoTokenizer.from_pretrained(model.base_model)\n",
    "verbosity: Verbosity = 2"
   ]
  },
  {
   "cell_type": "code",
   "execution_count": null,
   "metadata": {},
   "outputs": [
    {
     "name": "stdout",
     "output_type": "stream",
     "text": [
      "Running with torchrun...\n"
     ]
    },
    {
     "name": "stderr",
     "output_type": "stream",
     "text": [
      "INFO:torchtune.utils._logging:Set intra op parallelism no. of threads to 26\n",
      "INFO:torchtune.utils._logging:Running FullFinetuneRecipe with resolved config:\n",
      "\n",
      "batch_size: 2\n",
      "checkpointer:\n",
      "  _component_: torchtune.training.checkpointing._checkpointer.FullModelHFCheckpointer\n",
      "  checkpoint_dir: ./models/037/0009\n",
      "  checkpoint_files:\n",
      "  - hf_model_0004.pt\n",
      "  - hf_model_0003.pt\n",
      "  - hf_model_0002.pt\n",
      "  - hf_model_0001.pt\n",
      "  model_type: LLAMA3\n",
      "  output_dir: ./models/037\n",
      "  recipe_checkpoint: null\n",
      "compile: true\n",
      "custom_sharded_layers:\n",
      "- tok_embeddings\n",
      "- output\n",
      "dataset:\n",
      "  _component_: lib.pack.PackedDataset\n",
      "  dir: ./models/037/tensors\n",
      "  num_sequences: 13\n",
      "  sequence_length: 16384\n",
      "device: cuda\n",
      "dtype: bf16\n",
      "enable_activation_checkpointing: true\n",
      "enable_activation_offloading: true\n",
      "epochs: 1\n",
      "fsdp_cpu_offload: true\n",
      "gradient_accumulation_steps: 1\n",
      "loss:\n",
      "  _component_: lib.grpo.GRPO\n",
      "  clip_epsilon: 0.2\n",
      "  entropy_coef: 0.0\n",
      "  kl_coef: 0.0\n",
      "  tanh: true\n",
      "max_steps_per_epoch: null\n",
      "metric_logger:\n",
      "  _component_: torchtune.training.metric_logging.DiskLogger\n",
      "  log_dir: ./models/037/logs\n",
      "model:\n",
      "  _component_: torchtune.models.llama3_1._model_builders.llama3_1_8b\n",
      "num_output_chunks: 2\n",
      "optimizer:\n",
      "  _component_: torch.optim.AdamW\n",
      "  betas:\n",
      "  - 0.9\n",
      "  - 0.999\n",
      "  fused: true\n",
      "  lr: 2.0e-06\n",
      "  weight_decay: 0.01\n",
      "resume_from_checkpoint: false\n",
      "seed: 42\n",
      "shuffle: true\n",
      "\n",
      "DEBUG:torchtune.utils._logging:Setting manual seed to local seed 42. Local seed is seed + rank = 42 + 0\n"
     ]
    },
    {
     "name": "stdout",
     "output_type": "stream",
     "text": [
      "Writing logs to models/037/logs/log_1740258572.txt\n"
     ]
    },
    {
     "name": "stderr",
     "output_type": "stream",
     "text": [
      "INFO:torchtune.utils._logging:FSDP is enabled. Instantiating model and loading checkpoint on Rank 0 ...\n",
      "INFO:torchtune.utils._logging:Compiling model layers with torch.compile...\n"
     ]
    }
   ],
   "source": [
    "model_name = get_last_iteration_dir(output_dir) or model.base_model\n",
    "for i in range(get_iteration(output_dir), num_iterations):\n",
    "    vllm = await start_vllm(\n",
    "        model_name,\n",
    "        max_concurrent_requests=1024,\n",
    "        env={\"VLLM_ALLOW_LONG_MAX_MODEL_LEN\": \"1\"},\n",
    "        named_arguments=dict(\n",
    "            block_size=32,\n",
    "            disable_log_requests=True,\n",
    "            enable_prefix_caching=True,\n",
    "            enforce_eager=True,\n",
    "            gpu_memory_utilization=0.95,\n",
    "            max_model_len=16384,\n",
    "            max_num_seqs=1024,\n",
    "            max_num_batched_tokens=16384,\n",
    "            num_scheduler_steps=8,\n",
    "            preemption_mode=\"swap\",\n",
    "            return_tokens_as_token_ids=True,\n",
    "            swap_space=80,\n",
    "            tensor_parallel_size=torch.cuda.device_count(),\n",
    "        ),\n",
    "        timeout=180 + 15 * torch.cuda.device_count(),\n",
    "        verbosity=verbosity,\n",
    "    )\n",
    "    semaphore = asyncio.Semaphore(\n",
    "        int(1.33 * vllm.max_concurrent_tokens / expected_tokens)\n",
    "    )\n",
    "    offset = i * stride\n",
    "    val_results, train_results = await asyncio.gather(\n",
    "        get_task_results(\n",
    "            tasks=val_tasks,\n",
    "            client=vllm.client,\n",
    "            model=vllm.model,\n",
    "            cache=False,\n",
    "            log_results=8,\n",
    "            n=2,\n",
    "            params=ChatCompletionParams(\n",
    "                stream_options={\n",
    "                    \"include_usage\": True,\n",
    "                },\n",
    "                max_completion_tokens=8192,\n",
    "            ),\n",
    "            pbar_desc=\"val\",\n",
    "            semaphore=semaphore,\n",
    "        ),\n",
    "        get_task_results(\n",
    "            tasks=list(islice(cycle(train_tasks), offset, offset + tasks_per_iter)),\n",
    "            client=vllm.client,\n",
    "            model=vllm.model,\n",
    "            cache=False,\n",
    "            log_results=False,\n",
    "            n=samples_per_task,\n",
    "            params=ChatCompletionParams(\n",
    "                stream_options={\n",
    "                    \"include_usage\": True,\n",
    "                },\n",
    "                max_completion_tokens=8192,\n",
    "            ),\n",
    "            pbar_desc=\"train\",\n",
    "            semaphore=semaphore,\n",
    "            transform=TaskResultTokenizer(tokenizer),\n",
    "        ),\n",
    "    )\n",
    "    vllm.process.terminate()\n",
    "    kill_vllm_workers()\n",
    "    val_stats = val_results.stats\n",
    "    assert val_stats.grades > 0\n",
    "    assert val_stats.usages > 0\n",
    "    wandb_data = {\n",
    "        \"iteration\": i,\n",
    "        \"exceptions\": val_stats.exceptions + train_results.stats.exceptions,\n",
    "        \"reward\": val_stats.total_reward / val_stats.grades,\n",
    "        \"tokens\": round(val_stats.completion_tokens / val_stats.usages),\n",
    "    }\n",
    "    for metric in val_stats.total_metrics:\n",
    "        wandb_data[metric] = val_stats.total_metrics[metric] / val_stats.grades\n",
    "    try:\n",
    "        wandb_data.update(\n",
    "            pl.DataFrame(last_tune_log(output_dir)).drop(\"step\").mean().to_dicts()[0]\n",
    "        )\n",
    "    except Exception:\n",
    "        pass\n",
    "    wandb.log(wandb_data)\n",
    "    expected_tokens = wandb_data[\"tokens\"]\n",
    "    try:\n",
    "        best_iteration = (\n",
    "            wandb.Api()\n",
    "            .run(f\"{run.entity}/{run.project}/{run.id}\")\n",
    "            .history()\n",
    "            .sort_values(by=\"reward\")[\"iteration\"]\n",
    "            .iloc[-1]\n",
    "        )\n",
    "        clear_iteration_dirs(output_dir, [best_iteration, i])\n",
    "        # see ./logs/rsync.log for output\n",
    "        asyncio.create_task(rsync_dir(sync_dir, \"gs://atreides/openpipe/\"))\n",
    "    except Exception:\n",
    "        pass\n",
    "    tokenized_results = [\n",
    "        result\n",
    "        for results in train_results\n",
    "        for result in results\n",
    "        if result.advantage != 0\n",
    "    ]\n",
    "    packed_tensors = packed_tensors_from_tokenized_results(\n",
    "        tokenized_results,\n",
    "        seq_len=seq_len,\n",
    "        pad_token_id=tokenizer.pad_token_id,  # type: ignore\n",
    "    )\n",
    "    if verbosity == 2:\n",
    "        plot_packed_tensors(packed_tensors)\n",
    "    else:\n",
    "        print(f\"Packed tensors into {packed_tensors[\"tokens\"].size()} shape\")\n",
    "    optimizer_config = ComponentConfig(\n",
    "        model.tune_optimizer,\n",
    "        lr=lr,\n",
    "        betas=betas,\n",
    "        weight_decay=weight_decay,\n",
    "    )\n",
    "    if model.tune_optimizer == \"torch.optim.AdamW\":\n",
    "        optimizer_config.fused = True\n",
    "    model_name = await tune(\n",
    "        base_model=model.base_model,\n",
    "        output_dir=output_dir,\n",
    "        packed_tensors=packed_tensors,\n",
    "        model=model.tune_model,\n",
    "        model_type=model.tune_model_type,\n",
    "        config=TuneRecipeConfig(\n",
    "            optimizer=optimizer_config,\n",
    "            loss=ComponentConfig(\n",
    "                GRPO,\n",
    "                clip_epsilon=clip_epsilon,\n",
    "                entropy_coef=entropy_coef,\n",
    "                kl_coef=kl_coef,\n",
    "                tanh=tanh,\n",
    "            ),\n",
    "            shuffle=True,\n",
    "            batch_size=model.tune_max_batch_tokens // seq_len,\n",
    "            fsdp_cpu_offload=model.tune_fsdp_cpu_offload,\n",
    "            enable_activation_checkpointing=True,\n",
    "            enable_activation_offloading=True,\n",
    "            custom_sharded_layers=[\"tok_embeddings\", \"output\"],\n",
    "            num_output_chunks=2,\n",
    "            compile=True,\n",
    "        ),\n",
    "        verbosity=verbosity,\n",
    "    )\n",
    "    # see ./logs/rsync.log for output\n",
    "    asyncio.create_task(rsync_dir(sync_dir, \"gs://atreides/openpipe/\"))"
   ]
  }
 ],
 "metadata": {
  "kernelspec": {
   "display_name": ".venv",
   "language": "python",
   "name": "python3"
  },
  "language_info": {
   "codemirror_mode": {
    "name": "ipython",
    "version": 3
   },
   "file_extension": ".py",
   "mimetype": "text/x-python",
   "name": "python",
   "nbconvert_exporter": "python",
   "pygments_lexer": "ipython3",
   "version": "3.12.9"
  }
 },
 "nbformat": 4,
 "nbformat_minor": 2
}
