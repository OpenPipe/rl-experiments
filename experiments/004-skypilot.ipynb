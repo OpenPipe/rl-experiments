{
 "cells": [
  {
   "cell_type": "code",
   "execution_count": 6,
   "metadata": {},
   "outputs": [
    {
     "data": {
      "text/plain": [
       "[{'InstanceType': 'gpu_8x_a100_80gb_sxm4',\n",
       "  'AcceleratorName': 'A100-80GB',\n",
       "  'AcceleratorCount': 8.0,\n",
       "  'vCPUs': 240.0,\n",
       "  'MemoryGiB': 1800.0,\n",
       "  'Price': 14.32,\n",
       "  'Region': 'us-midwest-1',\n",
       "  'GpuInfo': \"{'Gpus': [{'Name': 'A100-80GB', 'Manufacturer': 'NVIDIA', 'Count': 8.0, 'MemoryInfo': {'SizeInMiB': 81920}}], 'TotalGpuMemoryInMiB': 81920}\",\n",
       "  'SpotPrice': None}]"
      ]
     },
     "execution_count": 6,
     "metadata": {},
     "output_type": "execute_result"
    }
   ],
   "source": [
    "import polars as pl\n",
    "\n",
    "pl.read_csv(\"~/.sky/catalogs/v6/lambda/vms.csv\").filter(pl.col(\"AcceleratorName\").str.starts_with(\"A100-80GB\"))[-1:].to_dicts()"
   ]
  },
  {
   "cell_type": "code",
   "execution_count": 10,
   "metadata": {},
   "outputs": [],
   "source": [
    "pl.concat(\n",
    "    [\n",
    "        pl.read_csv(\"~/.sky/catalogs/v6/lambda/vms.csv\"),\n",
    "        pl.DataFrame(\n",
    "            [\n",
    "                {\n",
    "                    \"InstanceType\": \"gpu_8x_a100_80gb_sxm4\",\n",
    "                    \"AcceleratorName\": \"A100-80GB\",\n",
    "                    \"AcceleratorCount\": 8.0,\n",
    "                    \"vCPUs\": 240.0,\n",
    "                    \"MemoryGiB\": 1800.0,\n",
    "                    \"Price\": 14.32,\n",
    "                    \"Region\": \"australia-east-1\",\n",
    "                    \"GpuInfo\": \"{'Gpus': [{'Name': 'A100-80GB', 'Manufacturer': 'NVIDIA', 'Count': 8.0, 'MemoryInfo': {'SizeInMiB': 81920}}], 'TotalGpuMemoryInMiB': 81920}\",\n",
    "                    \"SpotPrice\": None,\n",
    "                }\n",
    "            ],\n",
    "            schema=pl.read_csv(\"~/.sky/catalogs/v6/lambda/vms.csv\").schema,\n",
    "        ),\n",
    "    ]\n",
    ").write_csv(\"~/.sky/catalogs/v6/lambda/vms.csv\")"
   ]
  },
  {
   "cell_type": "code",
   "execution_count": 14,
   "metadata": {},
   "outputs": [
    {
     "data": {
      "text/plain": [
       "['RTX4000-Ada',\n",
       " 'RTX3090',\n",
       " 'A100-80GB',\n",
       " 'RTXA5000',\n",
       " 'A100-80GB-SXM',\n",
       " 'H100',\n",
       " 'RTXA6000',\n",
       " 'RTX6000-Ada',\n",
       " 'A40',\n",
       " 'L40',\n",
       " 'RTX4090',\n",
       " 'H100-SXM',\n",
       " 'RTXA4000',\n",
       " 'RTXA4500',\n",
       " 'L4']"
      ]
     },
     "execution_count": 14,
     "metadata": {},
     "output_type": "execute_result"
    }
   ],
   "source": [
    "import polars as pl\n",
    "\n",
    "pl.read_csv(\"~/.sky/catalogs/v6/runpod/vms.csv\")[\"GpuInfo\"].unique().to_list()"
   ]
  },
  {
   "cell_type": "code",
   "execution_count": 6,
   "metadata": {},
   "outputs": [
    {
     "data": {
      "text/html": [
       "<div><style>\n",
       ".dataframe > thead > tr,\n",
       ".dataframe > tbody > tr {\n",
       "  text-align: right;\n",
       "  white-space: pre-wrap;\n",
       "}\n",
       "</style>\n",
       "<small>shape: (480, 9)</small><table border=\"1\" class=\"dataframe\"><thead><tr><th>InstanceType</th><th>AcceleratorName</th><th>AcceleratorCount</th><th>vCPUs</th><th>MemoryGiB</th><th>GpuInfo</th><th>Region</th><th>SpotPrice</th><th>Price</th></tr><tr><td>str</td><td>str</td><td>f64</td><td>f64</td><td>f64</td><td>str</td><td>str</td><td>f64</td><td>f64</td></tr></thead><tbody><tr><td>&quot;1x_A100-80GB_SECURE&quot;</td><td>&quot;A100-80GB&quot;</td><td>1.0</td><td>8.0</td><td>80.0</td><td>&quot;A100-80GB&quot;</td><td>&quot;CA&quot;</td><td>null</td><td>1.99</td></tr><tr><td>&quot;1x_A100-80GB_SECURE&quot;</td><td>&quot;A100-80GB&quot;</td><td>1.0</td><td>8.0</td><td>80.0</td><td>&quot;A100-80GB&quot;</td><td>&quot;CZ&quot;</td><td>null</td><td>1.99</td></tr><tr><td>&quot;1x_A100-80GB_SECURE&quot;</td><td>&quot;A100-80GB&quot;</td><td>1.0</td><td>8.0</td><td>80.0</td><td>&quot;A100-80GB&quot;</td><td>&quot;IS&quot;</td><td>null</td><td>1.99</td></tr><tr><td>&quot;1x_A100-80GB_SECURE&quot;</td><td>&quot;A100-80GB&quot;</td><td>1.0</td><td>8.0</td><td>80.0</td><td>&quot;A100-80GB&quot;</td><td>&quot;NL&quot;</td><td>null</td><td>1.99</td></tr><tr><td>&quot;1x_A100-80GB_SECURE&quot;</td><td>&quot;A100-80GB&quot;</td><td>1.0</td><td>8.0</td><td>80.0</td><td>&quot;A100-80GB&quot;</td><td>&quot;NO&quot;</td><td>null</td><td>1.99</td></tr><tr><td>&hellip;</td><td>&hellip;</td><td>&hellip;</td><td>&hellip;</td><td>&hellip;</td><td>&hellip;</td><td>&hellip;</td><td>&hellip;</td><td>&hellip;</td></tr><tr><td>&quot;8x_RTXA6000_SECURE&quot;</td><td>&quot;RTXA6000&quot;</td><td>8.0</td><td>32.0</td><td>384.0</td><td>&quot;RTXA6000&quot;</td><td>&quot;NL&quot;</td><td>3.92</td><td>6.32</td></tr><tr><td>&quot;8x_RTXA6000_SECURE&quot;</td><td>&quot;RTXA6000&quot;</td><td>8.0</td><td>32.0</td><td>384.0</td><td>&quot;RTXA6000&quot;</td><td>&quot;NO&quot;</td><td>3.92</td><td>6.32</td></tr><tr><td>&quot;8x_RTXA6000_SECURE&quot;</td><td>&quot;RTXA6000&quot;</td><td>8.0</td><td>32.0</td><td>384.0</td><td>&quot;RTXA6000&quot;</td><td>&quot;RO&quot;</td><td>3.92</td><td>6.32</td></tr><tr><td>&quot;8x_RTXA6000_SECURE&quot;</td><td>&quot;RTXA6000&quot;</td><td>8.0</td><td>32.0</td><td>384.0</td><td>&quot;RTXA6000&quot;</td><td>&quot;SE&quot;</td><td>3.92</td><td>6.32</td></tr><tr><td>&quot;8x_RTXA6000_SECURE&quot;</td><td>&quot;RTXA6000&quot;</td><td>8.0</td><td>32.0</td><td>384.0</td><td>&quot;RTXA6000&quot;</td><td>&quot;US&quot;</td><td>3.92</td><td>6.32</td></tr></tbody></table></div>"
      ],
      "text/plain": [
       "shape: (480, 9)\n",
       "┌───────────────┬──────────────┬──────────────┬───────┬───┬───────────┬────────┬───────────┬───────┐\n",
       "│ InstanceType  ┆ AcceleratorN ┆ AcceleratorC ┆ vCPUs ┆ … ┆ GpuInfo   ┆ Region ┆ SpotPrice ┆ Price │\n",
       "│ ---           ┆ ame          ┆ ount         ┆ ---   ┆   ┆ ---       ┆ ---    ┆ ---       ┆ ---   │\n",
       "│ str           ┆ ---          ┆ ---          ┆ f64   ┆   ┆ str       ┆ str    ┆ f64       ┆ f64   │\n",
       "│               ┆ str          ┆ f64          ┆       ┆   ┆           ┆        ┆           ┆       │\n",
       "╞═══════════════╪══════════════╪══════════════╪═══════╪═══╪═══════════╪════════╪═══════════╪═══════╡\n",
       "│ 1x_A100-80GB_ ┆ A100-80GB    ┆ 1.0          ┆ 8.0   ┆ … ┆ A100-80GB ┆ CA     ┆ null      ┆ 1.99  │\n",
       "│ SECURE        ┆              ┆              ┆       ┆   ┆           ┆        ┆           ┆       │\n",
       "│ 1x_A100-80GB_ ┆ A100-80GB    ┆ 1.0          ┆ 8.0   ┆ … ┆ A100-80GB ┆ CZ     ┆ null      ┆ 1.99  │\n",
       "│ SECURE        ┆              ┆              ┆       ┆   ┆           ┆        ┆           ┆       │\n",
       "│ 1x_A100-80GB_ ┆ A100-80GB    ┆ 1.0          ┆ 8.0   ┆ … ┆ A100-80GB ┆ IS     ┆ null      ┆ 1.99  │\n",
       "│ SECURE        ┆              ┆              ┆       ┆   ┆           ┆        ┆           ┆       │\n",
       "│ 1x_A100-80GB_ ┆ A100-80GB    ┆ 1.0          ┆ 8.0   ┆ … ┆ A100-80GB ┆ NL     ┆ null      ┆ 1.99  │\n",
       "│ SECURE        ┆              ┆              ┆       ┆   ┆           ┆        ┆           ┆       │\n",
       "│ 1x_A100-80GB_ ┆ A100-80GB    ┆ 1.0          ┆ 8.0   ┆ … ┆ A100-80GB ┆ NO     ┆ null      ┆ 1.99  │\n",
       "│ SECURE        ┆              ┆              ┆       ┆   ┆           ┆        ┆           ┆       │\n",
       "│ …             ┆ …            ┆ …            ┆ …     ┆ … ┆ …         ┆ …      ┆ …         ┆ …     │\n",
       "│ 8x_RTXA6000_S ┆ RTXA6000     ┆ 8.0          ┆ 32.0  ┆ … ┆ RTXA6000  ┆ NL     ┆ 3.92      ┆ 6.32  │\n",
       "│ ECURE         ┆              ┆              ┆       ┆   ┆           ┆        ┆           ┆       │\n",
       "│ 8x_RTXA6000_S ┆ RTXA6000     ┆ 8.0          ┆ 32.0  ┆ … ┆ RTXA6000  ┆ NO     ┆ 3.92      ┆ 6.32  │\n",
       "│ ECURE         ┆              ┆              ┆       ┆   ┆           ┆        ┆           ┆       │\n",
       "│ 8x_RTXA6000_S ┆ RTXA6000     ┆ 8.0          ┆ 32.0  ┆ … ┆ RTXA6000  ┆ RO     ┆ 3.92      ┆ 6.32  │\n",
       "│ ECURE         ┆              ┆              ┆       ┆   ┆           ┆        ┆           ┆       │\n",
       "│ 8x_RTXA6000_S ┆ RTXA6000     ┆ 8.0          ┆ 32.0  ┆ … ┆ RTXA6000  ┆ SE     ┆ 3.92      ┆ 6.32  │\n",
       "│ ECURE         ┆              ┆              ┆       ┆   ┆           ┆        ┆           ┆       │\n",
       "│ 8x_RTXA6000_S ┆ RTXA6000     ┆ 8.0          ┆ 32.0  ┆ … ┆ RTXA6000  ┆ US     ┆ 3.92      ┆ 6.32  │\n",
       "│ ECURE         ┆              ┆              ┆       ┆   ┆           ┆        ┆           ┆       │\n",
       "└───────────────┴──────────────┴──────────────┴───────┴───┴───────────┴────────┴───────────┴───────┘"
      ]
     },
     "execution_count": 6,
     "metadata": {},
     "output_type": "execute_result"
    }
   ],
   "source": [
    "pl.read_csv(\"~/.sky/catalogs/v6/runpod/vms.csv\")"
   ]
  },
  {
   "cell_type": "code",
   "execution_count": 17,
   "metadata": {},
   "outputs": [],
   "source": [
    "pl.concat(\n",
    "    [\n",
    "        pl.read_csv(\"~/.sky/catalogs/v6/runpod/vms.csv\"),\n",
    "        pl.DataFrame(\n",
    "            {\n",
    "                \"InstanceType\": [\"1x_H200_SECURE\"],\n",
    "                \"AcceleratorName\": [\"H200-SXM\"],\n",
    "                \"AcceleratorCount\": [1.0],\n",
    "                \"vCPUs\": [32.0],\n",
    "                \"MemoryGiB\": [188.0],\n",
    "                \"GpuInfo\": [\"H200-SXM\"],\n",
    "                \"Region\": [\"IS\"],\n",
    "                \"SpotPrice\": [None],\n",
    "                \"Price\": [3.99]\n",
    "            }\n",
    "        ),\n",
    "    ]\n",
    ").write_csv(\"~/.sky/catalogs/v6/runpod/vms.csv\")"
   ]
  },
  {
   "cell_type": "code",
   "execution_count": 13,
   "metadata": {},
   "outputs": [
    {
     "data": {
      "text/plain": [
       "[{'id': 'AMD Instinct MI300X OAM', 'displayName': 'MI300X', 'memoryInGb': 192},\n",
       " {'id': 'NVIDIA A100 80GB PCIe', 'displayName': 'A100 PCIe', 'memoryInGb': 80},\n",
       " {'id': 'NVIDIA A100-SXM4-80GB', 'displayName': 'A100 SXM', 'memoryInGb': 80},\n",
       " {'id': 'NVIDIA A30', 'displayName': 'A30', 'memoryInGb': 24},\n",
       " {'id': 'NVIDIA A40', 'displayName': 'A40', 'memoryInGb': 48},\n",
       " {'id': 'NVIDIA GeForce RTX 3070', 'displayName': 'RTX 3070', 'memoryInGb': 8},\n",
       " {'id': 'NVIDIA GeForce RTX 3080',\n",
       "  'displayName': 'RTX 3080',\n",
       "  'memoryInGb': 10},\n",
       " {'id': 'NVIDIA GeForce RTX 3080 Ti',\n",
       "  'displayName': 'RTX 3080 Ti',\n",
       "  'memoryInGb': 12},\n",
       " {'id': 'NVIDIA GeForce RTX 3090',\n",
       "  'displayName': 'RTX 3090',\n",
       "  'memoryInGb': 24},\n",
       " {'id': 'NVIDIA GeForce RTX 3090 Ti',\n",
       "  'displayName': 'RTX 3090 Ti',\n",
       "  'memoryInGb': 24},\n",
       " {'id': 'NVIDIA GeForce RTX 4070 Ti',\n",
       "  'displayName': 'RTX 4070 Ti',\n",
       "  'memoryInGb': 12},\n",
       " {'id': 'NVIDIA GeForce RTX 4080',\n",
       "  'displayName': 'RTX 4080',\n",
       "  'memoryInGb': 16},\n",
       " {'id': 'NVIDIA GeForce RTX 4080 SUPER',\n",
       "  'displayName': 'RTX 4080 SUPER',\n",
       "  'memoryInGb': 16},\n",
       " {'id': 'NVIDIA GeForce RTX 4090',\n",
       "  'displayName': 'RTX 4090',\n",
       "  'memoryInGb': 24},\n",
       " {'id': 'NVIDIA H100 80GB HBM3', 'displayName': 'H100 SXM', 'memoryInGb': 80},\n",
       " {'id': 'NVIDIA H100 NVL', 'displayName': 'H100 NVL', 'memoryInGb': 94},\n",
       " {'id': 'NVIDIA H100 PCIe', 'displayName': 'H100 PCIe', 'memoryInGb': 80},\n",
       " {'id': 'NVIDIA H200', 'displayName': 'H200 SXM', 'memoryInGb': 143},\n",
       " {'id': 'NVIDIA L4', 'displayName': 'L4', 'memoryInGb': 24},\n",
       " {'id': 'NVIDIA L40', 'displayName': 'L40', 'memoryInGb': 48},\n",
       " {'id': 'NVIDIA L40S', 'displayName': 'L40S', 'memoryInGb': 48},\n",
       " {'id': 'NVIDIA RTX 2000 Ada Generation',\n",
       "  'displayName': 'RTX 2000 Ada',\n",
       "  'memoryInGb': 16},\n",
       " {'id': 'NVIDIA RTX 4000 Ada Generation',\n",
       "  'displayName': 'RTX 4000 Ada',\n",
       "  'memoryInGb': 20},\n",
       " {'id': 'NVIDIA RTX 4000 SFF Ada Generation',\n",
       "  'displayName': 'RTX 4000 Ada SFF',\n",
       "  'memoryInGb': 20},\n",
       " {'id': 'NVIDIA RTX 5000 Ada Generation',\n",
       "  'displayName': 'RTX 5000 Ada',\n",
       "  'memoryInGb': 32},\n",
       " {'id': 'NVIDIA RTX 6000 Ada Generation',\n",
       "  'displayName': 'RTX 6000 Ada',\n",
       "  'memoryInGb': 48},\n",
       " {'id': 'NVIDIA RTX A2000', 'displayName': 'RTX A2000', 'memoryInGb': 6},\n",
       " {'id': 'NVIDIA RTX A4000', 'displayName': 'RTX A4000', 'memoryInGb': 16},\n",
       " {'id': 'NVIDIA RTX A4500', 'displayName': 'RTX A4500', 'memoryInGb': 20},\n",
       " {'id': 'NVIDIA RTX A5000', 'displayName': 'RTX A5000', 'memoryInGb': 24},\n",
       " {'id': 'NVIDIA RTX A6000', 'displayName': 'RTX A6000', 'memoryInGb': 48},\n",
       " {'id': 'Tesla V100-FHHL-16GB', 'displayName': 'V100 FHHL', 'memoryInGb': 16},\n",
       " {'id': 'Tesla V100-PCIE-16GB', 'displayName': 'Tesla V100', 'memoryInGb': 16},\n",
       " {'id': 'Tesla V100-SXM2-16GB', 'displayName': 'V100 SXM2', 'memoryInGb': 16},\n",
       " {'id': 'Tesla V100-SXM2-32GB',\n",
       "  'displayName': 'V100 SXM2 32GB',\n",
       "  'memoryInGb': 32},\n",
       " {'id': 'unknown', 'displayName': 'unknown', 'memoryInGb': 0}]"
      ]
     },
     "execution_count": 13,
     "metadata": {},
     "output_type": "execute_result"
    }
   ],
   "source": [
    "import runpod\n",
    "import json\n",
    "import os\n",
    "\n",
    "runpod.api_key = os.getenv(\"RUNPOD_API_KEY\")\n",
    "\n",
    "# Fetching all available GPUs\n",
    "gpus = runpod.get_gpus()\n",
    "gpus"
   ]
  }
 ],
 "metadata": {
  "kernelspec": {
   "display_name": ".venv",
   "language": "python",
   "name": "python3"
  },
  "language_info": {
   "codemirror_mode": {
    "name": "ipython",
    "version": 3
   },
   "file_extension": ".py",
   "mimetype": "text/x-python",
   "name": "python",
   "nbconvert_exporter": "python",
   "pygments_lexer": "ipython3",
   "version": "3.12.5"
  }
 },
 "nbformat": 4,
 "nbformat_minor": 2
}
