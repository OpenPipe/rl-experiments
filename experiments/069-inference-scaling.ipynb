{
 "cells": [
  {
   "cell_type": "code",
   "execution_count": 1,
   "metadata": {},
   "outputs": [],
   "source": [
    "%load_ext autoreload\n",
    "%autoreload 2"
   ]
  },
  {
   "cell_type": "code",
   "execution_count": 2,
   "metadata": {},
   "outputs": [
    {
     "data": {
      "text/html": [
       "<style>\n",
       ".cell-output-ipywidget-background {\n",
       "    background-color: transparent !important;\n",
       "}\n",
       ":root {\n",
       "    --jp-widgets-color: var(--vscode-editor-foreground);\n",
       "    --jp-widgets-font-size: var(--vscode-editor-font-size);\n",
       "}  \n",
       "</style>\n"
      ],
      "text/plain": [
       "<IPython.core.display.HTML object>"
      ]
     },
     "metadata": {},
     "output_type": "display_data"
    }
   ],
   "source": [
    "%%html\n",
    "<style>\n",
    ".cell-output-ipywidget-background {\n",
    "    background-color: transparent !important;\n",
    "}\n",
    ":root {\n",
    "    --jp-widgets-color: var(--vscode-editor-foreground);\n",
    "    --jp-widgets-font-size: var(--vscode-editor-font-size);\n",
    "}  \n",
    "</style>"
   ]
  },
  {
   "cell_type": "code",
   "execution_count": 3,
   "metadata": {},
   "outputs": [
    {
     "data": {
      "text/plain": [
       "(64, 64, 2860)"
      ]
     },
     "execution_count": 3,
     "metadata": {},
     "output_type": "execute_result"
    }
   ],
   "source": [
    "import asyncio\n",
    "from lib.tasks import ChatCompletionParams, get_task_results\n",
    "from lib.temporal_clue import get_temporal_clue_tasks\n",
    "from lib.vllm import start_vllm, kill_vllm_workers\n",
    "import random\n",
    "import torch\n",
    "\n",
    "tasks = list(get_temporal_clue_tasks(reward_power=3))\n",
    "val_tasks = tasks[:64]\n",
    "test_tasks = tasks[64:128]\n",
    "train_tasks = tasks[128:]\n",
    "random.seed(42)\n",
    "random.shuffle(train_tasks)\n",
    "len(val_tasks), len(test_tasks), len(train_tasks)"
   ]
  },
  {
   "cell_type": "code",
   "execution_count": 4,
   "metadata": {},
   "outputs": [],
   "source": [
    "expected_tokens = 1000\n",
    "model = \"./models/044/0098\""
   ]
  },
  {
   "cell_type": "code",
   "execution_count": 6,
   "metadata": {},
   "outputs": [
    {
     "name": "stdout",
     "output_type": "stream",
     "text": [
      "$ vllm serve /home/gcpuser/sky_workdir/experiments/models/044/0098 --block-size=32 --disable-log-requests --enable-prefix-caching --enforce-eager --gpu-memory-utilization=0.95 --max-model-len=16384 --max-num-seqs=4096 --max-num-batched-tokens=16384 --num-scheduler-steps=16 --preemption-mode=swap --return-tokens-as-token-ids --swap-space=80 --tensor-parallel-size=2 --served-model-name=./models/044/0098 --port=8000 --api-key=default\n",
      "INFO 03-05 17:51:57 __init__.py:190] Automatically detected platform cuda.\n",
      "INFO 03-05 17:51:58 api_server.py:840] vLLM API server version 0.7.2\n",
      "INFO 03-05 17:51:58 api_server.py:841] args: Namespace(subparser='serve', model_tag='/home/gcpuser/sky_workdir/experiments/models/044/0098', config='', host=None, port=8000, uvicorn_log_level='info', allow_credentials=False, allowed_origins=['*'], allowed_methods=['*'], allowed_headers=['*'], api_key='default', lora_modules=None, prompt_adapters=None, chat_template=None, chat_template_content_format='auto', response_role='assistant', ssl_keyfile=None, ssl_certfile=None, ssl_ca_certs=None, ssl_cert_reqs=0, root_path=None, middleware=[], return_tokens_as_token_ids=True, disable_frontend_multiprocessing=False, enable_request_id_headers=False, enable_auto_tool_choice=False, enable_reasoning=False, reasoning_parser=None, tool_call_parser=None, tool_parser_plugin='', model='/home/gcpuser/sky_workdir/experiments/models/044/0098', task='auto', tokenizer=None, skip_tokenizer_init=False, revision=None, code_revision=None, tokenizer_revision=None, tokenizer_mode='auto', trust_remote_code=False, allowed_local_media_path=None, download_dir=None, load_format='auto', config_format=<ConfigFormat.AUTO: 'auto'>, dtype='auto', kv_cache_dtype='auto', max_model_len=16384, guided_decoding_backend='xgrammar', logits_processor_pattern=None, model_impl='auto', distributed_executor_backend=None, pipeline_parallel_size=1, tensor_parallel_size=2, max_parallel_loading_workers=None, ray_workers_use_nsight=False, block_size=32, enable_prefix_caching=True, disable_sliding_window=False, use_v2_block_manager=True, num_lookahead_slots=0, seed=0, swap_space=80.0, cpu_offload_gb=0, gpu_memory_utilization=0.95, num_gpu_blocks_override=None, max_num_batched_tokens=16384, max_num_seqs=4096, max_logprobs=20, disable_log_stats=False, quantization=None, rope_scaling=None, rope_theta=None, hf_overrides=None, enforce_eager=True, max_seq_len_to_capture=8192, disable_custom_all_reduce=False, tokenizer_pool_size=0, tokenizer_pool_type='ray', tokenizer_pool_extra_config=None, limit_mm_per_prompt=None, mm_processor_kwargs=None, disable_mm_preprocessor_cache=False, enable_lora=False, enable_lora_bias=False, max_loras=1, max_lora_rank=16, lora_extra_vocab_size=256, lora_dtype='auto', long_lora_scaling_factors=None, max_cpu_loras=None, fully_sharded_loras=False, enable_prompt_adapter=False, max_prompt_adapters=1, max_prompt_adapter_token=0, device='auto', num_scheduler_steps=16, multi_step_stream_outputs=True, scheduler_delay_factor=0.0, enable_chunked_prefill=None, speculative_model=None, speculative_model_quantization=None, num_speculative_tokens=None, speculative_disable_mqa_scorer=False, speculative_draft_tensor_parallel_size=None, speculative_max_model_len=None, speculative_disable_by_batch_size=None, ngram_prompt_lookup_max=None, ngram_prompt_lookup_min=None, spec_decoding_acceptance_method='rejection_sampler', typical_acceptance_sampler_posterior_threshold=None, typical_acceptance_sampler_posterior_alpha=None, disable_logprobs_during_spec_decoding=None, model_loader_extra_config=None, ignore_patterns=[], preemption_mode='swap', served_model_name=['./models/044/0098'], qlora_adapter_name_or_path=None, otlp_traces_endpoint=None, collect_detailed_traces=None, disable_async_output_proc=False, scheduling_policy='fcfs', override_neuron_config=None, override_pooler_config=None, compilation_config=None, kv_transfer_config=None, worker_cls='auto', generation_config=None, override_generation_config=None, enable_sleep_mode=False, calculate_kv_scales=False, disable_log_requests=True, max_log_len=None, disable_fastapi_docs=False, enable_prompt_tokens_details=False, dispatch_function=<function serve at 0x771164bbafc0>)\n",
      "INFO 03-05 17:51:58 api_server.py:206] Started engine process with PID 18673\n",
      "INFO 03-05 17:52:02 __init__.py:190] Automatically detected platform cuda.\n",
      "INFO 03-05 17:52:04 config.py:542] This model supports multiple tasks: {'generate', 'embed', 'classify', 'score', 'reward'}. Defaulting to 'generate'.\n",
      "INFO 03-05 17:52:04 config.py:1401] Defaulting to use mp for distributed inference\n",
      "WARNING 03-05 17:52:04 cuda.py:95] To see benefits of async output processing, enable CUDA graph. Since, enforce-eager is enabled, async output processor cannot be used\n",
      "WARNING 03-05 17:52:04 config.py:678] Async output processing is not supported on the current platform type cuda.\n",
      "INFO 03-05 17:52:08 config.py:542] This model supports multiple tasks: {'generate', 'classify', 'reward', 'embed', 'score'}. Defaulting to 'generate'.\n",
      "INFO 03-05 17:52:08 config.py:1401] Defaulting to use mp for distributed inference\n",
      "WARNING 03-05 17:52:08 cuda.py:95] To see benefits of async output processing, enable CUDA graph. Since, enforce-eager is enabled, async output processor cannot be used\n",
      "WARNING 03-05 17:52:08 config.py:678] Async output processing is not supported on the current platform type cuda.\n",
      "INFO 03-05 17:52:08 llm_engine.py:234] Initializing a V0 LLM engine (v0.7.2) with config: model='/home/gcpuser/sky_workdir/experiments/models/044/0098', speculative_config=None, tokenizer='/home/gcpuser/sky_workdir/experiments/models/044/0098', skip_tokenizer_init=False, tokenizer_mode=auto, revision=None, override_neuron_config=None, tokenizer_revision=None, trust_remote_code=False, dtype=torch.bfloat16, max_seq_len=16384, download_dir=None, load_format=LoadFormat.AUTO, tensor_parallel_size=2, pipeline_parallel_size=1, disable_custom_all_reduce=False, quantization=None, enforce_eager=True, kv_cache_dtype=auto,  device_config=cuda, decoding_config=DecodingConfig(guided_decoding_backend='xgrammar'), observability_config=ObservabilityConfig(otlp_traces_endpoint=None, collect_model_forward_time=False, collect_model_execute_time=False), seed=0, served_model_name=./models/044/0098, num_scheduler_steps=16, multi_step_stream_outputs=True, enable_prefix_caching=True, chunked_prefill_enabled=False, use_async_output_proc=False, disable_mm_preprocessor_cache=False, mm_processor_kwargs=None, pooler_config=None, compilation_config={\"splitting_ops\":[],\"compile_sizes\":[],\"cudagraph_capture_sizes\":[],\"max_capture_size\":0}, use_cached_outputs=True, \n",
      "WARNING 03-05 17:52:09 multiproc_worker_utils.py:300] Reducing Torch parallelism from 26 threads to 1 to avoid unnecessary CPU contention. Set OMP_NUM_THREADS in the external environment to tune this value as needed.\n",
      "INFO 03-05 17:52:09 custom_cache_manager.py:19] Setting Triton cache manager to: vllm.triton_utils.custom_cache_manager:CustomCacheManager\n",
      "INFO 03-05 17:52:09 cuda.py:230] Using Flash Attention backend.\n",
      "WARNING 03-05 17:52:09 registry.py:340] `mm_limits` has already been set for model=/home/gcpuser/sky_workdir/experiments/models/044/0098, and will be overwritten by the new values.\n",
      "INFO 03-05 17:52:12 __init__.py:190] Automatically detected platform cuda.\n",
      "\u001b[1;36m(VllmWorkerProcess pid=19064)\u001b[0;0m INFO 03-05 17:52:13 multiproc_worker_utils.py:229] Worker ready; awaiting tasks\n",
      "\u001b[1;36m(VllmWorkerProcess pid=19064)\u001b[0;0m INFO 03-05 17:52:14 cuda.py:230] Using Flash Attention backend.\n",
      "\u001b[1;36m(VllmWorkerProcess pid=19064)\u001b[0;0m WARNING 03-05 17:52:14 registry.py:340] `mm_limits` has already been set for model=/home/gcpuser/sky_workdir/experiments/models/044/0098, and will be overwritten by the new values.\n",
      "\u001b[1;36m(VllmWorkerProcess pid=19064)\u001b[0;0m INFO 03-05 17:52:15 utils.py:950] Found nccl from library libnccl.so.2\n",
      "INFO 03-05 17:52:15 utils.py:950] Found nccl from library libnccl.so.2\n",
      "\u001b[1;36m(VllmWorkerProcess pid=19064)\u001b[0;0m INFO 03-05 17:52:15 pynccl.py:69] vLLM is using nccl==2.21.5\n",
      "INFO 03-05 17:52:15 pynccl.py:69] vLLM is using nccl==2.21.5\n",
      "INFO 03-05 17:52:16 custom_all_reduce_utils.py:206] generating GPU P2P access cache in /home/gcpuser/.cache/vllm/gpu_p2p_access_cache_for_0,1.json\n",
      "INFO 03-05 17:52:28 custom_all_reduce_utils.py:244] reading GPU P2P access cache from /home/gcpuser/.cache/vllm/gpu_p2p_access_cache_for_0,1.json\n",
      "\u001b[1;36m(VllmWorkerProcess pid=19064)\u001b[0;0m INFO 03-05 17:52:28 custom_all_reduce_utils.py:244] reading GPU P2P access cache from /home/gcpuser/.cache/vllm/gpu_p2p_access_cache_for_0,1.json\n",
      "INFO 03-05 17:52:28 shm_broadcast.py:258] vLLM message queue communication handle: Handle(connect_ip='127.0.0.1', local_reader_ranks=[1], buffer_handle=(1, 4194304, 6, 'psm_313c247f'), local_subscribe_port=36983, remote_subscribe_port=None)\n",
      "INFO 03-05 17:52:28 model_runner.py:1110] Starting to load model /home/gcpuser/sky_workdir/experiments/models/044/0098...\n",
      "\u001b[1;36m(VllmWorkerProcess pid=19064)\u001b[0;0m INFO 03-05 17:52:28 model_runner.py:1110] Starting to load model /home/gcpuser/sky_workdir/experiments/models/044/0098...\n"
     ]
    },
    {
     "name": "stderr",
     "output_type": "stream",
     "text": [
      "Loading safetensors checkpoint shards:   0% Completed | 0/8 [00:00<?, ?it/s]\n",
      "Loading safetensors checkpoint shards:  12% Completed | 1/8 [00:00<00:04,  1.47it/s]\n",
      "Loading safetensors checkpoint shards:  25% Completed | 2/8 [00:01<00:04,  1.49it/s]\n",
      "Loading safetensors checkpoint shards:  38% Completed | 3/8 [00:02<00:03,  1.49it/s]\n",
      "Loading safetensors checkpoint shards:  50% Completed | 4/8 [00:02<00:01,  2.03it/s]\n",
      "Loading safetensors checkpoint shards:  62% Completed | 5/8 [00:02<00:01,  2.00it/s]\n",
      "Loading safetensors checkpoint shards:  75% Completed | 6/8 [00:03<00:01,  1.80it/s]\n",
      "Loading safetensors checkpoint shards:  88% Completed | 7/8 [00:04<00:00,  1.68it/s]\n",
      "Loading safetensors checkpoint shards: 100% Completed | 8/8 [00:04<00:00,  1.61it/s]\n",
      "Loading safetensors checkpoint shards: 100% Completed | 8/8 [00:04<00:00,  1.68it/s]\n",
      "\n"
     ]
    },
    {
     "name": "stdout",
     "output_type": "stream",
     "text": [
      "INFO 03-05 17:52:33 model_runner.py:1115] Loading model weights took 13.9281 GB\n",
      "\u001b[1;36m(VllmWorkerProcess pid=19064)\u001b[0;0m INFO 03-05 17:52:33 model_runner.py:1115] Loading model weights took 13.9281 GB\n",
      "\u001b[1;36m(VllmWorkerProcess pid=19064)\u001b[0;0m INFO 03-05 17:52:38 worker.py:267] Memory profiling takes 3.98 seconds\n",
      "\u001b[1;36m(VllmWorkerProcess pid=19064)\u001b[0;0m INFO 03-05 17:52:38 worker.py:267] the current vLLM instance can use total_gpu_memory (79.11GiB) x gpu_memory_utilization (0.95) = 75.15GiB\n",
      "\u001b[1;36m(VllmWorkerProcess pid=19064)\u001b[0;0m INFO 03-05 17:52:38 worker.py:267] model weights take 13.93GiB; non_torch_memory takes 1.57GiB; PyTorch activation peak memory takes 1.45GiB; the rest of the memory reserved for KV Cache is 58.21GiB.\n",
      "INFO 03-05 17:52:38 worker.py:267] Memory profiling takes 4.14 seconds\n",
      "INFO 03-05 17:52:38 worker.py:267] the current vLLM instance can use total_gpu_memory (79.11GiB) x gpu_memory_utilization (0.95) = 75.15GiB\n",
      "INFO 03-05 17:52:38 worker.py:267] model weights take 13.93GiB; non_torch_memory takes 1.82GiB; PyTorch activation peak memory takes 22.23GiB; the rest of the memory reserved for KV Cache is 37.17GiB.\n",
      "INFO 03-05 17:52:38 executor_base.py:110] # CUDA blocks: 12688, # CPU blocks: 27306\n",
      "INFO 03-05 17:52:38 executor_base.py:115] Maximum concurrency for 16384 tokens per request: 24.78x\n",
      "INFO 03-05 17:53:24 llm_engine.py:431] init engine (profile, create kv cache, warmup model) took 50.45 seconds\n",
      "INFO 03-05 17:53:25 api_server.py:756] Using supplied chat template:\n",
      "INFO 03-05 17:53:25 api_server.py:756] None\n",
      "INFO 03-05 17:53:25 launcher.py:21] Available routes are:\n",
      "INFO 03-05 17:53:25 launcher.py:29] Route: /openapi.json, Methods: GET, HEAD\n",
      "INFO 03-05 17:53:25 launcher.py:29] Route: /docs, Methods: GET, HEAD\n",
      "INFO 03-05 17:53:25 launcher.py:29] Route: /docs/oauth2-redirect, Methods: GET, HEAD\n",
      "INFO 03-05 17:53:25 launcher.py:29] Route: /redoc, Methods: GET, HEAD\n",
      "INFO 03-05 17:53:25 launcher.py:29] Route: /health, Methods: GET\n",
      "INFO 03-05 17:53:25 launcher.py:29] Route: /ping, Methods: GET, POST\n",
      "INFO 03-05 17:53:25 launcher.py:29] Route: /tokenize, Methods: POST\n",
      "INFO 03-05 17:53:25 launcher.py:29] Route: /detokenize, Methods: POST\n",
      "INFO 03-05 17:53:25 launcher.py:29] Route: /v1/models, Methods: GET\n",
      "INFO 03-05 17:53:25 launcher.py:29] Route: /version, Methods: GET\n",
      "INFO 03-05 17:53:25 launcher.py:29] Route: /v1/chat/completions, Methods: POST\n",
      "INFO 03-05 17:53:25 launcher.py:29] Route: /v1/completions, Methods: POST\n",
      "INFO 03-05 17:53:25 launcher.py:29] Route: /v1/embeddings, Methods: POST\n",
      "INFO 03-05 17:53:25 launcher.py:29] Route: /pooling, Methods: POST\n",
      "INFO 03-05 17:53:25 launcher.py:29] Route: /score, Methods: POST\n",
      "INFO 03-05 17:53:25 launcher.py:29] Route: /v1/score, Methods: POST\n",
      "INFO 03-05 17:53:25 launcher.py:29] Route: /rerank, Methods: POST\n",
      "INFO 03-05 17:53:25 launcher.py:29] Route: /v1/rerank, Methods: POST\n",
      "INFO 03-05 17:53:25 launcher.py:29] Route: /v2/rerank, Methods: POST\n",
      "INFO 03-05 17:53:25 launcher.py:29] Route: /invocations, Methods: POST\n"
     ]
    },
    {
     "name": "stderr",
     "output_type": "stream",
     "text": [
      "INFO:     Started server process [18557]\n",
      "INFO:     Waiting for application startup.\n",
      "INFO:     Application startup complete.\n",
      "INFO:     Uvicorn running on http://0.0.0.0:8000 (Press CTRL+C to quit)\n"
     ]
    },
    {
     "name": "stdout",
     "output_type": "stream",
     "text": [
      "INFO 03-05 17:53:27 chat_utils.py:332] Detected the chat template content format to be 'string'. You can set `--chat-template-content-format` to override this.\n",
      "INFO:     127.0.0.1:51156 - \"POST /v1/chat/completions HTTP/1.1\" 200 OK\n",
      "vLLM server started succesfully. Logs can be found at ./logs/vllm.log\n"
     ]
    }
   ],
   "source": [
    "vllm = await start_vllm(\n",
    "    model,\n",
    "    max_concurrent_requests=4096,\n",
    "    env={\"VLLM_ALLOW_LONG_MAX_MODEL_LEN\": \"1\"},\n",
    "    named_arguments=dict(\n",
    "        block_size=32,\n",
    "        disable_log_requests=True,\n",
    "        enable_prefix_caching=True,\n",
    "        enforce_eager=True,\n",
    "        gpu_memory_utilization=0.95,\n",
    "        max_model_len=16384,\n",
    "        max_num_seqs=4096,\n",
    "        max_num_batched_tokens=16384,\n",
    "        num_scheduler_steps=16,\n",
    "        preemption_mode=\"swap\",\n",
    "        return_tokens_as_token_ids=True,\n",
    "        swap_space=80,\n",
    "        tensor_parallel_size=torch.cuda.device_count(),\n",
    "    ),\n",
    "    timeout=360 + 15 * torch.cuda.device_count(),\n",
    ")"
   ]
  },
  {
   "cell_type": "code",
   "execution_count": 9,
   "metadata": {},
   "outputs": [],
   "source": [
    "vllm.client.organization = \"test1\""
   ]
  },
  {
   "cell_type": "code",
   "execution_count": 10,
   "metadata": {},
   "outputs": [
    {
     "data": {
      "application/vnd.jupyter.widget-view+json": {
       "model_id": "a0cb25b9a292452da1fd92c6f814e36d",
       "version_major": 2,
       "version_minor": 0
      },
      "text/plain": [
       "val:   0%|          | 0/64 [00:00<?, ?it/s]"
      ]
     },
     "metadata": {},
     "output_type": "display_data"
    },
    {
     "name": "stdout",
     "output_type": "stream",
     "text": [
      "val: 100%|██████████| 64/64 [01:10<00:00,  6.48s/it, completion_tokens=1291, prompt_tokens=1220, reward=0.304, acc=0.594, token_logprobs=82651]\n"
     ]
    }
   ],
   "source": [
    "semaphore = asyncio.Semaphore(int(1.3 * vllm.max_concurrent_tokens / expected_tokens))\n",
    "val_results = await get_task_results(\n",
    "    tasks=val_tasks,\n",
    "    client=vllm.client,\n",
    "    model=vllm.model,\n",
    "    cache=True,\n",
    "    log_results=8,\n",
    "    n=1,\n",
    "    params=ChatCompletionParams(\n",
    "        stream_options={\n",
    "            \"include_usage\": True,\n",
    "        }\n",
    "    ),\n",
    "    pbar_desc=\"val\",\n",
    "    semaphore=semaphore,\n",
    ")"
   ]
  }
 ],
 "metadata": {
  "kernelspec": {
   "display_name": ".venv",
   "language": "python",
   "name": "python3"
  },
  "language_info": {
   "codemirror_mode": {
    "name": "ipython",
    "version": 3
   },
   "file_extension": ".py",
   "mimetype": "text/x-python",
   "name": "python",
   "nbconvert_exporter": "python",
   "pygments_lexer": "ipython3",
   "version": "3.12.9"
  }
 },
 "nbformat": 4,
 "nbformat_minor": 2
}
