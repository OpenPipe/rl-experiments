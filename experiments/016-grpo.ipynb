{
 "cells": [
  {
   "cell_type": "code",
   "execution_count": 1,
   "metadata": {},
   "outputs": [],
   "source": [
    "%load_ext autoreload\n",
    "%autoreload 2"
   ]
  },
  {
   "cell_type": "code",
   "execution_count": 2,
   "metadata": {},
   "outputs": [
    {
     "data": {
      "text/html": [
       "<style>\n",
       ".cell-output-ipywidget-background {\n",
       "    background-color: transparent !important;\n",
       "}\n",
       ":root {\n",
       "    --jp-widgets-color: var(--vscode-editor-foreground);\n",
       "    --jp-widgets-font-size: var(--vscode-editor-font-size);\n",
       "}  \n",
       "</style>\n"
      ],
      "text/plain": [
       "<IPython.core.display.HTML object>"
      ]
     },
     "metadata": {},
     "output_type": "display_data"
    }
   ],
   "source": [
    "%%html\n",
    "<style>\n",
    ".cell-output-ipywidget-background {\n",
    "    background-color: transparent !important;\n",
    "}\n",
    ":root {\n",
    "    --jp-widgets-color: var(--vscode-editor-foreground);\n",
    "    --jp-widgets-font-size: var(--vscode-editor-font-size);\n",
    "}  \n",
    "</style>"
   ]
  },
  {
   "cell_type": "code",
   "execution_count": 4,
   "metadata": {},
   "outputs": [
    {
     "name": "stderr",
     "output_type": "stream",
     "text": [
      "\u001b[34m\u001b[1mwandb\u001b[0m: Currently logged in as: \u001b[33mbradhilton\u001b[0m to \u001b[32mhttps://api.wandb.ai\u001b[0m. Use \u001b[1m`wandb login --relogin`\u001b[0m to force relogin\n",
      "\u001b[34m\u001b[1mwandb\u001b[0m: Using wandb-core as the SDK backend.  Please refer to https://wandb.me/wandb-core for more information.\n"
     ]
    },
    {
     "data": {
      "text/html": [
       "Tracking run with wandb version 0.19.6"
      ],
      "text/plain": [
       "<IPython.core.display.HTML object>"
      ]
     },
     "metadata": {},
     "output_type": "display_data"
    },
    {
     "data": {
      "text/html": [
       "Run data is saved locally in <code>/home/gcpuser/sky_workdir/experiments/wandb/run-20250219_163136-016</code>"
      ],
      "text/plain": [
       "<IPython.core.display.HTML object>"
      ]
     },
     "metadata": {},
     "output_type": "display_data"
    },
    {
     "data": {
      "text/html": [
       "Syncing run <strong><a href='https://wandb.ai/bradhilton/grpo-tests/runs/016' target=\"_blank\">016</a></strong> to <a href='https://wandb.ai/bradhilton/grpo-tests' target=\"_blank\">Weights & Biases</a> (<a href='https://wandb.me/developer-guide' target=\"_blank\">docs</a>)<br>"
      ],
      "text/plain": [
       "<IPython.core.display.HTML object>"
      ]
     },
     "metadata": {},
     "output_type": "display_data"
    },
    {
     "data": {
      "text/html": [
       " View project at <a href='https://wandb.ai/bradhilton/grpo-tests' target=\"_blank\">https://wandb.ai/bradhilton/grpo-tests</a>"
      ],
      "text/plain": [
       "<IPython.core.display.HTML object>"
      ]
     },
     "metadata": {},
     "output_type": "display_data"
    },
    {
     "data": {
      "text/html": [
       " View run at <a href='https://wandb.ai/bradhilton/grpo-tests/runs/016' target=\"_blank\">https://wandb.ai/bradhilton/grpo-tests/runs/016</a>"
      ],
      "text/plain": [
       "<IPython.core.display.HTML object>"
      ]
     },
     "metadata": {},
     "output_type": "display_data"
    },
    {
     "data": {
      "text/plain": [
       "(436, 72, 92, 436)"
      ]
     },
     "execution_count": 4,
     "metadata": {},
     "output_type": "execute_result"
    }
   ],
   "source": [
    "import asyncio\n",
    "from itertools import cycle, islice\n",
    "from lib import models\n",
    "from lib.grpo import GRPO\n",
    "from lib.nyt_connections import get_connections_games, get_connections_tasks\n",
    "from lib.pack import packed_tensors_from_tokenized_results, plot_packed_tensors\n",
    "from lib.recipe import ComponentConfig, TuneRecipeConfig\n",
    "from lib.tasks import ChatCompletionParams, get_task_results\n",
    "from lib.tokenize import TaskResultTokenizer\n",
    "from lib.tune import clear_iteration_dirs, get_iteration, last_tune_log, tune, Verbosity\n",
    "from lib.vllm import start_vllm, kill_vllm_workers\n",
    "import polars as pl\n",
    "import random\n",
    "import torch\n",
    "from transformers import AutoTokenizer\n",
    "import wandb\n",
    "\n",
    "run_name = \"016\"\n",
    "run = wandb.init(\n",
    "    project=\"grpo-tests\",\n",
    "    name=run_name,\n",
    "    id=run_name,\n",
    "    resume=\"allow\",\n",
    "    config={\"task\": \"nyt-connections\"},\n",
    ")\n",
    "\n",
    "games = get_connections_games()\n",
    "tasks = list(\n",
    "    islice(get_connections_tasks(games, parse_answers_liberally=False), len(games) * 2)\n",
    ")\n",
    "distill_tasks = tasks[:436]\n",
    "val_tasks = tasks[436:508]\n",
    "test_tasks = tasks[508 : len(games)]\n",
    "train_tasks = tasks[len(games) : len(games) + 436]\n",
    "random.seed(42)\n",
    "random.shuffle(train_tasks)\n",
    "len(distill_tasks), len(val_tasks), len(test_tasks), len(train_tasks)"
   ]
  },
  {
   "cell_type": "code",
   "execution_count": null,
   "metadata": {},
   "outputs": [
    {
     "data": {
      "application/vnd.jupyter.widget-view+json": {
       "model_id": "bcb890ad4d6f4769973f463f139bd756",
       "version_major": 2,
       "version_minor": 0
      },
      "text/plain": [
       "tokenizer_config.json:   0%|          | 0.00/3.07k [00:00<?, ?B/s]"
      ]
     },
     "metadata": {},
     "output_type": "display_data"
    },
    {
     "data": {
      "application/vnd.jupyter.widget-view+json": {
       "model_id": "788447cc28264ff19d33274eb21d3b7d",
       "version_major": 2,
       "version_minor": 0
      },
      "text/plain": [
       "tokenizer.json:   0%|          | 0.00/7.03M [00:00<?, ?B/s]"
      ]
     },
     "metadata": {},
     "output_type": "display_data"
    }
   ],
   "source": [
    "# GRPO params\n",
    "wandb.config[\"clip_epsilon\"] = clip_epsilon = 0.2\n",
    "wandb.config[\"entropy_coef\"] = entropy_coef = 0.05\n",
    "wandb.config[\"kl_coef\"] = kl_coef = 0.01\n",
    "\n",
    "expected_tokens = 4000  # Expected completion tokens per task sample\n",
    "wandb.config[\"lr\"] = lr = 5e-5\n",
    "model = models.qwen_14b()\n",
    "model.tune_max_batch_tokens = 49152\n",
    "wandb.config[\"model\"] = model_name = model.base_model\n",
    "num_iterations = 10\n",
    "output_dir = f\"./models/{run_name}\"\n",
    "wandb.config[\"samples_per_task\"] = samples_per_task = 64\n",
    "wandb.config[\"seq_len\"] = seq_len = 16384\n",
    "wandb.config[\"stride\"] = stride = 0  # See if we can overfit on the first tasks\n",
    "wandb.config[\"tasks_per_iter\"] = tasks_per_iter = 8\n",
    "tokenizer = AutoTokenizer.from_pretrained(model.base_model)\n",
    "verbosity: Verbosity = 2"
   ]
  },
  {
   "cell_type": "code",
   "execution_count": 15,
   "metadata": {},
   "outputs": [
    {
     "name": "stdout",
     "output_type": "stream",
     "text": [
      "$ tune run --nproc-per-node=4 lib.recipe.TuneRecipe --config ./models/016/config.yaml\n",
      "Running with torchrun...\n"
     ]
    },
    {
     "name": "stderr",
     "output_type": "stream",
     "text": [
      "W0219 16:51:15.158000 27072 torch/distributed/run.py:793] \n",
      "W0219 16:51:15.158000 27072 torch/distributed/run.py:793] *****************************************\n",
      "W0219 16:51:15.158000 27072 torch/distributed/run.py:793] Setting OMP_NUM_THREADS environment variable for each process to be 1 in default, to avoid your system being overloaded, please further tune the variable for optimal performance in your application as needed. \n",
      "W0219 16:51:15.158000 27072 torch/distributed/run.py:793] *****************************************\n",
      "INFO:torchtune.utils._logging:Set intra op parallelism no. of threads to 26\n",
      "INFO:torchtune.utils._logging:Set intra op parallelism no. of threads to 26\n",
      "INFO:torchtune.utils._logging:Set intra op parallelism no. of threads to 26\n",
      "INFO:torchtune.utils._logging:Set intra op parallelism no. of threads to 26\n",
      "INFO:torchtune.utils._logging:Running FullFinetuneRecipe with resolved config:\n",
      "\n",
      "batch_size: 3\n",
      "checkpointer:\n",
      "  _component_: torchtune.training.checkpointing._checkpointer.FullModelHFCheckpointer\n",
      "  checkpoint_dir: /home/gcpuser/.cache/huggingface/hub/models--deepseek-ai--DeepSeek-R1-Distill-Qwen-14B/snapshots/5ee96d8a09692e87087a6e0496d87124a1cdc3fe\n",
      "  checkpoint_files:\n",
      "  - /home/gcpuser/.cache/huggingface/hub/models--deepseek-ai--DeepSeek-R1-Distill-Qwen-14B/snapshots/5ee96d8a09692e87087a6e0496d87124a1cdc3fe/model-00004-of-000004.safetensors\n",
      "  - /home/gcpuser/.cache/huggingface/hub/models--deepseek-ai--DeepSeek-R1-Distill-Qwen-14B/snapshots/5ee96d8a09692e87087a6e0496d87124a1cdc3fe/model-00003-of-000004.safetensors\n",
      "  - /home/gcpuser/.cache/huggingface/hub/models--deepseek-ai--DeepSeek-R1-Distill-Qwen-14B/snapshots/5ee96d8a09692e87087a6e0496d87124a1cdc3fe/model-00001-of-000004.safetensors\n",
      "  - /home/gcpuser/.cache/huggingface/hub/models--deepseek-ai--DeepSeek-R1-Distill-Qwen-14B/snapshots/5ee96d8a09692e87087a6e0496d87124a1cdc3fe/model-00002-of-000004.safetensors\n",
      "  model_type: QWEN2\n",
      "  output_dir: ./models/016\n",
      "  recipe_checkpoint: null\n",
      "custom_sharded_layers:\n",
      "- tok_embeddings\n",
      "- output\n",
      "dataset:\n",
      "  _component_: lib.pack.PackedDataset\n",
      "  dir: ./models/016/tensors\n",
      "  num_sequences: 144\n",
      "  sequence_length: 16384\n",
      "device: cuda\n",
      "dtype: bf16\n",
      "enable_activation_checkpointing: true\n",
      "enable_activation_offloading: true\n",
      "epochs: 1\n",
      "fsdp_cpu_offload: true\n",
      "gradient_accumulation_steps: 1\n",
      "loss:\n",
      "  _component_: lib.grpo.GRPO\n",
      "  clip_epsilon: 0.2\n",
      "  entropy_coef: 0.05\n",
      "  kl_coef: 0.01\n",
      "max_steps_per_epoch: null\n",
      "metric_logger:\n",
      "  _component_: torchtune.training.metric_logging.DiskLogger\n",
      "  log_dir: ./models/016/logs\n",
      "model:\n",
      "  _component_: torchtune.models.qwen2_5._model_builders.qwen2_5_14b_base\n",
      "num_output_chunks: 8\n",
      "optimizer:\n",
      "  _component_: torch.optim.AdamW\n",
      "  fused: true\n",
      "  lr: 5.0e-05\n",
      "reference_checkpointer:\n",
      "  _component_: torchtune.training.checkpointing._checkpointer.FullModelHFCheckpointer\n",
      "  checkpoint_dir: /home/gcpuser/.cache/huggingface/hub/models--deepseek-ai--DeepSeek-R1-Distill-Qwen-14B/snapshots/5ee96d8a09692e87087a6e0496d87124a1cdc3fe\n",
      "  checkpoint_files:\n",
      "  - /home/gcpuser/.cache/huggingface/hub/models--deepseek-ai--DeepSeek-R1-Distill-Qwen-14B/snapshots/5ee96d8a09692e87087a6e0496d87124a1cdc3fe/model-00004-of-000004.safetensors\n",
      "  - /home/gcpuser/.cache/huggingface/hub/models--deepseek-ai--DeepSeek-R1-Distill-Qwen-14B/snapshots/5ee96d8a09692e87087a6e0496d87124a1cdc3fe/model-00003-of-000004.safetensors\n",
      "  - /home/gcpuser/.cache/huggingface/hub/models--deepseek-ai--DeepSeek-R1-Distill-Qwen-14B/snapshots/5ee96d8a09692e87087a6e0496d87124a1cdc3fe/model-00001-of-000004.safetensors\n",
      "  - /home/gcpuser/.cache/huggingface/hub/models--deepseek-ai--DeepSeek-R1-Distill-Qwen-14B/snapshots/5ee96d8a09692e87087a6e0496d87124a1cdc3fe/model-00002-of-000004.safetensors\n",
      "  model_type: QWEN2\n",
      "  output_dir: ./models/016\n",
      "  recipe_checkpoint: null\n",
      "resume_from_checkpoint: false\n",
      "seed: 42\n",
      "shuffle: true\n",
      "\n",
      "DEBUG:torchtune.utils._logging:Setting manual seed to local seed 42. Local seed is seed + rank = 42 + 0\n"
     ]
    },
    {
     "name": "stdout",
     "output_type": "stream",
     "text": [
      "Writing logs to models/016/logs/log_1739983880.txt\n"
     ]
    },
    {
     "name": "stderr",
     "output_type": "stream",
     "text": [
      "INFO:torchtune.utils._logging:FSDP is enabled. Instantiating model and loading checkpoint on Rank 0 ...\n",
      "INFO:torchtune.utils._logging:Instantiating model and loading checkpoint took 29.26 secs\n",
      "INFO:torchtune.utils._logging:Memory stats after model init:\n",
      "\tGPU peak memory allocation: 7.81 GiB\n",
      "\tGPU peak memory reserved: 8.04 GiB\n",
      "\tGPU peak memory active: 7.81 GiB\n",
      "INFO:torchtune.utils._logging:Optimizer is initialized.\n",
      "INFO:torchtune.utils._logging:Loss is initialized.\n",
      "INFO:torchtune.utils._logging:Dataset and Sampler are initialized.\n",
      "WARNING:torchtune.utils._logging: Profiling disabled.\n",
      "INFO:torchtune.utils._logging: Profiler config after instantiation: {'enabled': False}\n",
      "  0%|          | 0/12 [00:00<?, ?it/s]/home/gcpuser/sky_workdir/.venv/lib/python3.12/site-packages/torch/autograd/graph.py:825: UserWarning: Error detected in MmBackward0. Traceback of forward call that caused the error:\n",
      "  File \"<frozen runpy>\", line 198, in _run_module_as_main\n",
      "  File \"<frozen runpy>\", line 88, in _run_code\n",
      "  File \"/home/gcpuser/sky_workdir/experiments/lib/recipe.py\", line 1322, in <module>\n",
      "    sys.exit(config.parse(recipe_main)())  # type: ignore\n",
      "  File \"/home/gcpuser/sky_workdir/.venv/lib/python3.12/site-packages/torchtune/config/_parse.py\", line 99, in wrapper\n",
      "    sys.exit(recipe_main(conf))\n",
      "  File \"/home/gcpuser/sky_workdir/experiments/lib/recipe.py\", line 1317, in recipe_main\n",
      "    recipe.train()\n",
      "  File \"/home/gcpuser/sky_workdir/experiments/lib/recipe.py\", line 1119, in train\n",
      "    hidden_states, logits = self._model(\n",
      "  File \"/home/gcpuser/sky_workdir/.venv/lib/python3.12/site-packages/torch/nn/modules/module.py\", line 1736, in _wrapped_call_impl\n",
      "    return self._call_impl(*args, **kwargs)\n",
      "  File \"/home/gcpuser/sky_workdir/.venv/lib/python3.12/site-packages/torch/nn/modules/module.py\", line 1844, in _call_impl\n",
      "    return inner()\n",
      "  File \"/home/gcpuser/sky_workdir/.venv/lib/python3.12/site-packages/torch/nn/modules/module.py\", line 1790, in inner\n",
      "    result = forward_call(*args, **kwargs)\n",
      "  File \"/home/gcpuser/sky_workdir/.venv/lib/python3.12/site-packages/torchtune/modules/transformer.py\", line 649, in forward\n",
      "    output = self.chunked_output(h)\n",
      "  File \"/home/gcpuser/sky_workdir/.venv/lib/python3.12/site-packages/torch/_dynamo/eval_frame.py\", line 632, in _fn\n",
      "    return fn(*args, **kwargs)\n",
      "  File \"/home/gcpuser/sky_workdir/.venv/lib/python3.12/site-packages/torchtune/modules/transformer.py\", line 502, in chunked_output\n",
      "    self.output(chunk)\n",
      "  File \"/home/gcpuser/sky_workdir/.venv/lib/python3.12/site-packages/torch/nn/modules/module.py\", line 1736, in _wrapped_call_impl\n",
      "    return self._call_impl(*args, **kwargs)\n",
      "  File \"/home/gcpuser/sky_workdir/.venv/lib/python3.12/site-packages/torch/nn/modules/module.py\", line 1844, in _call_impl\n",
      "    return inner()\n",
      "  File \"/home/gcpuser/sky_workdir/.venv/lib/python3.12/site-packages/torch/nn/modules/module.py\", line 1790, in inner\n",
      "    result = forward_call(*args, **kwargs)\n",
      "  File \"/home/gcpuser/sky_workdir/.venv/lib/python3.12/site-packages/torch/nn/modules/linear.py\", line 125, in forward\n",
      "    return F.linear(input, self.weight, self.bias)\n",
      " (Triggered internally at ../torch/csrc/autograd/python_anomaly_mode.cpp:110.)\n",
      "  return Variable._execution_engine.run_backward(  # Calls into the C++ engine to run the backward pass\n",
      "[rank3]: Traceback (most recent call last):\n",
      "[rank3]:   File \"<frozen runpy>\", line 198, in _run_module_as_main\n",
      "[rank3]:   File \"<frozen runpy>\", line 88, in _run_code\n",
      "[rank3]:   File \"/home/gcpuser/sky_workdir/experiments/lib/recipe.py\", line 1322, in <module>\n",
      "[rank3]:     sys.exit(config.parse(recipe_main)())  # type: ignore\n",
      "[rank3]:              ^^^^^^^^^^^^^^^^^^^^^^^^^^^\n",
      "[rank3]:   File \"/home/gcpuser/sky_workdir/.venv/lib/python3.12/site-packages/torchtune/config/_parse.py\", line 99, in wrapper\n",
      "[rank3]:     sys.exit(recipe_main(conf))\n",
      "[rank3]:              ^^^^^^^^^^^^^^^^^\n",
      "[rank3]:   File \"/home/gcpuser/sky_workdir/experiments/lib/recipe.py\", line 1317, in recipe_main\n",
      "[rank3]:     recipe.train()\n",
      "[rank3]:   File \"/home/gcpuser/sky_workdir/experiments/lib/recipe.py\", line 1158, in train\n",
      "[rank3]:     current_loss.backward()\n",
      "[rank3]:   File \"/home/gcpuser/sky_workdir/.venv/lib/python3.12/site-packages/torch/_tensor.py\", line 581, in backward\n",
      "[rank3]:     torch.autograd.backward(\n",
      "[rank3]:   File \"/home/gcpuser/sky_workdir/.venv/lib/python3.12/site-packages/torch/autograd/__init__.py\", line 347, in backward\n",
      "[rank3]:     _engine_run_backward(\n",
      "[rank3]:   File \"/home/gcpuser/sky_workdir/.venv/lib/python3.12/site-packages/torch/autograd/graph.py\", line 825, in _engine_run_backward\n",
      "[rank3]:     return Variable._execution_engine.run_backward(  # Calls into the C++ engine to run the backward pass\n",
      "[rank3]:            ^^^^^^^^^^^^^^^^^^^^^^^^^^^^^^^^^^^^^^^^^^^^^^^^^^^^^^^^^^^^^^^^^^^^^^^^^^^^^^^^^^^^^^^^^^^^^^\n",
      "[rank3]: RuntimeError: CUDA error: CUBLAS_STATUS_ALLOC_FAILED when calling `cublasCreate(handle)`\n",
      "W0219 16:52:36.211000 27072 torch/distributed/elastic/multiprocessing/api.py:897] Sending process 27223 closing signal SIGTERM\n",
      "W0219 16:52:36.215000 27072 torch/distributed/elastic/multiprocessing/api.py:897] Sending process 27224 closing signal SIGTERM\n",
      "W0219 16:52:36.216000 27072 torch/distributed/elastic/multiprocessing/api.py:897] Sending process 27225 closing signal SIGTERM\n",
      "E0219 16:52:46.156000 27072 torch/distributed/elastic/multiprocessing/api.py:869] failed (exitcode: 1) local_rank: 3 (pid: 27226) of binary: /home/gcpuser/sky_workdir/.venv/bin/python3\n",
      "Traceback (most recent call last):\n",
      "  File \"/home/gcpuser/sky_workdir/.venv/bin/tune\", line 10, in <module>\n",
      "    sys.exit(main())\n",
      "             ^^^^^^\n",
      "  File \"/home/gcpuser/sky_workdir/.venv/lib/python3.12/site-packages/torchtune/_cli/tune.py\", line 49, in main\n",
      "    parser.run(args)\n",
      "  File \"/home/gcpuser/sky_workdir/.venv/lib/python3.12/site-packages/torchtune/_cli/tune.py\", line 43, in run\n",
      "    args.func(args)\n",
      "  File \"/home/gcpuser/sky_workdir/.venv/lib/python3.12/site-packages/torchtune/_cli/run.py\", line 206, in _run_cmd\n",
      "    self._run_distributed(args, is_builtin=is_builtin)\n",
      "  File \"/home/gcpuser/sky_workdir/.venv/lib/python3.12/site-packages/torch/distributed/elastic/multiprocessing/errors/__init__.py\", line 355, in wrapper\n",
      "    return f(*args, **kwargs)\n",
      "           ^^^^^^^^^^^^^^^^^^\n",
      "  File \"/home/gcpuser/sky_workdir/.venv/lib/python3.12/site-packages/torchtune/_cli/run.py\", line 95, in _run_distributed\n",
      "    run(args)\n",
      "  File \"/home/gcpuser/sky_workdir/.venv/lib/python3.12/site-packages/torch/distributed/run.py\", line 910, in run\n",
      "    elastic_launch(\n",
      "  File \"/home/gcpuser/sky_workdir/.venv/lib/python3.12/site-packages/torch/distributed/launcher/api.py\", line 138, in __call__\n",
      "    return launch_agent(self._config, self._entrypoint, list(args))\n",
      "           ^^^^^^^^^^^^^^^^^^^^^^^^^^^^^^^^^^^^^^^^^^^^^^^^^^^^^^^^\n",
      "  File \"/home/gcpuser/sky_workdir/.venv/lib/python3.12/site-packages/torch/distributed/launcher/api.py\", line 269, in launch_agent\n",
      "    raise ChildFailedError(\n",
      "torch.distributed.elastic.multiprocessing.errors.ChildFailedError: \n",
      "============================================================\n",
      "lib.recipe FAILED\n",
      "------------------------------------------------------------\n",
      "Failures:\n",
      "  <NO_OTHER_FAILURES>\n",
      "------------------------------------------------------------\n",
      "Root Cause (first observed failure):\n",
      "[0]:\n",
      "  time      : 2025-02-19_16:52:36\n",
      "  host      : openpipe5-5dfb735c-head-9v71jpmj-compute.us-central1-a.c.twitter-356516.internal\n",
      "  rank      : 3 (local_rank: 3)\n",
      "  exitcode  : 1 (pid: 27226)\n",
      "  error_file: <N/A>\n",
      "  traceback : To enable traceback see: https://pytorch.org/docs/stable/elastic/errors.html\n",
      "============================================================\n"
     ]
    },
    {
     "ename": "AssertionError",
     "evalue": "No model checkpoint files found to save in output directory ./models/016",
     "output_type": "error",
     "traceback": [
      "\u001b[0;31m---------------------------------------------------------------------------\u001b[0m",
      "\u001b[0;31mAssertionError\u001b[0m                            Traceback (most recent call last)",
      "Cell \u001b[0;32mIn[15], line 105\u001b[0m\n\u001b[1;32m    103\u001b[0m     \u001b[38;5;28;01mif\u001b[39;00m model\u001b[38;5;241m.\u001b[39mtune_optimizer \u001b[38;5;241m==\u001b[39m \u001b[38;5;124m\"\u001b[39m\u001b[38;5;124mtorch.optim.AdamW\u001b[39m\u001b[38;5;124m\"\u001b[39m:\n\u001b[1;32m    104\u001b[0m         optimizer_config\u001b[38;5;241m.\u001b[39mfused \u001b[38;5;241m=\u001b[39m \u001b[38;5;28;01mTrue\u001b[39;00m\n\u001b[0;32m--> 105\u001b[0m     model_name \u001b[38;5;241m=\u001b[39m \u001b[38;5;28;01mawait\u001b[39;00m tune(\n\u001b[1;32m    106\u001b[0m         base_model\u001b[38;5;241m=\u001b[39mmodel\u001b[38;5;241m.\u001b[39mbase_model,\n\u001b[1;32m    107\u001b[0m         output_dir\u001b[38;5;241m=\u001b[39moutput_dir,\n\u001b[1;32m    108\u001b[0m         packed_tensors\u001b[38;5;241m=\u001b[39mpacked_tensors,\n\u001b[1;32m    109\u001b[0m         model\u001b[38;5;241m=\u001b[39mmodel\u001b[38;5;241m.\u001b[39mtune_model,\n\u001b[1;32m    110\u001b[0m         model_type\u001b[38;5;241m=\u001b[39mmodel\u001b[38;5;241m.\u001b[39mtune_model_type,\n\u001b[1;32m    111\u001b[0m         config\u001b[38;5;241m=\u001b[39mTuneRecipeConfig(\n\u001b[1;32m    112\u001b[0m             optimizer\u001b[38;5;241m=\u001b[39moptimizer_config,\n\u001b[1;32m    113\u001b[0m             loss\u001b[38;5;241m=\u001b[39mComponentConfig(\n\u001b[1;32m    114\u001b[0m                 GRPO,\n\u001b[1;32m    115\u001b[0m                 clip_epsilon\u001b[38;5;241m=\u001b[39mclip_epsilon,\n\u001b[1;32m    116\u001b[0m                 entropy_coef\u001b[38;5;241m=\u001b[39mentropy_coef,\n\u001b[1;32m    117\u001b[0m                 kl_coef\u001b[38;5;241m=\u001b[39mkl_coef,\n\u001b[1;32m    118\u001b[0m             ),\n\u001b[1;32m    119\u001b[0m             shuffle\u001b[38;5;241m=\u001b[39m\u001b[38;5;28;01mTrue\u001b[39;00m,\n\u001b[1;32m    120\u001b[0m             batch_size\u001b[38;5;241m=\u001b[39mmodel\u001b[38;5;241m.\u001b[39mtune_max_batch_tokens \u001b[38;5;241m/\u001b[39m\u001b[38;5;241m/\u001b[39m seq_len,\n\u001b[1;32m    121\u001b[0m             fsdp_cpu_offload\u001b[38;5;241m=\u001b[39mmodel\u001b[38;5;241m.\u001b[39mtune_fsdp_cpu_offload,\n\u001b[1;32m    122\u001b[0m             enable_activation_checkpointing\u001b[38;5;241m=\u001b[39m\u001b[38;5;28;01mTrue\u001b[39;00m,\n\u001b[1;32m    123\u001b[0m             enable_activation_offloading\u001b[38;5;241m=\u001b[39m\u001b[38;5;28;01mTrue\u001b[39;00m,\n\u001b[1;32m    124\u001b[0m             custom_sharded_layers\u001b[38;5;241m=\u001b[39m[\u001b[38;5;124m\"\u001b[39m\u001b[38;5;124mtok_embeddings\u001b[39m\u001b[38;5;124m\"\u001b[39m, \u001b[38;5;124m\"\u001b[39m\u001b[38;5;124moutput\u001b[39m\u001b[38;5;124m\"\u001b[39m],\n\u001b[1;32m    125\u001b[0m             num_output_chunks\u001b[38;5;241m=\u001b[39m\u001b[38;5;241m8\u001b[39m,\n\u001b[1;32m    126\u001b[0m         ),\n\u001b[1;32m    127\u001b[0m         verbosity\u001b[38;5;241m=\u001b[39mverbosity,\n\u001b[1;32m    128\u001b[0m     )\n\u001b[1;32m    129\u001b[0m     \u001b[38;5;28;01mraise\u001b[39;00m\n\u001b[1;32m    130\u001b[0m wandb\u001b[38;5;241m.\u001b[39mfinish()\n",
      "File \u001b[0;32m~/sky_workdir/experiments/lib/tune.py:143\u001b[0m, in \u001b[0;36mtune\u001b[0;34m(base_model, output_dir, packed_tensors, model, model_type, config, in_process, verbosity)\u001b[0m\n\u001b[1;32m    135\u001b[0m \u001b[38;5;28;01melse\u001b[39;00m:\n\u001b[1;32m    136\u001b[0m     \u001b[38;5;28;01mawait\u001b[39;00m _tune_run(\n\u001b[1;32m    137\u001b[0m         config_path\u001b[38;5;241m=\u001b[39m\u001b[38;5;124mf\u001b[39m\u001b[38;5;124m\"\u001b[39m\u001b[38;5;132;01m{\u001b[39;00moutput_dir\u001b[38;5;132;01m}\u001b[39;00m\u001b[38;5;124m/config.yaml\u001b[39m\u001b[38;5;124m\"\u001b[39m,\n\u001b[1;32m    138\u001b[0m         total\u001b[38;5;241m=\u001b[39mdisk_packed_tensors[\u001b[38;5;124m\"\u001b[39m\u001b[38;5;124mnum_sequences\u001b[39m\u001b[38;5;124m\"\u001b[39m],\n\u001b[0;32m   (...)\u001b[0m\n\u001b[1;32m    141\u001b[0m         tune_run_env\u001b[38;5;241m=\u001b[39m{\u001b[38;5;124m\"\u001b[39m\u001b[38;5;124mCUDA_LAUNCH_BLOCKING\u001b[39m\u001b[38;5;124m\"\u001b[39m: \u001b[38;5;124m\"\u001b[39m\u001b[38;5;124m1\u001b[39m\u001b[38;5;124m\"\u001b[39m},\n\u001b[1;32m    142\u001b[0m     )\n\u001b[0;32m--> 143\u001b[0m \u001b[38;5;28;01mreturn\u001b[39;00m \u001b[43m_save_last_checkpoint_files\u001b[49m\u001b[43m(\u001b[49m\u001b[43mbase_checkpoint_dir\u001b[49m\u001b[43m,\u001b[49m\u001b[43m \u001b[49m\u001b[43moutput_dir\u001b[49m\u001b[43m)\u001b[49m\n",
      "File \u001b[0;32m~/sky_workdir/experiments/lib/tune.py:270\u001b[0m, in \u001b[0;36m_save_last_checkpoint_files\u001b[0;34m(base_checkpoint_dir, output_dir)\u001b[0m\n\u001b[1;32m    256\u001b[0m \u001b[38;5;66;03m# Find the latest epoch number from model checkpoint files\u001b[39;00m\n\u001b[1;32m    257\u001b[0m epoch \u001b[38;5;241m=\u001b[39m \u001b[38;5;28mmax\u001b[39m(\n\u001b[1;32m    258\u001b[0m     (\n\u001b[1;32m    259\u001b[0m         \u001b[38;5;28mint\u001b[39m(result\u001b[38;5;241m.\u001b[39mgroup(\u001b[38;5;241m1\u001b[39m))\n\u001b[0;32m   (...)\u001b[0m\n\u001b[1;32m    266\u001b[0m     default\u001b[38;5;241m=\u001b[39m\u001b[38;5;28;01mNone\u001b[39;00m,\n\u001b[1;32m    267\u001b[0m )\n\u001b[1;32m    269\u001b[0m \u001b[38;5;28;01massert\u001b[39;00m (\n\u001b[0;32m--> 270\u001b[0m     epoch \u001b[38;5;129;01mis\u001b[39;00m \u001b[38;5;129;01mnot\u001b[39;00m \u001b[38;5;28;01mNone\u001b[39;00m\n\u001b[1;32m    271\u001b[0m ), \u001b[38;5;124mf\u001b[39m\u001b[38;5;124m\"\u001b[39m\u001b[38;5;124mNo model checkpoint files found to save in output directory \u001b[39m\u001b[38;5;132;01m{\u001b[39;00moutput_dir\u001b[38;5;132;01m}\u001b[39;00m\u001b[38;5;124m\"\u001b[39m\n\u001b[1;32m    273\u001b[0m iteration, iteration_dir \u001b[38;5;241m=\u001b[39m _create_iteration_dir(base_checkpoint_dir, output_dir)\n\u001b[1;32m    275\u001b[0m \u001b[38;5;66;03m# Move model checkpoint files to the iteration directory\u001b[39;00m\n",
      "\u001b[0;31mAssertionError\u001b[0m: No model checkpoint files found to save in output directory ./models/016"
     ]
    }
   ],
   "source": [
    "for i in range(get_iteration(output_dir), num_iterations + 1):\n",
    "    vllm = await start_vllm(\n",
    "        model_name,\n",
    "        max_concurrent_requests=512,\n",
    "        named_arguments=dict(\n",
    "            block_size=32,\n",
    "            disable_log_requests=True,\n",
    "            enable_prefix_caching=True,\n",
    "            enforce_eager=True,\n",
    "            gpu_memory_utilization=0.95,\n",
    "            max_model_len=16384,\n",
    "            max_num_seqs=512,\n",
    "            max_num_batched_tokens=16384,\n",
    "            num_scheduler_steps=8,\n",
    "            preemption_mode=\"swap\",\n",
    "            return_tokens_as_token_ids=True,\n",
    "            swap_space=80,\n",
    "            tensor_parallel_size=torch.cuda.device_count(),\n",
    "        ),\n",
    "        timeout=180 + 15 * torch.cuda.device_count(),\n",
    "        verbosity=verbosity,\n",
    "    )\n",
    "    semaphore = asyncio.Semaphore(\n",
    "        int(1.2 * vllm.max_concurrent_tokens / expected_tokens)\n",
    "    )\n",
    "    offset = i * stride\n",
    "    val_results, train_results = await asyncio.gather(\n",
    "        get_task_results(\n",
    "            tasks=val_tasks,\n",
    "            client=vllm.client,\n",
    "            model=vllm.model,\n",
    "            cache=False,\n",
    "            log_results=8,\n",
    "            params=ChatCompletionParams(\n",
    "                stream_options={\n",
    "                    \"include_usage\": True,\n",
    "                },\n",
    "            ),\n",
    "            pbar_desc=\"val\",\n",
    "            semaphore=semaphore,\n",
    "        ),\n",
    "        get_task_results(\n",
    "            tasks=list(islice(cycle(train_tasks), offset, offset + tasks_per_iter)),\n",
    "            client=vllm.client,\n",
    "            model=vllm.model,\n",
    "            cache=False,\n",
    "            log_results=False,\n",
    "            n=samples_per_task,\n",
    "            params=ChatCompletionParams(\n",
    "                stream_options={\n",
    "                    \"include_usage\": True,\n",
    "                },\n",
    "            ),\n",
    "            pbar_desc=\"train\",\n",
    "            semaphore=semaphore,\n",
    "            transform=TaskResultTokenizer(tokenizer),\n",
    "        ),\n",
    "    )\n",
    "    val_stats = val_results.stats\n",
    "    assert val_stats.grades > 0\n",
    "    assert val_stats.usages > 0\n",
    "    wandb_data = {\n",
    "        \"iteration\": i,\n",
    "        \"exceptions\": val_stats.exceptions + train_results.stats.exceptions,\n",
    "        \"reward\": val_stats.total_reward / val_stats.grades,\n",
    "        \"tokens\": val_stats.completion_tokens / val_stats.usages,\n",
    "    }\n",
    "    try:\n",
    "        wandb_data.update(\n",
    "            pl.DataFrame(last_tune_log(output_dir)).drop(\"step\").mean().to_dicts()[0]\n",
    "        )\n",
    "    except Exception:\n",
    "        pass\n",
    "    wandb.log(wandb_data)\n",
    "    expected_tokens = round(wandb_data[\"tokens\"])\n",
    "    vllm.process.terminate()\n",
    "    kill_vllm_workers()\n",
    "    try:\n",
    "        best_iteration = (\n",
    "            wandb.Api()\n",
    "            .run(f\"{run.entity}/{run.project}/{run.id}\")\n",
    "            .history()\n",
    "            .sort_values(by=\"reward\")[\"iteration\"]\n",
    "            .iloc[-1]\n",
    "        )\n",
    "        clear_iteration_dirs(output_dir, [best_iteration, get_iteration(output_dir) - 1])\n",
    "    except Exception:\n",
    "        pass\n",
    "    packed_tensors = packed_tensors_from_tokenized_results(\n",
    "        [\n",
    "            result\n",
    "            for results in train_results\n",
    "            for result in results\n",
    "            if result.advantage != 0\n",
    "        ],\n",
    "        seq_len=seq_len,\n",
    "        pad_token_id=tokenizer.pad_token_id,  # type: ignore\n",
    "    )\n",
    "    if verbosity == 2:\n",
    "        plot_packed_tensors(packed_tensors)\n",
    "    else:\n",
    "        print(f\"Packed tensors into {packed_tensors[\"tokens\"].size()} shape\")\n",
    "    optimizer_config = ComponentConfig(model.tune_optimizer, lr=lr)\n",
    "    if model.tune_optimizer == \"torch.optim.AdamW\":\n",
    "        optimizer_config.fused = True\n",
    "    model_name = await tune(\n",
    "        base_model=model.base_model,\n",
    "        output_dir=output_dir,\n",
    "        packed_tensors=packed_tensors,\n",
    "        model=model.tune_model,\n",
    "        model_type=model.tune_model_type,\n",
    "        config=TuneRecipeConfig(\n",
    "            optimizer=optimizer_config,\n",
    "            loss=ComponentConfig(\n",
    "                GRPO,\n",
    "                clip_epsilon=clip_epsilon,\n",
    "                entropy_coef=entropy_coef,\n",
    "                kl_coef=kl_coef,\n",
    "            ),\n",
    "            shuffle=True,\n",
    "            batch_size=model.tune_max_batch_tokens // seq_len,\n",
    "            fsdp_cpu_offload=model.tune_fsdp_cpu_offload,\n",
    "            enable_activation_checkpointing=True,\n",
    "            enable_activation_offloading=True,\n",
    "            custom_sharded_layers=[\"tok_embeddings\", \"output\"],\n",
    "            num_output_chunks=8,\n",
    "        ),\n",
    "        verbosity=verbosity,\n",
    "    )\n",
    "wandb.finish()"
   ]
  }
 ],
 "metadata": {
  "kernelspec": {
   "display_name": ".venv",
   "language": "python",
   "name": "python3"
  },
  "language_info": {
   "codemirror_mode": {
    "name": "ipython",
    "version": 3
   },
   "file_extension": ".py",
   "mimetype": "text/x-python",
   "name": "python",
   "nbconvert_exporter": "python",
   "pygments_lexer": "ipython3",
   "version": "3.12.9"
  }
 },
 "nbformat": 4,
 "nbformat_minor": 2
}
