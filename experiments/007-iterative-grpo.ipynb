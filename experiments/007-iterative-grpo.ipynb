{
 "cells": [
  {
   "cell_type": "code",
   "execution_count": 1,
   "metadata": {},
   "outputs": [],
   "source": [
    "%load_ext autoreload\n",
    "%autoreload 2"
   ]
  },
  {
   "cell_type": "code",
   "execution_count": 2,
   "metadata": {},
   "outputs": [
    {
     "data": {
      "text/html": [
       "<style>\n",
       ".cell-output-ipywidget-background {\n",
       "    background-color: transparent !important;\n",
       "}\n",
       ":root {\n",
       "    --jp-widgets-color: var(--vscode-editor-foreground);\n",
       "    --jp-widgets-font-size: var(--vscode-editor-font-size);\n",
       "}  \n",
       "</style>\n"
      ],
      "text/plain": [
       "<IPython.core.display.HTML object>"
      ]
     },
     "metadata": {},
     "output_type": "display_data"
    }
   ],
   "source": [
    "%%html\n",
    "<style>\n",
    ".cell-output-ipywidget-background {\n",
    "    background-color: transparent !important;\n",
    "}\n",
    ":root {\n",
    "    --jp-widgets-color: var(--vscode-editor-foreground);\n",
    "    --jp-widgets-font-size: var(--vscode-editor-font-size);\n",
    "}  \n",
    "</style>"
   ]
  },
  {
   "cell_type": "code",
   "execution_count": null,
   "metadata": {},
   "outputs": [
    {
     "name": "stdout",
     "output_type": "stream",
     "text": [
      "import error: No module named 'triton'\n"
     ]
    },
    {
     "data": {
      "text/plain": [
       "(436, 72, 92, 436)"
      ]
     },
     "execution_count": 3,
     "metadata": {},
     "output_type": "execute_result"
    }
   ],
   "source": [
    "import asyncio\n",
    "from itertools import cycle, islice\n",
    "from lib import models\n",
    "from lib.nyt_connections import get_connections_games, get_connections_tasks\n",
    "from lib.pack import packed_tensors_from_tokenized_results, plot_packed_tensors\n",
    "from lib.recipe import ComponentConfig, TuneRecipeConfig\n",
    "from lib.tasks import ChatCompletionParams, get_task_results\n",
    "from lib.tokenize import TaskResultTokenizer\n",
    "from lib.tune import get_iteration, tune\n",
    "from lib.vllm import start_vllm, kill_vllm_workers\n",
    "import torch\n",
    "from torchtune.training.metric_logging import WandBLogger\n",
    "from transformers import AutoTokenizer\n",
    "import wandb\n",
    "\n",
    "run_name = \"007\"\n",
    "wandb.init(project=\"grpo-tests\", name=run_name)\n",
    "\n",
    "games = get_connections_games()\n",
    "tasks = list(\n",
    "    islice(get_connections_tasks(games, parse_answers_liberally=False), len(games) * 2)\n",
    ")\n",
    "distill_tasks = tasks[:436]\n",
    "val_tasks = tasks[436:508]\n",
    "test_tasks = tasks[508 : len(games)]\n",
    "train_tasks = tasks[len(games) : len(games) + 436]\n",
    "len(distill_tasks), len(val_tasks), len(test_tasks), len(train_tasks)"
   ]
  },
  {
   "cell_type": "code",
   "execution_count": 4,
   "metadata": {},
   "outputs": [
    {
     "name": "stdout",
     "output_type": "stream",
     "text": [
      "$ vllm serve deepseek-ai/DeepSeek-R1-Distill-Qwen-7B --block-size=32 --disable-log-requests --enable-prefix-caching --enforce-eager --gpu-memory-utilization=0.95 --max-model-len=16384 --max-num-seqs=512 --max-num-batched-tokens=16384 --num-scheduler-steps=8 --preemption-mode=swap --return-tokens-as-token-ids --swap-space=80 --tensor-parallel-size=1 --port=8000 --api-key=default\n",
      "INFO 02-19 00:36:43 __init__.py:190] Automatically detected platform cuda.\n",
      "INFO 02-19 00:36:43 api_server.py:840] vLLM API server version 0.7.2\n",
      "INFO 02-19 00:36:43 api_server.py:841] args: Namespace(subparser='serve', model_tag='deepseek-ai/DeepSeek-R1-Distill-Qwen-7B', config='', host=None, port=8000, uvicorn_log_level='info', allow_credentials=False, allowed_origins=['*'], allowed_methods=['*'], allowed_headers=['*'], api_key='default', lora_modules=None, prompt_adapters=None, chat_template=None, chat_template_content_format='auto', response_role='assistant', ssl_keyfile=None, ssl_certfile=None, ssl_ca_certs=None, ssl_cert_reqs=0, root_path=None, middleware=[], return_tokens_as_token_ids=True, disable_frontend_multiprocessing=False, enable_request_id_headers=False, enable_auto_tool_choice=False, enable_reasoning=False, reasoning_parser=None, tool_call_parser=None, tool_parser_plugin='', model='deepseek-ai/DeepSeek-R1-Distill-Qwen-7B', task='auto', tokenizer=None, skip_tokenizer_init=False, revision=None, code_revision=None, tokenizer_revision=None, tokenizer_mode='auto', trust_remote_code=False, allowed_local_media_path=None, download_dir=None, load_format='auto', config_format=<ConfigFormat.AUTO: 'auto'>, dtype='auto', kv_cache_dtype='auto', max_model_len=16384, guided_decoding_backend='xgrammar', logits_processor_pattern=None, model_impl='auto', distributed_executor_backend=None, pipeline_parallel_size=1, tensor_parallel_size=1, max_parallel_loading_workers=None, ray_workers_use_nsight=False, block_size=32, enable_prefix_caching=True, disable_sliding_window=False, use_v2_block_manager=True, num_lookahead_slots=0, seed=0, swap_space=80.0, cpu_offload_gb=0, gpu_memory_utilization=0.95, num_gpu_blocks_override=None, max_num_batched_tokens=16384, max_num_seqs=512, max_logprobs=20, disable_log_stats=False, quantization=None, rope_scaling=None, rope_theta=None, hf_overrides=None, enforce_eager=True, max_seq_len_to_capture=8192, disable_custom_all_reduce=False, tokenizer_pool_size=0, tokenizer_pool_type='ray', tokenizer_pool_extra_config=None, limit_mm_per_prompt=None, mm_processor_kwargs=None, disable_mm_preprocessor_cache=False, enable_lora=False, enable_lora_bias=False, max_loras=1, max_lora_rank=16, lora_extra_vocab_size=256, lora_dtype='auto', long_lora_scaling_factors=None, max_cpu_loras=None, fully_sharded_loras=False, enable_prompt_adapter=False, max_prompt_adapters=1, max_prompt_adapter_token=0, device='auto', num_scheduler_steps=8, multi_step_stream_outputs=True, scheduler_delay_factor=0.0, enable_chunked_prefill=None, speculative_model=None, speculative_model_quantization=None, num_speculative_tokens=None, speculative_disable_mqa_scorer=False, speculative_draft_tensor_parallel_size=None, speculative_max_model_len=None, speculative_disable_by_batch_size=None, ngram_prompt_lookup_max=None, ngram_prompt_lookup_min=None, spec_decoding_acceptance_method='rejection_sampler', typical_acceptance_sampler_posterior_threshold=None, typical_acceptance_sampler_posterior_alpha=None, disable_logprobs_during_spec_decoding=None, model_loader_extra_config=None, ignore_patterns=[], preemption_mode='swap', served_model_name=None, qlora_adapter_name_or_path=None, otlp_traces_endpoint=None, collect_detailed_traces=None, disable_async_output_proc=False, scheduling_policy='fcfs', override_neuron_config=None, override_pooler_config=None, compilation_config=None, kv_transfer_config=None, worker_cls='auto', generation_config=None, override_generation_config=None, enable_sleep_mode=False, calculate_kv_scales=False, disable_log_requests=True, max_log_len=None, disable_fastapi_docs=False, enable_prompt_tokens_details=False, dispatch_function=<function serve at 0x763a9e3d22a0>)\n",
      "INFO 02-19 00:36:43 api_server.py:206] Started engine process with PID 80854\n",
      "INFO 02-19 00:36:46 __init__.py:190] Automatically detected platform cuda.\n",
      "INFO 02-19 00:36:49 config.py:542] This model supports multiple tasks: {'score', 'embed', 'generate', 'classify', 'reward'}. Defaulting to 'generate'.\n",
      "WARNING 02-19 00:36:49 cuda.py:95] To see benefits of async output processing, enable CUDA graph. Since, enforce-eager is enabled, async output processor cannot be used\n",
      "WARNING 02-19 00:36:49 config.py:678] Async output processing is not supported on the current platform type cuda.\n",
      "INFO 02-19 00:36:52 config.py:542] This model supports multiple tasks: {'reward', 'score', 'generate', 'classify', 'embed'}. Defaulting to 'generate'.\n",
      "WARNING 02-19 00:36:52 cuda.py:95] To see benefits of async output processing, enable CUDA graph. Since, enforce-eager is enabled, async output processor cannot be used\n",
      "WARNING 02-19 00:36:52 config.py:678] Async output processing is not supported on the current platform type cuda.\n",
      "INFO 02-19 00:36:52 llm_engine.py:234] Initializing a V0 LLM engine (v0.7.2) with config: model='deepseek-ai/DeepSeek-R1-Distill-Qwen-7B', speculative_config=None, tokenizer='deepseek-ai/DeepSeek-R1-Distill-Qwen-7B', skip_tokenizer_init=False, tokenizer_mode=auto, revision=None, override_neuron_config=None, tokenizer_revision=None, trust_remote_code=False, dtype=torch.bfloat16, max_seq_len=16384, download_dir=None, load_format=LoadFormat.AUTO, tensor_parallel_size=1, pipeline_parallel_size=1, disable_custom_all_reduce=False, quantization=None, enforce_eager=True, kv_cache_dtype=auto,  device_config=cuda, decoding_config=DecodingConfig(guided_decoding_backend='xgrammar'), observability_config=ObservabilityConfig(otlp_traces_endpoint=None, collect_model_forward_time=False, collect_model_execute_time=False), seed=0, served_model_name=deepseek-ai/DeepSeek-R1-Distill-Qwen-7B, num_scheduler_steps=8, multi_step_stream_outputs=True, enable_prefix_caching=True, chunked_prefill_enabled=False, use_async_output_proc=False, disable_mm_preprocessor_cache=False, mm_processor_kwargs=None, pooler_config=None, compilation_config={\"splitting_ops\":[],\"compile_sizes\":[],\"cudagraph_capture_sizes\":[],\"max_capture_size\":0}, use_cached_outputs=True, \n",
      "INFO 02-19 00:36:53 cuda.py:230] Using Flash Attention backend.\n",
      "WARNING 02-19 00:36:53 registry.py:340] `mm_limits` has already been set for model=deepseek-ai/DeepSeek-R1-Distill-Qwen-7B, and will be overwritten by the new values.\n",
      "INFO 02-19 00:36:53 model_runner.py:1110] Starting to load model deepseek-ai/DeepSeek-R1-Distill-Qwen-7B...\n",
      "INFO 02-19 00:36:54 weight_utils.py:252] Using model weights format ['*.safetensors']\n"
     ]
    },
    {
     "name": "stderr",
     "output_type": "stream",
     "text": [
      "Loading safetensors checkpoint shards:   0% Completed | 0/2 [00:00<?, ?it/s]\n",
      "Loading safetensors checkpoint shards:  50% Completed | 1/2 [00:00<00:00,  1.13it/s]\n",
      "Loading safetensors checkpoint shards: 100% Completed | 2/2 [00:02<00:00,  1.09s/it]\n",
      "Loading safetensors checkpoint shards: 100% Completed | 2/2 [00:02<00:00,  1.06s/it]\n",
      "\n"
     ]
    },
    {
     "name": "stdout",
     "output_type": "stream",
     "text": [
      "INFO 02-19 00:36:56 model_runner.py:1115] Loading model weights took 14.2717 GB\n",
      "INFO 02-19 00:36:57 worker.py:267] Memory profiling takes 0.71 seconds\n",
      "INFO 02-19 00:36:57 worker.py:267] the current vLLM instance can use total_gpu_memory (79.10GiB) x gpu_memory_utilization (0.95) = 75.14GiB\n",
      "INFO 02-19 00:36:57 worker.py:267] model weights take 14.27GiB; non_torch_memory takes 0.15GiB; PyTorch activation peak memory takes 2.90GiB; the rest of the memory reserved for KV Cache is 57.82GiB.\n",
      "INFO 02-19 00:36:57 executor_base.py:110] # CUDA blocks: 33833, # CPU blocks: 46811\n",
      "INFO 02-19 00:36:57 executor_base.py:115] Maximum concurrency for 16384 tokens per request: 66.08x\n",
      "INFO 02-19 00:37:35 llm_engine.py:431] init engine (profile, create kv cache, warmup model) took 38.44 seconds\n",
      "INFO 02-19 00:37:36 api_server.py:756] Using supplied chat template:\n",
      "INFO 02-19 00:37:36 api_server.py:756] None\n",
      "INFO 02-19 00:37:36 launcher.py:21] Available routes are:\n",
      "INFO 02-19 00:37:36 launcher.py:29] Route: /openapi.json, Methods: GET, HEAD\n",
      "INFO 02-19 00:37:36 launcher.py:29] Route: /docs, Methods: GET, HEAD\n",
      "INFO 02-19 00:37:36 launcher.py:29] Route: /docs/oauth2-redirect, Methods: GET, HEAD\n",
      "INFO 02-19 00:37:36 launcher.py:29] Route: /redoc, Methods: GET, HEAD\n",
      "INFO 02-19 00:37:36 launcher.py:29] Route: /health, Methods: GET\n",
      "INFO 02-19 00:37:36 launcher.py:29] Route: /ping, Methods: GET, POST\n",
      "INFO 02-19 00:37:36 launcher.py:29] Route: /tokenize, Methods: POST\n",
      "INFO 02-19 00:37:36 launcher.py:29] Route: /detokenize, Methods: POST\n",
      "INFO 02-19 00:37:36 launcher.py:29] Route: /v1/models, Methods: GET\n",
      "INFO 02-19 00:37:36 launcher.py:29] Route: /version, Methods: GET\n",
      "INFO 02-19 00:37:36 launcher.py:29] Route: /v1/chat/completions, Methods: POST\n",
      "INFO 02-19 00:37:36 launcher.py:29] Route: /v1/completions, Methods: POST\n",
      "INFO 02-19 00:37:36 launcher.py:29] Route: /v1/embeddings, Methods: POST\n",
      "INFO 02-19 00:37:36 launcher.py:29] Route: /pooling, Methods: POST\n",
      "INFO 02-19 00:37:36 launcher.py:29] Route: /score, Methods: POST\n",
      "INFO 02-19 00:37:36 launcher.py:29] Route: /v1/score, Methods: POST\n",
      "INFO 02-19 00:37:36 launcher.py:29] Route: /rerank, Methods: POST\n",
      "INFO 02-19 00:37:36 launcher.py:29] Route: /v1/rerank, Methods: POST\n",
      "INFO 02-19 00:37:36 launcher.py:29] Route: /v2/rerank, Methods: POST\n",
      "INFO 02-19 00:37:36 launcher.py:29] Route: /invocations, Methods: POST\n"
     ]
    },
    {
     "name": "stderr",
     "output_type": "stream",
     "text": [
      "INFO:     Started server process [80796]\n",
      "INFO:     Waiting for application startup.\n",
      "INFO:     Application startup complete.\n",
      "INFO:     Uvicorn running on http://0.0.0.0:8000 (Press CTRL+C to quit)\n"
     ]
    },
    {
     "name": "stdout",
     "output_type": "stream",
     "text": [
      "INFO 02-19 00:37:39 chat_utils.py:332] Detected the chat template content format to be 'string'. You can set `--chat-template-content-format` to override this.\n",
      "INFO:     127.0.0.1:43444 - \"POST /v1/chat/completions HTTP/1.1\" 200 OK\n",
      "vLLM server started succesfully. Logs can be found at ./logs/vllm.log\n"
     ]
    }
   ],
   "source": [
    "model = models.qwen_7b()\n",
    "model_name = model.base_model\n",
    "num_iterations = 10\n",
    "output_dir = f\"./models/{run_name}\"\n",
    "seq_len = 16384\n",
    "tokenizer = AutoTokenizer.from_pretrained(model.base_model)\n",
    "verbosity = 2\n",
    "\n",
    "for i in range(get_iteration(output_dir), num_iterations + 1):\n",
    "    vllm = await start_vllm(\n",
    "        model_name,\n",
    "        max_concurrent_requests=512,\n",
    "        named_arguments=dict(\n",
    "            block_size=32,\n",
    "            disable_log_requests=True,\n",
    "            enable_prefix_caching=True,\n",
    "            enforce_eager=True,\n",
    "            gpu_memory_utilization=0.95,\n",
    "            max_model_len=16384,\n",
    "            max_num_seqs=512,\n",
    "            max_num_batched_tokens=16384,\n",
    "            num_scheduler_steps=8,\n",
    "            preemption_mode=\"swap\",\n",
    "            return_tokens_as_token_ids=True,\n",
    "            swap_space=80,\n",
    "            tensor_parallel_size=torch.cuda.device_count(),\n",
    "        ),\n",
    "        timeout=120 + 15 * torch.cuda.device_count(),\n",
    "        verbosity=verbosity,\n",
    "    )\n",
    "    semaphore = asyncio.Semaphore(vllm.max_concurrent_tokens // 3300)\n",
    "    offset = i * 32\n",
    "    (_, val_stats), (train_results, train_stats) = await asyncio.gather(\n",
    "        get_task_results(\n",
    "            tasks=val_tasks,\n",
    "            client=vllm.client,\n",
    "            model=vllm.model,\n",
    "            cache=False,\n",
    "            log_results=8,\n",
    "            params=ChatCompletionParams(\n",
    "                stream_options={\n",
    "                    \"include_usage\": True,\n",
    "                },\n",
    "            ),\n",
    "            pbar_desc=\"val\",\n",
    "            semaphore=semaphore,\n",
    "        ),\n",
    "        get_task_results(\n",
    "            tasks=list(islice(cycle(train_tasks), offset, offset + 32)),\n",
    "            client=vllm.client,\n",
    "            model=vllm.model,\n",
    "            cache=False,\n",
    "            log_results=False,\n",
    "            n=16,\n",
    "            params=ChatCompletionParams(\n",
    "                stream_options={\n",
    "                    \"include_usage\": True,\n",
    "                },\n",
    "            ),\n",
    "            pbar_desc=\"train\",\n",
    "            semaphore=semaphore,\n",
    "            transform=TaskResultTokenizer(tokenizer),\n",
    "        ),\n",
    "    )\n",
    "    assert val_stats.grades > 0\n",
    "    assert val_stats.usages > 0\n",
    "    wandb_data = {\n",
    "        \"iteration\": i,\n",
    "        \"exceptions\": val_stats.exceptions + train_stats.exceptions,\n",
    "        \"reward\": val_stats.total_reward / val_stats.grades,\n",
    "        \"tokens\": val_stats.completion_tokens / val_stats.usages,\n",
    "    }\n",
    "    wandb.log(wandb_data)\n",
    "    vllm.process.terminate()\n",
    "    kill_vllm_workers()\n",
    "    packed_tensors = packed_tensors_from_tokenized_results(\n",
    "        [\n",
    "            result\n",
    "            for results in train_results\n",
    "            for result in results\n",
    "            if result.advantage != 0\n",
    "        ],\n",
    "        seq_len=seq_len,\n",
    "        pad_token_id=tokenizer.pad_token_id,  # type: ignore\n",
    "    )\n",
    "    if verbosity == 2:\n",
    "        plot_packed_tensors(packed_tensors)\n",
    "    else:\n",
    "        print(f\"Packed tensors into {packed_tensors[\"tokens\"].size()} shape\")\n",
    "    optimizer_config = ComponentConfig(model.tune_optimizer, lr=1e-6)\n",
    "    if model.tune_optimizer == \"torch.optim.AdamW\":\n",
    "        optimizer_config.fused = True\n",
    "    model_name = await tune(\n",
    "        base_model=model.base_model,\n",
    "        output_dir=output_dir,\n",
    "        packed_tensors=packed_tensors,\n",
    "        model=model.tune_model,\n",
    "        model_type=model.tune_model_type,\n",
    "        config=TuneRecipeConfig(\n",
    "            metric_logger=ComponentConfig(\n",
    "                WandBLogger, project=\"grpo-tests\", name=run_name\n",
    "            ),\n",
    "            optimizer=optimizer_config,\n",
    "            batch_size=model.tune_max_batch_tokens // seq_len,\n",
    "            fsdp_cpu_offload=model.tune_fsdp_cpu_offload,\n",
    "            enable_activation_checkpointing=True,\n",
    "            enable_activation_offloading=True,\n",
    "            custom_sharded_layers=[\"tok_embeddings\", \"output\"],\n",
    "            num_output_chunks=8,\n",
    "        ),\n",
    "        verbosity=verbosity,\n",
    "    )\n",
    "wandb.finish()"
   ]
  }
 ],
 "metadata": {
  "kernelspec": {
   "display_name": ".venv",
   "language": "python",
   "name": "python3"
  },
  "language_info": {
   "codemirror_mode": {
    "name": "ipython",
    "version": 3
   },
   "file_extension": ".py",
   "mimetype": "text/x-python",
   "name": "python",
   "nbconvert_exporter": "python",
   "pygments_lexer": "ipython3",
   "version": "3.12.5"
  }
 },
 "nbformat": 4,
 "nbformat_minor": 2
}
