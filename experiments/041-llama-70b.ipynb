{
 "cells": [
  {
   "cell_type": "code",
   "execution_count": 1,
   "metadata": {},
   "outputs": [],
   "source": [
    "%load_ext autoreload\n",
    "%autoreload 2"
   ]
  },
  {
   "cell_type": "code",
   "execution_count": 2,
   "metadata": {},
   "outputs": [
    {
     "data": {
      "text/html": [
       "<style>\n",
       ".cell-output-ipywidget-background {\n",
       "    background-color: transparent !important;\n",
       "}\n",
       ":root {\n",
       "    --jp-widgets-color: var(--vscode-editor-foreground);\n",
       "    --jp-widgets-font-size: var(--vscode-editor-font-size);\n",
       "}  \n",
       "</style>\n"
      ],
      "text/plain": [
       "<IPython.core.display.HTML object>"
      ]
     },
     "metadata": {},
     "output_type": "display_data"
    }
   ],
   "source": [
    "%%html\n",
    "<style>\n",
    ".cell-output-ipywidget-background {\n",
    "    background-color: transparent !important;\n",
    "}\n",
    ":root {\n",
    "    --jp-widgets-color: var(--vscode-editor-foreground);\n",
    "    --jp-widgets-font-size: var(--vscode-editor-font-size);\n",
    "}  \n",
    "</style>"
   ]
  },
  {
   "cell_type": "code",
   "execution_count": 3,
   "metadata": {},
   "outputs": [
    {
     "name": "stderr",
     "output_type": "stream",
     "text": [
      "\u001b[34m\u001b[1mwandb\u001b[0m: Currently logged in as: \u001b[33mbradhilton\u001b[0m to \u001b[32mhttps://api.wandb.ai\u001b[0m. Use \u001b[1m`wandb login --relogin`\u001b[0m to force relogin\n",
      "\u001b[34m\u001b[1mwandb\u001b[0m: Using wandb-core as the SDK backend.  Please refer to https://wandb.me/wandb-core for more information.\n"
     ]
    },
    {
     "data": {
      "text/html": [
       "Tracking run with wandb version 0.19.6"
      ],
      "text/plain": [
       "<IPython.core.display.HTML object>"
      ]
     },
     "metadata": {},
     "output_type": "display_data"
    },
    {
     "data": {
      "text/html": [
       "Run data is saved locally in <code>/home/gcpuser/sky_workdir/experiments/wandb/run-20250224_164254-041</code>"
      ],
      "text/plain": [
       "<IPython.core.display.HTML object>"
      ]
     },
     "metadata": {},
     "output_type": "display_data"
    },
    {
     "data": {
      "text/html": [
       "Resuming run <strong><a href='https://wandb.ai/bradhilton/rl-experiments/runs/041' target=\"_blank\">041</a></strong> to <a href='https://wandb.ai/bradhilton/rl-experiments' target=\"_blank\">Weights & Biases</a> (<a href='https://wandb.me/developer-guide' target=\"_blank\">docs</a>)<br>"
      ],
      "text/plain": [
       "<IPython.core.display.HTML object>"
      ]
     },
     "metadata": {},
     "output_type": "display_data"
    },
    {
     "data": {
      "text/html": [
       " View project at <a href='https://wandb.ai/bradhilton/rl-experiments' target=\"_blank\">https://wandb.ai/bradhilton/rl-experiments</a>"
      ],
      "text/plain": [
       "<IPython.core.display.HTML object>"
      ]
     },
     "metadata": {},
     "output_type": "display_data"
    },
    {
     "data": {
      "text/html": [
       " View run at <a href='https://wandb.ai/bradhilton/rl-experiments/runs/041' target=\"_blank\">https://wandb.ai/bradhilton/rl-experiments/runs/041</a>"
      ],
      "text/plain": [
       "<IPython.core.display.HTML object>"
      ]
     },
     "metadata": {},
     "output_type": "display_data"
    },
    {
     "data": {
      "text/plain": [
       "(64, 64, 2860)"
      ]
     },
     "execution_count": 3,
     "metadata": {},
     "output_type": "execute_result"
    }
   ],
   "source": [
    "import asyncio\n",
    "from itertools import cycle, islice\n",
    "from lib import models\n",
    "from lib.grpo import GRPO\n",
    "from lib.inference_early_stop import InferenceEarlyStop\n",
    "from lib.pack import packed_tensors_from_tokenized_results, plot_packed_tensors\n",
    "from lib.recipe import ComponentConfig, TuneRecipeConfig\n",
    "from lib.tasks import ChatCompletionParams, get_task_results\n",
    "from lib.temporal_clue import get_temporal_clue_tasks\n",
    "from lib.tokenize import TaskResultTokenizer\n",
    "from lib.tune import (\n",
    "    clear_iteration_dirs,\n",
    "    get_iteration,\n",
    "    get_last_iteration_dir,\n",
    "    last_tune_log,\n",
    "    tune,\n",
    "    Verbosity,\n",
    ")\n",
    "from lib.utils import symlink_shm, rsync_dir\n",
    "from lib.vllm import start_vllm, kill_vllm_workers\n",
    "import polars as pl\n",
    "import random\n",
    "import torch\n",
    "from transformers import AutoTokenizer\n",
    "import wandb\n",
    "\n",
    "run_name = \"041\"\n",
    "run = wandb.init(\n",
    "    project=\"rl-experiments\",\n",
    "    name=run_name,\n",
    "    id=run_name,\n",
    "    resume=\"allow\",\n",
    "    config={\"task\": \"temporal-clue\"},\n",
    ")\n",
    "\n",
    "tasks = list(get_temporal_clue_tasks())\n",
    "val_tasks = tasks[:64]\n",
    "test_tasks = tasks[64:128]\n",
    "train_tasks = tasks[128:]\n",
    "random.seed(42)\n",
    "random.shuffle(train_tasks)\n",
    "len(val_tasks), len(test_tasks), len(train_tasks)"
   ]
  },
  {
   "cell_type": "code",
   "execution_count": 4,
   "metadata": {},
   "outputs": [],
   "source": [
    "# GRPO params\n",
    "wandb.config[\"clip_epsilon\"] = clip_epsilon = 0.2\n",
    "wandb.config[\"entropy_coef\"] = entropy_coef = 0.0\n",
    "wandb.config[\"kl_coef\"] = kl_coef = 0.0\n",
    "wandb.config[\"tanh\"] = tanh = True\n",
    "\n",
    "expected_tokens = 1000  # Expected completion tokens per task sample\n",
    "inference_early_stop = InferenceEarlyStop(alpha=0.992, threshold=-3.0)\n",
    "wandb.config[\"lr\"] = lr = 2e-6\n",
    "wandb.config[\"betas\"] = betas = (0.9, 0.99)\n",
    "wandb.config[\"weight_decay\"] = weight_decay = 0.1\n",
    "model = models.llama_70b()\n",
    "wandb.config[\"model\"] = model.base_model\n",
    "num_iterations = 1_000\n",
    "output_dir = f\"./models/{run_name}\"\n",
    "wandb.config[\"samples_per_task\"] = samples_per_task = 50\n",
    "wandb.config[\"seq_len\"] = seq_len = 16384\n",
    "wandb.config[\"stride\"] = stride = 16\n",
    "wandb.config[\"tasks_per_iter\"] = tasks_per_iter = 32\n",
    "sync_dir = symlink_shm(output_dir) or output_dir\n",
    "tokenizer = AutoTokenizer.from_pretrained(model.base_model)\n",
    "verbosity: Verbosity = 2"
   ]
  },
  {
   "cell_type": "code",
   "execution_count": null,
   "metadata": {},
   "outputs": [
    {
     "name": "stdout",
     "output_type": "stream",
     "text": [
      "$ vllm serve unsloth/Llama-3.3-70B-Instruct --block-size=32 --disable-log-requests --enable-prefix-caching --enforce-eager --gpu-memory-utilization=0.95 --max-model-len=16384 --max-num-seqs=1024 --max-num-batched-tokens=16384 --num-scheduler-steps=8 --preemption-mode=swap --return-tokens-as-token-ids --swap-space=80 --tensor-parallel-size=8 --port=8000 --api-key=default\n",
      "INFO 02-24 16:42:59 __init__.py:190] Automatically detected platform cuda.\n",
      "INFO 02-24 16:43:00 api_server.py:840] vLLM API server version 0.7.2\n",
      "INFO 02-24 16:43:00 api_server.py:841] args: Namespace(subparser='serve', model_tag='unsloth/Llama-3.3-70B-Instruct', config='', host=None, port=8000, uvicorn_log_level='info', allow_credentials=False, allowed_origins=['*'], allowed_methods=['*'], allowed_headers=['*'], api_key='default', lora_modules=None, prompt_adapters=None, chat_template=None, chat_template_content_format='auto', response_role='assistant', ssl_keyfile=None, ssl_certfile=None, ssl_ca_certs=None, ssl_cert_reqs=0, root_path=None, middleware=[], return_tokens_as_token_ids=True, disable_frontend_multiprocessing=False, enable_request_id_headers=False, enable_auto_tool_choice=False, enable_reasoning=False, reasoning_parser=None, tool_call_parser=None, tool_parser_plugin='', model='unsloth/Llama-3.3-70B-Instruct', task='auto', tokenizer=None, skip_tokenizer_init=False, revision=None, code_revision=None, tokenizer_revision=None, tokenizer_mode='auto', trust_remote_code=False, allowed_local_media_path=None, download_dir=None, load_format='auto', config_format=<ConfigFormat.AUTO: 'auto'>, dtype='auto', kv_cache_dtype='auto', max_model_len=16384, guided_decoding_backend='xgrammar', logits_processor_pattern=None, model_impl='auto', distributed_executor_backend=None, pipeline_parallel_size=1, tensor_parallel_size=8, max_parallel_loading_workers=None, ray_workers_use_nsight=False, block_size=32, enable_prefix_caching=True, disable_sliding_window=False, use_v2_block_manager=True, num_lookahead_slots=0, seed=0, swap_space=80.0, cpu_offload_gb=0, gpu_memory_utilization=0.95, num_gpu_blocks_override=None, max_num_batched_tokens=16384, max_num_seqs=1024, max_logprobs=20, disable_log_stats=False, quantization=None, rope_scaling=None, rope_theta=None, hf_overrides=None, enforce_eager=True, max_seq_len_to_capture=8192, disable_custom_all_reduce=False, tokenizer_pool_size=0, tokenizer_pool_type='ray', tokenizer_pool_extra_config=None, limit_mm_per_prompt=None, mm_processor_kwargs=None, disable_mm_preprocessor_cache=False, enable_lora=False, enable_lora_bias=False, max_loras=1, max_lora_rank=16, lora_extra_vocab_size=256, lora_dtype='auto', long_lora_scaling_factors=None, max_cpu_loras=None, fully_sharded_loras=False, enable_prompt_adapter=False, max_prompt_adapters=1, max_prompt_adapter_token=0, device='auto', num_scheduler_steps=8, multi_step_stream_outputs=True, scheduler_delay_factor=0.0, enable_chunked_prefill=None, speculative_model=None, speculative_model_quantization=None, num_speculative_tokens=None, speculative_disable_mqa_scorer=False, speculative_draft_tensor_parallel_size=None, speculative_max_model_len=None, speculative_disable_by_batch_size=None, ngram_prompt_lookup_max=None, ngram_prompt_lookup_min=None, spec_decoding_acceptance_method='rejection_sampler', typical_acceptance_sampler_posterior_threshold=None, typical_acceptance_sampler_posterior_alpha=None, disable_logprobs_during_spec_decoding=None, model_loader_extra_config=None, ignore_patterns=[], preemption_mode='swap', served_model_name=None, qlora_adapter_name_or_path=None, otlp_traces_endpoint=None, collect_detailed_traces=None, disable_async_output_proc=False, scheduling_policy='fcfs', override_neuron_config=None, override_pooler_config=None, compilation_config=None, kv_transfer_config=None, worker_cls='auto', generation_config=None, override_generation_config=None, enable_sleep_mode=False, calculate_kv_scales=False, disable_log_requests=True, max_log_len=None, disable_fastapi_docs=False, enable_prompt_tokens_details=False, dispatch_function=<function serve at 0x7a7287aaaac0>)\n",
      "INFO 02-24 16:43:00 api_server.py:206] Started engine process with PID 32350\n",
      "INFO 02-24 16:43:03 __init__.py:190] Automatically detected platform cuda.\n",
      "INFO 02-24 16:43:05 config.py:542] This model supports multiple tasks: {'reward', 'generate', 'classify', 'embed', 'score'}. Defaulting to 'generate'.\n",
      "INFO 02-24 16:43:06 config.py:1401] Defaulting to use mp for distributed inference\n",
      "WARNING 02-24 16:43:06 cuda.py:95] To see benefits of async output processing, enable CUDA graph. Since, enforce-eager is enabled, async output processor cannot be used\n",
      "WARNING 02-24 16:43:06 config.py:678] Async output processing is not supported on the current platform type cuda.\n",
      "INFO 02-24 16:43:09 config.py:542] This model supports multiple tasks: {'score', 'reward', 'embed', 'generate', 'classify'}. Defaulting to 'generate'.\n",
      "INFO 02-24 16:43:09 config.py:1401] Defaulting to use mp for distributed inference\n",
      "WARNING 02-24 16:43:09 cuda.py:95] To see benefits of async output processing, enable CUDA graph. Since, enforce-eager is enabled, async output processor cannot be used\n",
      "WARNING 02-24 16:43:09 config.py:678] Async output processing is not supported on the current platform type cuda.\n",
      "INFO 02-24 16:43:09 llm_engine.py:234] Initializing a V0 LLM engine (v0.7.2) with config: model='unsloth/Llama-3.3-70B-Instruct', speculative_config=None, tokenizer='unsloth/Llama-3.3-70B-Instruct', skip_tokenizer_init=False, tokenizer_mode=auto, revision=None, override_neuron_config=None, tokenizer_revision=None, trust_remote_code=False, dtype=torch.bfloat16, max_seq_len=16384, download_dir=None, load_format=LoadFormat.AUTO, tensor_parallel_size=8, pipeline_parallel_size=1, disable_custom_all_reduce=False, quantization=None, enforce_eager=True, kv_cache_dtype=auto,  device_config=cuda, decoding_config=DecodingConfig(guided_decoding_backend='xgrammar'), observability_config=ObservabilityConfig(otlp_traces_endpoint=None, collect_model_forward_time=False, collect_model_execute_time=False), seed=0, served_model_name=unsloth/Llama-3.3-70B-Instruct, num_scheduler_steps=8, multi_step_stream_outputs=True, enable_prefix_caching=True, chunked_prefill_enabled=False, use_async_output_proc=False, disable_mm_preprocessor_cache=False, mm_processor_kwargs=None, pooler_config=None, compilation_config={\"splitting_ops\":[],\"compile_sizes\":[],\"cudagraph_capture_sizes\":[],\"max_capture_size\":0}, use_cached_outputs=True, \n",
      "WARNING 02-24 16:43:10 multiproc_worker_utils.py:300] Reducing Torch parallelism from 104 threads to 1 to avoid unnecessary CPU contention. Set OMP_NUM_THREADS in the external environment to tune this value as needed.\n",
      "INFO 02-24 16:43:10 custom_cache_manager.py:19] Setting Triton cache manager to: vllm.triton_utils.custom_cache_manager:CustomCacheManager\n",
      "INFO 02-24 16:43:11 cuda.py:230] Using Flash Attention backend.\n",
      "WARNING 02-24 16:43:11 registry.py:340] `mm_limits` has already been set for model=unsloth/Llama-3.3-70B-Instruct, and will be overwritten by the new values.\n",
      "INFO 02-24 16:43:13 __init__.py:190] Automatically detected platform cuda.\n",
      "INFO 02-24 16:43:13 __init__.py:190] Automatically detected platform cuda.\n",
      "INFO 02-24 16:43:14 __init__.py:190] Automatically detected platform cuda.\n",
      "INFO 02-24 16:43:14 __init__.py:190] Automatically detected platform cuda.\n",
      "INFO 02-24 16:43:14 __init__.py:190] Automatically detected platform cuda.\n",
      "INFO 02-24 16:43:14 __init__.py:190] Automatically detected platform cuda.\n",
      "INFO 02-24 16:43:14 __init__.py:190] Automatically detected platform cuda.\n",
      "\u001b[1;36m(VllmWorkerProcess pid=32632)\u001b[0;0m INFO 02-24 16:43:16 multiproc_worker_utils.py:229] Worker ready; awaiting tasks\n",
      "\u001b[1;36m(VllmWorkerProcess pid=32628)\u001b[0;0m INFO 02-24 16:43:16 multiproc_worker_utils.py:229] Worker ready; awaiting tasks\n",
      "\u001b[1;36m(VllmWorkerProcess pid=32630)\u001b[0;0m INFO 02-24 16:43:16 multiproc_worker_utils.py:229] Worker ready; awaiting tasks\n",
      "\u001b[1;36m(VllmWorkerProcess pid=32626)\u001b[0;0m INFO 02-24 16:43:16 multiproc_worker_utils.py:229] Worker ready; awaiting tasks\n",
      "\u001b[1;36m(VllmWorkerProcess pid=32627)\u001b[0;0m INFO 02-24 16:43:16 multiproc_worker_utils.py:229] Worker ready; awaiting tasks\n",
      "\u001b[1;36m(VllmWorkerProcess pid=32631)\u001b[0;0m INFO 02-24 16:43:16 multiproc_worker_utils.py:229] Worker ready; awaiting tasks\n",
      "\u001b[1;36m(VllmWorkerProcess pid=32629)\u001b[0;0m INFO 02-24 16:43:16 multiproc_worker_utils.py:229] Worker ready; awaiting tasks\n",
      "\u001b[1;36m(VllmWorkerProcess pid=32632)\u001b[0;0m INFO 02-24 16:43:16 cuda.py:230] Using Flash Attention backend.\n",
      "\u001b[1;36m(VllmWorkerProcess pid=32632)\u001b[0;0m WARNING 02-24 16:43:16 registry.py:340] `mm_limits` has already been set for model=unsloth/Llama-3.3-70B-Instruct, and will be overwritten by the new values.\n",
      "\u001b[1;36m(VllmWorkerProcess pid=32628)\u001b[0;0m INFO 02-24 16:43:16 cuda.py:230] Using Flash Attention backend.\n",
      "\u001b[1;36m(VllmWorkerProcess pid=32628)\u001b[0;0m WARNING 02-24 16:43:16 registry.py:340] `mm_limits` has already been set for model=unsloth/Llama-3.3-70B-Instruct, and will be overwritten by the new values.\n",
      "\u001b[1;36m(VllmWorkerProcess pid=32627)\u001b[0;0m INFO 02-24 16:43:17 cuda.py:230] Using Flash Attention backend.\n",
      "\u001b[1;36m(VllmWorkerProcess pid=32627)\u001b[0;0m WARNING 02-24 16:43:17 registry.py:340] `mm_limits` has already been set for model=unsloth/Llama-3.3-70B-Instruct, and will be overwritten by the new values.\n",
      "\u001b[1;36m(VllmWorkerProcess pid=32626)\u001b[0;0m INFO 02-24 16:43:17 cuda.py:230] Using Flash Attention backend.\n",
      "\u001b[1;36m(VllmWorkerProcess pid=32626)\u001b[0;0m WARNING 02-24 16:43:17 registry.py:340] `mm_limits` has already been set for model=unsloth/Llama-3.3-70B-Instruct, and will be overwritten by the new values.\n",
      "\u001b[1;36m(VllmWorkerProcess pid=32630)\u001b[0;0m INFO 02-24 16:43:17 cuda.py:230] Using Flash Attention backend.\n",
      "\u001b[1;36m(VllmWorkerProcess pid=32630)\u001b[0;0m WARNING 02-24 16:43:17 registry.py:340] `mm_limits` has already been set for model=unsloth/Llama-3.3-70B-Instruct, and will be overwritten by the new values.\n",
      "\u001b[1;36m(VllmWorkerProcess pid=32629)\u001b[0;0m INFO 02-24 16:43:17 cuda.py:230] Using Flash Attention backend.\n",
      "\u001b[1;36m(VllmWorkerProcess pid=32629)\u001b[0;0m WARNING 02-24 16:43:17 registry.py:340] `mm_limits` has already been set for model=unsloth/Llama-3.3-70B-Instruct, and will be overwritten by the new values.\n",
      "\u001b[1;36m(VllmWorkerProcess pid=32631)\u001b[0;0m INFO 02-24 16:43:17 cuda.py:230] Using Flash Attention backend.\n",
      "\u001b[1;36m(VllmWorkerProcess pid=32631)\u001b[0;0m WARNING 02-24 16:43:17 registry.py:340] `mm_limits` has already been set for model=unsloth/Llama-3.3-70B-Instruct, and will be overwritten by the new values.\n",
      "\u001b[1;36m(VllmWorkerProcess pid=32626)\u001b[0;0m INFO 02-24 16:43:22 utils.py:950] Found nccl from library libnccl.so.2\n",
      "\u001b[1;36m(VllmWorkerProcess pid=32629)\u001b[0;0m INFO 02-24 16:43:22 utils.py:950] Found nccl from library libnccl.so.2\n",
      "\u001b[1;36m(VllmWorkerProcess pid=32627)\u001b[0;0m INFO 02-24 16:43:22 utils.py:950] Found nccl from library libnccl.so.2\n",
      "INFO 02-24 16:43:22 utils.py:950] Found nccl from library libnccl.so.2\n",
      "\u001b[1;36m(VllmWorkerProcess pid=32626)\u001b[0;0m INFO 02-24 16:43:22 pynccl.py:69] vLLM is using nccl==2.21.5\n",
      "\u001b[1;36m(VllmWorkerProcess pid=32631)\u001b[0;0m \u001b[1;36m(VllmWorkerProcess pid=32629)\u001b[0;0m INFO 02-24 16:43:22 pynccl.py:69] vLLM is using nccl==2.21.5\n",
      "INFO 02-24 16:43:22 utils.py:950] Found nccl from library libnccl.so.2\n",
      "\u001b[1;36m(VllmWorkerProcess pid=32627)\u001b[0;0m INFO 02-24 16:43:22 pynccl.py:69] vLLM is using nccl==2.21.5\n",
      "\u001b[1;36m(VllmWorkerProcess pid=32628)\u001b[0;0m INFO 02-24 16:43:22 utils.py:950] Found nccl from library libnccl.so.2\n",
      "\u001b[1;36m(VllmWorkerProcess pid=32630)\u001b[0;0m INFO 02-24 16:43:22 pynccl.py:69] vLLM is using nccl==2.21.5\n",
      "INFO 02-24 16:43:22 utils.py:950] Found nccl from library libnccl.so.2\n",
      "\u001b[1;36m(VllmWorkerProcess pid=32632)\u001b[0;0m INFO 02-24 16:43:22 utils.py:950] Found nccl from library libnccl.so.2\n",
      "\u001b[1;36m(VllmWorkerProcess pid=32631)\u001b[0;0m INFO 02-24 16:43:22 pynccl.py:69] vLLM is using nccl==2.21.5\n",
      "\u001b[1;36m(VllmWorkerProcess pid=32628)\u001b[0;0m INFO 02-24 16:43:22 pynccl.py:69] vLLM is using nccl==2.21.5\n",
      "\u001b[1;36m(VllmWorkerProcess pid=32632)\u001b[0;0m INFO 02-24 16:43:22 pynccl.py:69] vLLM is using nccl==2.21.5\n",
      "\u001b[1;36m(VllmWorkerProcess pid=32630)\u001b[0;0m INFO 02-24 16:43:22 pynccl.py:69] vLLM is using nccl==2.21.5\n",
      "\u001b[1;36m(VllmWorkerProcess pid=32629)\u001b[0;0m INFO 02-24 16:43:29 custom_all_reduce_utils.py:244] reading GPU P2P access cache from /home/gcpuser/.cache/vllm/gpu_p2p_access_cache_for_0,1,2,3,4,5,6,7.json\n",
      "\u001b[1;36m(VllmWorkerProcess pid=32627)\u001b[0;0m INFO 02-24 16:43:29 custom_all_reduce_utils.py:244] reading GPU P2P access cache from /home/gcpuser/.cache/vllm/gpu_p2p_access_cache_for_0,1,2,3,4,5,6,7.json\n",
      "INFO 02-24 16:43:29 custom_all_reduce_utils.py:244] reading GPU P2P access cache from /home/gcpuser/.cache/vllm/gpu_p2p_access_cache_for_0,1,2,3,4,5,6,7.json\n",
      "\u001b[1;36m(VllmWorkerProcess pid=32626)\u001b[0;0m INFO 02-24 16:43:29 custom_all_reduce_utils.py:244] reading GPU P2P access cache from /home/gcpuser/.cache/vllm/gpu_p2p_access_cache_for_0,1,2,3,4,5,6,7.json\n",
      "\u001b[1;36m(VllmWorkerProcess pid=32632)\u001b[0;0m INFO 02-24 16:43:29 custom_all_reduce_utils.py:244] reading GPU P2P access cache from /home/gcpuser/.cache/vllm/gpu_p2p_access_cache_for_0,1,2,3,4,5,6,7.json\n",
      "\u001b[1;36m(VllmWorkerProcess pid=32630)\u001b[0;0m INFO 02-24 16:43:29 custom_all_reduce_utils.py:244] reading GPU P2P access cache from /home/gcpuser/.cache/vllm/gpu_p2p_access_cache_for_0,1,2,3,4,5,6,7.json\n",
      "\u001b[1;36m(VllmWorkerProcess pid=32628)\u001b[0;0m INFO 02-24 16:43:29 custom_all_reduce_utils.py:244] reading GPU P2P access cache from /home/gcpuser/.cache/vllm/gpu_p2p_access_cache_for_0,1,2,3,4,5,6,7.json\n",
      "\u001b[1;36m(VllmWorkerProcess pid=32631)\u001b[0;0m INFO 02-24 16:43:29 custom_all_reduce_utils.py:244] reading GPU P2P access cache from /home/gcpuser/.cache/vllm/gpu_p2p_access_cache_for_0,1,2,3,4,5,6,7.json\n",
      "INFO 02-24 16:43:30 shm_broadcast.py:258] vLLM message queue communication handle: Handle(connect_ip='127.0.0.1', local_reader_ranks=[1, 2, 3, 4, 5, 6, 7], buffer_handle=(7, 4194304, 6, 'psm_e4f3b4f2'), local_subscribe_port=53325, remote_subscribe_port=None)\n",
      "\u001b[1;36m(VllmWorkerProcess pid=32627)\u001b[0;0m INFO 02-24 16:43:30 model_runner.py:1110] Starting to load model unsloth/Llama-3.3-70B-Instruct...\n",
      "\u001b[1;36m(VllmWorkerProcess pid=32626)\u001b[0;0m INFO 02-24 16:43:30 model_runner.py:1110] Starting to load model unsloth/Llama-3.3-70B-Instruct...\n",
      "\u001b[1;36m(VllmWorkerProcess pid=32628)\u001b[0;0m INFO 02-24 16:43:30 model_runner.py:1110] Starting to load model unsloth/Llama-3.3-70B-Instruct...\n",
      "INFO 02-24 16:43:30 model_runner.py:1110] Starting to load model unsloth/Llama-3.3-70B-Instruct...\n",
      "\u001b[1;36m(VllmWorkerProcess pid=32630)\u001b[0;0m INFO 02-24 16:43:30 model_runner.py:1110] Starting to load model unsloth/Llama-3.3-70B-Instruct...\n",
      "\u001b[1;36m(VllmWorkerProcess pid=32631)\u001b[0;0m INFO 02-24 16:43:30 model_runner.py:1110] Starting to load model unsloth/Llama-3.3-70B-Instruct...\n",
      "\u001b[1;36m(VllmWorkerProcess pid=32632)\u001b[0;0m INFO 02-24 16:43:30 model_runner.py:1110] Starting to load model unsloth/Llama-3.3-70B-Instruct...\n",
      "\u001b[1;36m(VllmWorkerProcess pid=32629)\u001b[0;0m INFO 02-24 16:43:30 model_runner.py:1110] Starting to load model unsloth/Llama-3.3-70B-Instruct...\n",
      "\u001b[1;36m(VllmWorkerProcess pid=32627)\u001b[0;0m INFO 02-24 16:43:30 weight_utils.py:252] Using model weights format ['*.safetensors']\n",
      "\u001b[1;36m(VllmWorkerProcess pid=32632)\u001b[0;0m INFO 02-24 16:43:30 weight_utils.py:252] Using model weights format ['*.safetensors']\n",
      "\u001b[1;36m(VllmWorkerProcess pid=32628)\u001b[0;0m INFO 02-24 16:43:30 weight_utils.py:252] Using model weights format ['*.safetensors']\n",
      "\u001b[1;36m(VllmWorkerProcess pid=32626)\u001b[0;0m INFO 02-24 16:43:30 weight_utils.py:252] Using model weights format ['*.safetensors']\n",
      "\u001b[1;36m(VllmWorkerProcess pid=32629)\u001b[0;0m INFO 02-24 16:43:30 weight_utils.py:252] Using model weights format ['*.safetensors']\n",
      "\u001b[1;36m(VllmWorkerProcess pid=32631)\u001b[0;0m INFO 02-24 16:43:30 weight_utils.py:252] Using model weights format ['*.safetensors']\n",
      "INFO 02-24 16:43:30 weight_utils.py:252] Using model weights format ['*.safetensors']\n",
      "\u001b[1;36m(VllmWorkerProcess pid=32630)\u001b[0;0m INFO 02-24 16:43:30 weight_utils.py:252] Using model weights format ['*.safetensors']\n"
     ]
    },
    {
     "name": "stderr",
     "output_type": "stream",
     "text": [
      "Loading safetensors checkpoint shards:   0% Completed | 0/30 [00:00<?, ?it/s]\n",
      "Loading safetensors checkpoint shards:   7% Completed | 2/30 [00:00<00:04,  6.68it/s]\n",
      "Loading safetensors checkpoint shards:  10% Completed | 3/30 [00:00<00:05,  4.97it/s]\n",
      "Loading safetensors checkpoint shards:  13% Completed | 4/30 [00:00<00:05,  5.17it/s]\n",
      "Loading safetensors checkpoint shards:  17% Completed | 5/30 [00:01<00:05,  4.61it/s]\n",
      "Loading safetensors checkpoint shards:  20% Completed | 6/30 [00:01<00:05,  4.27it/s]\n",
      "Loading safetensors checkpoint shards:  23% Completed | 7/30 [00:01<00:05,  4.06it/s]\n",
      "Loading safetensors checkpoint shards:  27% Completed | 8/30 [00:01<00:05,  3.95it/s]\n",
      "Loading safetensors checkpoint shards:  30% Completed | 9/30 [00:02<00:05,  4.04it/s]\n",
      "Loading safetensors checkpoint shards:  33% Completed | 10/30 [00:02<00:05,  3.94it/s]\n",
      "Loading safetensors checkpoint shards:  37% Completed | 11/30 [00:02<00:04,  3.86it/s]\n",
      "Loading safetensors checkpoint shards:  40% Completed | 12/30 [00:02<00:04,  3.96it/s]\n",
      "Loading safetensors checkpoint shards:  43% Completed | 13/30 [00:03<00:04,  3.87it/s]\n",
      "Loading safetensors checkpoint shards:  47% Completed | 14/30 [00:03<00:04,  3.81it/s]\n",
      "Loading safetensors checkpoint shards:  50% Completed | 15/30 [00:03<00:04,  3.74it/s]\n",
      "Loading safetensors checkpoint shards:  53% Completed | 16/30 [00:03<00:03,  3.88it/s]\n",
      "Loading safetensors checkpoint shards:  57% Completed | 17/30 [00:04<00:03,  3.82it/s]\n",
      "Loading safetensors checkpoint shards:  60% Completed | 18/30 [00:04<00:03,  3.79it/s]\n",
      "Loading safetensors checkpoint shards:  63% Completed | 19/30 [00:04<00:02,  3.75it/s]\n",
      "Loading safetensors checkpoint shards:  67% Completed | 20/30 [00:04<00:02,  3.89it/s]\n",
      "Loading safetensors checkpoint shards:  70% Completed | 21/30 [00:05<00:02,  3.79it/s]\n",
      "Loading safetensors checkpoint shards:  73% Completed | 22/30 [00:05<00:02,  3.72it/s]\n",
      "Loading safetensors checkpoint shards:  77% Completed | 23/30 [00:05<00:01,  3.69it/s]\n",
      "Loading safetensors checkpoint shards:  80% Completed | 24/30 [00:06<00:01,  3.69it/s]\n",
      "Loading safetensors checkpoint shards:  83% Completed | 25/30 [00:06<00:01,  3.66it/s]\n"
     ]
    },
    {
     "name": "stdout",
     "output_type": "stream",
     "text": [
      "\u001b[1;36m(VllmWorkerProcess pid=32632)\u001b[0;0m INFO 02-24 16:43:38 model_runner.py:1115] Loading model weights took 16.4606 GB\n"
     ]
    },
    {
     "name": "stderr",
     "output_type": "stream",
     "text": [
      "Loading safetensors checkpoint shards:  87% Completed | 26/30 [00:06<00:01,  3.64it/s]\n"
     ]
    },
    {
     "name": "stdout",
     "output_type": "stream",
     "text": [
      "\u001b[1;36m(VllmWorkerProcess pid=32630)\u001b[0;0m INFO 02-24 16:43:38 model_runner.py:1115] Loading model weights took 16.4606 GB\n"
     ]
    },
    {
     "name": "stderr",
     "output_type": "stream",
     "text": [
      "Loading safetensors checkpoint shards:  90% Completed | 27/30 [00:06<00:00,  3.62it/s]\n"
     ]
    },
    {
     "name": "stdout",
     "output_type": "stream",
     "text": [
      "\u001b[1;36m(VllmWorkerProcess pid=32627)\u001b[0;0m INFO 02-24 16:43:38 model_runner.py:1115] Loading model weights took 16.4606 GB\n"
     ]
    },
    {
     "name": "stderr",
     "output_type": "stream",
     "text": [
      "Loading safetensors checkpoint shards:  93% Completed | 28/30 [00:07<00:00,  3.65it/s]\n",
      "Loading safetensors checkpoint shards:  97% Completed | 29/30 [00:07<00:00,  3.68it/s]\n",
      "Loading safetensors checkpoint shards: 100% Completed | 30/30 [00:07<00:00,  3.86it/s]\n",
      "Loading safetensors checkpoint shards: 100% Completed | 30/30 [00:07<00:00,  3.92it/s]\n",
      "\n"
     ]
    },
    {
     "name": "stdout",
     "output_type": "stream",
     "text": [
      "INFO 02-24 16:43:39 model_runner.py:1115] Loading model weights took 16.4606 GB\n",
      "\u001b[1;36m(VllmWorkerProcess pid=32628)\u001b[0;0m INFO 02-24 16:43:39 model_runner.py:1115] Loading model weights took 16.4606 GB\n",
      "\u001b[1;36m(VllmWorkerProcess pid=32626)\u001b[0;0m INFO 02-24 16:43:39 model_runner.py:1115] Loading model weights took 16.4606 GB\n",
      "\u001b[1;36m(VllmWorkerProcess pid=32629)\u001b[0;0m INFO 02-24 16:43:40 model_runner.py:1115] Loading model weights took 16.4606 GB\n",
      "\u001b[1;36m(VllmWorkerProcess pid=32631)\u001b[0;0m INFO 02-24 16:43:40 model_runner.py:1115] Loading model weights took 16.4606 GB\n",
      "\u001b[1;36m(VllmWorkerProcess pid=32632)\u001b[0;0m INFO 02-24 16:43:56 worker.py:267] Memory profiling takes 16.00 seconds\n",
      "\u001b[1;36m(VllmWorkerProcess pid=32632)\u001b[0;0m INFO 02-24 16:43:56 worker.py:267] the current vLLM instance can use total_gpu_memory (79.11GiB) x gpu_memory_utilization (0.95) = 75.15GiB\n",
      "\u001b[1;36m(VllmWorkerProcess pid=32632)\u001b[0;0m INFO 02-24 16:43:56 worker.py:267] model weights take 16.46GiB; non_torch_memory takes 4.66GiB; PyTorch activation peak memory takes 1.39GiB; the rest of the memory reserved for KV Cache is 52.64GiB.\n",
      "\u001b[1;36m(VllmWorkerProcess pid=32630)\u001b[0;0m INFO 02-24 16:43:56 worker.py:267] Memory profiling takes 15.98 seconds\n",
      "\u001b[1;36m(VllmWorkerProcess pid=32630)\u001b[0;0m INFO 02-24 16:43:56 worker.py:267] the current vLLM instance can use total_gpu_memory (79.11GiB) x gpu_memory_utilization (0.95) = 75.15GiB\n",
      "\u001b[1;36m(VllmWorkerProcess pid=32630)\u001b[0;0m INFO 02-24 16:43:56 worker.py:267] model weights take 16.46GiB; non_torch_memory takes 5.13GiB; PyTorch activation peak memory takes 1.39GiB; the rest of the memory reserved for KV Cache is 52.17GiB.\n",
      "\u001b[1;36m(VllmWorkerProcess pid=32631)\u001b[0;0m INFO 02-24 16:43:56 worker.py:267] Memory profiling takes 16.03 seconds\n",
      "\u001b[1;36m(VllmWorkerProcess pid=32631)\u001b[0;0m INFO 02-24 16:43:56 worker.py:267] the current vLLM instance can use total_gpu_memory (79.11GiB) x gpu_memory_utilization (0.95) = 75.15GiB\n",
      "\u001b[1;36m(VllmWorkerProcess pid=32631)\u001b[0;0m INFO 02-24 16:43:56 worker.py:267] model weights take 16.46GiB; non_torch_memory takes 5.13GiB; PyTorch activation peak memory takes 1.39GiB; the rest of the memory reserved for KV Cache is 52.17GiB.\n",
      "\u001b[1;36m(VllmWorkerProcess pid=32626)\u001b[0;0m INFO 02-24 16:43:56 worker.py:267] Memory profiling takes 15.99 seconds\n",
      "\u001b[1;36m(VllmWorkerProcess pid=32626)\u001b[0;0m INFO 02-24 16:43:56 worker.py:267] the current vLLM instance can use total_gpu_memory (79.11GiB) x gpu_memory_utilization (0.95) = 75.15GiB\n",
      "\u001b[1;36m(VllmWorkerProcess pid=32626)\u001b[0;0m INFO 02-24 16:43:56 worker.py:267] model weights take 16.46GiB; non_torch_memory takes 5.13GiB; PyTorch activation peak memory takes 1.39GiB; the rest of the memory reserved for KV Cache is 52.17GiB.\n",
      "\u001b[1;36m(VllmWorkerProcess pid=32629)\u001b[0;0m INFO 02-24 16:43:56 worker.py:267] Memory profiling takes 15.85 seconds\n",
      "\u001b[1;36m(VllmWorkerProcess pid=32629)\u001b[0;0m INFO 02-24 16:43:56 worker.py:267] the current vLLM instance can use total_gpu_memory (79.11GiB) x gpu_memory_utilization (0.95) = 75.15GiB\n",
      "\u001b[1;36m(VllmWorkerProcess pid=32629)\u001b[0;0m INFO 02-24 16:43:56 worker.py:267] model weights take 16.46GiB; non_torch_memory takes 5.13GiB; PyTorch activation peak memory takes 1.39GiB; the rest of the memory reserved for KV Cache is 52.17GiB.\n",
      "\u001b[1;36m(VllmWorkerProcess pid=32628)\u001b[0;0m INFO 02-24 16:43:56 worker.py:267] Memory profiling takes 16.01 seconds\n",
      "\u001b[1;36m(VllmWorkerProcess pid=32628)\u001b[0;0m INFO 02-24 16:43:56 worker.py:267] the current vLLM instance can use total_gpu_memory (79.11GiB) x gpu_memory_utilization (0.95) = 75.15GiB\n",
      "\u001b[1;36m(VllmWorkerProcess pid=32628)\u001b[0;0m INFO 02-24 16:43:56 worker.py:267] model weights take 16.46GiB; non_torch_memory takes 5.13GiB; PyTorch activation peak memory takes 1.39GiB; the rest of the memory reserved for KV Cache is 52.17GiB.\n",
      "\u001b[1;36m(VllmWorkerProcess pid=32627)\u001b[0;0m INFO 02-24 16:43:56 worker.py:267] Memory profiling takes 16.01 seconds\n",
      "\u001b[1;36m(VllmWorkerProcess pid=32627)\u001b[0;0m INFO 02-24 16:43:56 worker.py:267] the current vLLM instance can use total_gpu_memory (79.11GiB) x gpu_memory_utilization (0.95) = 75.15GiB\n",
      "\u001b[1;36m(VllmWorkerProcess pid=32627)\u001b[0;0m INFO 02-24 16:43:56 worker.py:267] model weights take 16.46GiB; non_torch_memory takes 5.13GiB; PyTorch activation peak memory takes 1.39GiB; the rest of the memory reserved for KV Cache is 52.17GiB.\n",
      "INFO 02-24 16:43:56 worker.py:267] Memory profiling takes 16.07 seconds\n",
      "INFO 02-24 16:43:56 worker.py:267] the current vLLM instance can use total_gpu_memory (79.11GiB) x gpu_memory_utilization (0.95) = 75.15GiB\n",
      "INFO 02-24 16:43:56 worker.py:267] model weights take 16.46GiB; non_torch_memory takes 7.16GiB; PyTorch activation peak memory takes 4.93GiB; the rest of the memory reserved for KV Cache is 46.60GiB.\n",
      "INFO 02-24 16:43:57 executor_base.py:110] # CUDA blocks: 38173, # CPU blocks: 65536\n",
      "INFO 02-24 16:43:57 executor_base.py:115] Maximum concurrency for 16384 tokens per request: 74.56x\n",
      "INFO 02-24 16:44:43 llm_engine.py:431] init engine (profile, create kv cache, warmup model) took 63.30 seconds\n",
      "INFO 02-24 16:44:45 api_server.py:756] Using supplied chat template:\n",
      "INFO 02-24 16:44:45 api_server.py:756] None\n",
      "INFO 02-24 16:44:45 launcher.py:21] Available routes are:\n",
      "INFO 02-24 16:44:45 launcher.py:29] Route: /openapi.json, Methods: GET, HEAD\n",
      "INFO 02-24 16:44:45 launcher.py:29] Route: /docs, Methods: GET, HEAD\n",
      "INFO 02-24 16:44:45 launcher.py:29] Route: /docs/oauth2-redirect, Methods: GET, HEAD\n",
      "INFO 02-24 16:44:45 launcher.py:29] Route: /redoc, Methods: GET, HEAD\n",
      "INFO 02-24 16:44:45 launcher.py:29] Route: /health, Methods: GET\n",
      "INFO 02-24 16:44:45 launcher.py:29] Route: /ping, Methods: POST, GET\n",
      "INFO 02-24 16:44:45 launcher.py:29] Route: /tokenize, Methods: POST\n",
      "INFO 02-24 16:44:45 launcher.py:29] Route: /detokenize, Methods: POST\n",
      "INFO 02-24 16:44:45 launcher.py:29] Route: /v1/models, Methods: GET\n",
      "INFO 02-24 16:44:45 launcher.py:29] Route: /version, Methods: GET\n",
      "INFO 02-24 16:44:45 launcher.py:29] Route: /v1/chat/completions, Methods: POST\n",
      "INFO 02-24 16:44:45 launcher.py:29] Route: /v1/completions, Methods: POST\n",
      "INFO 02-24 16:44:45 launcher.py:29] Route: /v1/embeddings, Methods: POST\n",
      "INFO 02-24 16:44:45 launcher.py:29] Route: /pooling, Methods: POST\n",
      "INFO 02-24 16:44:45 launcher.py:29] Route: /score, Methods: POST\n",
      "INFO 02-24 16:44:45 launcher.py:29] Route: /v1/score, Methods: POST\n",
      "INFO 02-24 16:44:45 launcher.py:29] Route: /rerank, Methods: POST\n",
      "INFO 02-24 16:44:45 launcher.py:29] Route: /v1/rerank, Methods: POST\n",
      "INFO 02-24 16:44:45 launcher.py:29] Route: /v2/rerank, Methods: POST\n",
      "INFO 02-24 16:44:45 launcher.py:29] Route: /invocations, Methods: POST\n"
     ]
    },
    {
     "name": "stderr",
     "output_type": "stream",
     "text": [
      "INFO:     Started server process [32270]\n",
      "INFO:     Waiting for application startup.\n",
      "INFO:     Application startup complete.\n",
      "INFO:     Uvicorn running on http://0.0.0.0:8000 (Press CTRL+C to quit)\n"
     ]
    },
    {
     "name": "stdout",
     "output_type": "stream",
     "text": [
      "INFO 02-24 16:44:46 chat_utils.py:332] Detected the chat template content format to be 'string'. You can set `--chat-template-content-format` to override this.\n",
      "INFO:     127.0.0.1:48852 - \"POST /v1/chat/completions HTTP/1.1\" 200 OK\n",
      "vLLM server started succesfully. Logs can be found at ./logs/vllm.log\n"
     ]
    },
    {
     "data": {
      "application/vnd.jupyter.widget-view+json": {
       "model_id": "05970a22a15a4b468c13d162b14110e1",
       "version_major": 2,
       "version_minor": 0
      },
      "text/plain": [
       "val:   0%|          | 0/128 [00:00<?, ?it/s]"
      ]
     },
     "metadata": {},
     "output_type": "display_data"
    },
    {
     "data": {
      "application/vnd.jupyter.widget-view+json": {
       "model_id": "f34134a2e19547de9d617cee905f1b6e",
       "version_major": 2,
       "version_minor": 0
      },
      "text/plain": [
       "train:   0%|          | 0/1600 [00:00<?, ?it/s]"
      ]
     },
     "metadata": {},
     "output_type": "display_data"
    },
    {
     "name": "stderr",
     "output_type": "stream",
     "text": [
      "return_assistant_tokens_mask==True but chat template does not contain `{% generation %}` keyword.\n"
     ]
    },
    {
     "ename": "ValueError",
     "evalue": "1 is not in list",
     "output_type": "error",
     "traceback": [
      "\u001b[0;31m---------------------------------------------------------------------------\u001b[0m",
      "\u001b[0;31mValueError\u001b[0m                                Traceback (most recent call last)",
      "Cell \u001b[0;32mIn[5], line 29\u001b[0m\n\u001b[1;32m     25\u001b[0m semaphore \u001b[38;5;241m=\u001b[39m asyncio\u001b[38;5;241m.\u001b[39mSemaphore(\n\u001b[1;32m     26\u001b[0m     \u001b[38;5;28mint\u001b[39m(\u001b[38;5;241m1.33\u001b[39m \u001b[38;5;241m*\u001b[39m vllm\u001b[38;5;241m.\u001b[39mmax_concurrent_tokens \u001b[38;5;241m/\u001b[39m expected_tokens)\n\u001b[1;32m     27\u001b[0m )\n\u001b[1;32m     28\u001b[0m offset \u001b[38;5;241m=\u001b[39m i \u001b[38;5;241m*\u001b[39m stride\n\u001b[0;32m---> 29\u001b[0m val_results, train_results \u001b[38;5;241m=\u001b[39m \u001b[38;5;28;01mawait\u001b[39;00m asyncio\u001b[38;5;241m.\u001b[39mgather(\n\u001b[1;32m     30\u001b[0m     get_task_results(\n\u001b[1;32m     31\u001b[0m         tasks\u001b[38;5;241m=\u001b[39mval_tasks,\n\u001b[1;32m     32\u001b[0m         client\u001b[38;5;241m=\u001b[39mvllm\u001b[38;5;241m.\u001b[39mclient,\n\u001b[1;32m     33\u001b[0m         model\u001b[38;5;241m=\u001b[39mvllm\u001b[38;5;241m.\u001b[39mmodel,\n\u001b[1;32m     34\u001b[0m         cache\u001b[38;5;241m=\u001b[39m\u001b[38;5;28;01mFalse\u001b[39;00m,\n\u001b[1;32m     35\u001b[0m         log_results\u001b[38;5;241m=\u001b[39m\u001b[38;5;241m8\u001b[39m,\n\u001b[1;32m     36\u001b[0m         n\u001b[38;5;241m=\u001b[39m\u001b[38;5;241m2\u001b[39m,\n\u001b[1;32m     37\u001b[0m         on_chunk\u001b[38;5;241m=\u001b[39minference_early_stop,\n\u001b[1;32m     38\u001b[0m         params\u001b[38;5;241m=\u001b[39mChatCompletionParams(\n\u001b[1;32m     39\u001b[0m             stream_options\u001b[38;5;241m=\u001b[39m{\n\u001b[1;32m     40\u001b[0m                 \u001b[38;5;124m\"\u001b[39m\u001b[38;5;124minclude_usage\u001b[39m\u001b[38;5;124m\"\u001b[39m: \u001b[38;5;28;01mTrue\u001b[39;00m,\n\u001b[1;32m     41\u001b[0m             },\n\u001b[1;32m     42\u001b[0m             max_completion_tokens\u001b[38;5;241m=\u001b[39m\u001b[38;5;241m8192\u001b[39m,\n\u001b[1;32m     43\u001b[0m         ),\n\u001b[1;32m     44\u001b[0m         pbar_desc\u001b[38;5;241m=\u001b[39m\u001b[38;5;124m\"\u001b[39m\u001b[38;5;124mval\u001b[39m\u001b[38;5;124m\"\u001b[39m,\n\u001b[1;32m     45\u001b[0m         semaphore\u001b[38;5;241m=\u001b[39msemaphore,\n\u001b[1;32m     46\u001b[0m     ),\n\u001b[1;32m     47\u001b[0m     get_task_results(\n\u001b[1;32m     48\u001b[0m         tasks\u001b[38;5;241m=\u001b[39m\u001b[38;5;28mlist\u001b[39m(islice(cycle(train_tasks), offset, offset \u001b[38;5;241m+\u001b[39m tasks_per_iter)),\n\u001b[1;32m     49\u001b[0m         client\u001b[38;5;241m=\u001b[39mvllm\u001b[38;5;241m.\u001b[39mclient,\n\u001b[1;32m     50\u001b[0m         model\u001b[38;5;241m=\u001b[39mvllm\u001b[38;5;241m.\u001b[39mmodel,\n\u001b[1;32m     51\u001b[0m         cache\u001b[38;5;241m=\u001b[39m\u001b[38;5;28;01mFalse\u001b[39;00m,\n\u001b[1;32m     52\u001b[0m         log_results\u001b[38;5;241m=\u001b[39m\u001b[38;5;28;01mFalse\u001b[39;00m,\n\u001b[1;32m     53\u001b[0m         n\u001b[38;5;241m=\u001b[39msamples_per_task,\n\u001b[1;32m     54\u001b[0m         on_chunk\u001b[38;5;241m=\u001b[39minference_early_stop,\n\u001b[1;32m     55\u001b[0m         params\u001b[38;5;241m=\u001b[39mChatCompletionParams(\n\u001b[1;32m     56\u001b[0m             stream_options\u001b[38;5;241m=\u001b[39m{\n\u001b[1;32m     57\u001b[0m                 \u001b[38;5;124m\"\u001b[39m\u001b[38;5;124minclude_usage\u001b[39m\u001b[38;5;124m\"\u001b[39m: \u001b[38;5;28;01mTrue\u001b[39;00m,\n\u001b[1;32m     58\u001b[0m             },\n\u001b[1;32m     59\u001b[0m             max_completion_tokens\u001b[38;5;241m=\u001b[39m\u001b[38;5;241m8192\u001b[39m,\n\u001b[1;32m     60\u001b[0m         ),\n\u001b[1;32m     61\u001b[0m         pbar_desc\u001b[38;5;241m=\u001b[39m\u001b[38;5;124m\"\u001b[39m\u001b[38;5;124mtrain\u001b[39m\u001b[38;5;124m\"\u001b[39m,\n\u001b[1;32m     62\u001b[0m         semaphore\u001b[38;5;241m=\u001b[39msemaphore,\n\u001b[1;32m     63\u001b[0m         transform\u001b[38;5;241m=\u001b[39mTaskResultTokenizer(tokenizer),\n\u001b[1;32m     64\u001b[0m     ),\n\u001b[1;32m     65\u001b[0m )\n\u001b[1;32m     66\u001b[0m vllm\u001b[38;5;241m.\u001b[39mprocess\u001b[38;5;241m.\u001b[39mterminate()\n\u001b[1;32m     67\u001b[0m kill_vllm_workers()\n",
      "File \u001b[0;32m~/sky_workdir/experiments/lib/tasks.py:169\u001b[0m, in \u001b[0;36mget_task_results\u001b[0;34m(tasks, client, model, cache, clear_pbar, print_pbar, log_results, log_token_logprobs, n, on_chunk, params, pbar_desc, prices, semaphore, token_scheduler, transform)\u001b[0m\n\u001b[1;32m    166\u001b[0m     _log_results \u001b[38;5;241m=\u001b[39m [\u001b[38;5;28mbool\u001b[39m(log_results)] \u001b[38;5;241m*\u001b[39m \u001b[38;5;28mlen\u001b[39m(tasks)\n\u001b[1;32m    167\u001b[0m random\u001b[38;5;241m.\u001b[39mshuffle(_log_results)\n\u001b[1;32m    168\u001b[0m results \u001b[38;5;241m=\u001b[39m TaskResults(\n\u001b[0;32m--> 169\u001b[0m     \u001b[38;5;28;01mawait\u001b[39;00m asyncio\u001b[38;5;241m.\u001b[39mgather(\n\u001b[1;32m    170\u001b[0m         \u001b[38;5;241m*\u001b[39m(\n\u001b[1;32m    171\u001b[0m             get_task_result(task, client, model, log_result)\n\u001b[1;32m    172\u001b[0m             \u001b[38;5;28;01mfor\u001b[39;00m task, log_result \u001b[38;5;129;01min\u001b[39;00m \u001b[38;5;28mzip\u001b[39m(tasks, _log_results)\n\u001b[1;32m    173\u001b[0m         )\n\u001b[1;32m    174\u001b[0m     )\n\u001b[1;32m    175\u001b[0m )\n\u001b[1;32m    176\u001b[0m results\u001b[38;5;241m.\u001b[39mstats \u001b[38;5;241m=\u001b[39m stats\n\u001b[1;32m    177\u001b[0m pbar\u001b[38;5;241m.\u001b[39mclose()\n",
      "File \u001b[0;32m~/sky_workdir/experiments/lib/tasks.py:147\u001b[0m, in \u001b[0;36mget_task_results.<locals>.get_task_result\u001b[0;34m(task, client, model, log_results)\u001b[0m\n\u001b[1;32m    144\u001b[0m \u001b[38;5;28;01melse\u001b[39;00m:\n\u001b[1;32m    145\u001b[0m     advantages \u001b[38;5;241m=\u001b[39m {key: \u001b[38;5;241m0.0\u001b[39m \u001b[38;5;28;01mfor\u001b[39;00m key \u001b[38;5;129;01min\u001b[39;00m rewards\u001b[38;5;241m.\u001b[39mkeys()}\n\u001b[1;32m    146\u001b[0m \u001b[38;5;28;01mreturn\u001b[39;00m \u001b[38;5;28;01mawait\u001b[39;00m maybe_await(\n\u001b[0;32m--> 147\u001b[0m     \u001b[43mtransform\u001b[49m\u001b[43m(\u001b[49m\n\u001b[1;32m    148\u001b[0m \u001b[43m        \u001b[49m\u001b[43mTaskResult\u001b[49m\u001b[43m(\u001b[49m\n\u001b[1;32m    149\u001b[0m \u001b[43m            \u001b[49m\u001b[43mtask\u001b[49m\u001b[38;5;241;43m=\u001b[39;49m\u001b[43mtask\u001b[49m\u001b[43m,\u001b[49m\n\u001b[1;32m    150\u001b[0m \u001b[43m            \u001b[49m\u001b[43mchat_completions\u001b[49m\u001b[38;5;241;43m=\u001b[39;49m\u001b[43mchat_completions\u001b[49m\u001b[43m,\u001b[49m\n\u001b[1;32m    151\u001b[0m \u001b[43m            \u001b[49m\u001b[43mrewards\u001b[49m\u001b[38;5;241;43m=\u001b[39;49m\u001b[43mrewards\u001b[49m\u001b[43m,\u001b[49m\n\u001b[1;32m    152\u001b[0m \u001b[43m            \u001b[49m\u001b[43mmetrics\u001b[49m\u001b[38;5;241;43m=\u001b[39;49m\u001b[43mmetrics\u001b[49m\u001b[43m,\u001b[49m\n\u001b[1;32m    153\u001b[0m \u001b[43m            \u001b[49m\u001b[43madvantages\u001b[49m\u001b[38;5;241;43m=\u001b[39;49m\u001b[43madvantages\u001b[49m\u001b[43m,\u001b[49m\n\u001b[1;32m    154\u001b[0m \u001b[43m            \u001b[49m\u001b[43mexceptions\u001b[49m\u001b[38;5;241;43m=\u001b[39;49m\u001b[43mexceptions\u001b[49m\u001b[43m,\u001b[49m\n\u001b[1;32m    155\u001b[0m \u001b[43m        \u001b[49m\u001b[43m)\u001b[49m\n\u001b[1;32m    156\u001b[0m \u001b[43m    \u001b[49m\u001b[43m)\u001b[49m\n\u001b[1;32m    157\u001b[0m )\n",
      "File \u001b[0;32m~/sky_workdir/experiments/lib/tokenize.py:65\u001b[0m, in \u001b[0;36mTaskResultTokenizer.__call__\u001b[0;34m(self, task_result)\u001b[0m\n\u001b[1;32m     62\u001b[0m chat_completions \u001b[38;5;241m=\u001b[39m task_result\u001b[38;5;241m.\u001b[39mchat_completions\u001b[38;5;241m.\u001b[39mcopy()\n\u001b[1;32m     63\u001b[0m random\u001b[38;5;241m.\u001b[39mshuffle(chat_completions)\n\u001b[1;32m     64\u001b[0m tokenized_results \u001b[38;5;241m=\u001b[39m [\n\u001b[0;32m---> 65\u001b[0m     \u001b[38;5;28;43mself\u001b[39;49m\u001b[38;5;241;43m.\u001b[39;49m\u001b[43m_tokenized_result\u001b[49m\u001b[43m(\u001b[49m\n\u001b[1;32m     66\u001b[0m \u001b[43m        \u001b[49m\u001b[43mtask_result\u001b[49m\u001b[43m,\u001b[49m\n\u001b[1;32m     67\u001b[0m \u001b[43m        \u001b[49m\u001b[43mchoice\u001b[49m\u001b[43m,\u001b[49m\n\u001b[1;32m     68\u001b[0m \u001b[43m        \u001b[49m\u001b[43mtask_result\u001b[49m\u001b[38;5;241;43m.\u001b[39;49m\u001b[43madvantages\u001b[49m\u001b[38;5;241;43m.\u001b[39;49m\u001b[43mget\u001b[49m\u001b[43m(\u001b[49m\u001b[43m(\u001b[49m\u001b[43mchat_completion\u001b[49m\u001b[38;5;241;43m.\u001b[39;49m\u001b[43mid\u001b[49m\u001b[43m,\u001b[49m\u001b[43m \u001b[49m\u001b[43mchoice\u001b[49m\u001b[38;5;241;43m.\u001b[39;49m\u001b[43mindex\u001b[49m\u001b[43m)\u001b[49m\u001b[43m,\u001b[49m\u001b[43m \u001b[49m\u001b[38;5;241;43m0\u001b[39;49m\u001b[43m)\u001b[49m\u001b[43m,\u001b[49m\n\u001b[1;32m     69\u001b[0m \u001b[43m    \u001b[49m\u001b[43m)\u001b[49m\n\u001b[1;32m     70\u001b[0m     \u001b[38;5;28;01mfor\u001b[39;00m chat_completion \u001b[38;5;129;01min\u001b[39;00m chat_completions\n\u001b[1;32m     71\u001b[0m     \u001b[38;5;28;01mfor\u001b[39;00m choice \u001b[38;5;129;01min\u001b[39;00m chat_completion\u001b[38;5;241m.\u001b[39mchoices\n\u001b[1;32m     72\u001b[0m ]\n\u001b[1;32m     73\u001b[0m prompt_id \u001b[38;5;241m=\u001b[39m random\u001b[38;5;241m.\u001b[39mrandint(\u001b[38;5;241m-\u001b[39m(\u001b[38;5;241m2\u001b[39m\u001b[38;5;241m*\u001b[39m\u001b[38;5;241m*\u001b[39m\u001b[38;5;241m63\u001b[39m), \u001b[38;5;241m2\u001b[39m\u001b[38;5;241m*\u001b[39m\u001b[38;5;241m*\u001b[39m\u001b[38;5;241m63\u001b[39m \u001b[38;5;241m-\u001b[39m \u001b[38;5;241m1\u001b[39m)\n\u001b[1;32m     74\u001b[0m prompt_length \u001b[38;5;241m=\u001b[39m \u001b[38;5;28mlen\u001b[39m(\n\u001b[1;32m     75\u001b[0m     \u001b[38;5;28mlist\u001b[39m(\n\u001b[1;32m     76\u001b[0m         takewhile(\n\u001b[0;32m   (...)\u001b[0m\n\u001b[1;32m     80\u001b[0m     )\n\u001b[1;32m     81\u001b[0m )\n",
      "File \u001b[0;32m~/sky_workdir/experiments/lib/tokenize.py:119\u001b[0m, in \u001b[0;36mTaskResultTokenizer._tokenized_result\u001b[0;34m(self, task_result, choice, advantage)\u001b[0m\n\u001b[1;32m    105\u001b[0m tokenized_result \u001b[38;5;241m=\u001b[39m cast(\n\u001b[1;32m    106\u001b[0m     \u001b[38;5;28mdict\u001b[39m[\u001b[38;5;28mstr\u001b[39m, \u001b[38;5;28mlist\u001b[39m[\u001b[38;5;28mint\u001b[39m]],\n\u001b[1;32m    107\u001b[0m     \u001b[38;5;28mself\u001b[39m\u001b[38;5;241m.\u001b[39mtokenizer\u001b[38;5;241m.\u001b[39mapply_chat_template(\n\u001b[0;32m   (...)\u001b[0m\n\u001b[1;32m    112\u001b[0m     ),\n\u001b[1;32m    113\u001b[0m )\n\u001b[1;32m    114\u001b[0m \u001b[38;5;28;01mif\u001b[39;00m (\n\u001b[1;32m    115\u001b[0m     choice\u001b[38;5;241m.\u001b[39mlogprobs\n\u001b[1;32m    116\u001b[0m     \u001b[38;5;129;01mand\u001b[39;00m choice\u001b[38;5;241m.\u001b[39mlogprobs\u001b[38;5;241m.\u001b[39mcontent\n\u001b[1;32m    117\u001b[0m     \u001b[38;5;129;01mand\u001b[39;00m choice\u001b[38;5;241m.\u001b[39mlogprobs\u001b[38;5;241m.\u001b[39mcontent[\u001b[38;5;241m0\u001b[39m]\u001b[38;5;241m.\u001b[39mtoken\u001b[38;5;241m.\u001b[39mstartswith(\u001b[38;5;124m\"\u001b[39m\u001b[38;5;124mtoken_id:\u001b[39m\u001b[38;5;124m\"\u001b[39m)\n\u001b[1;32m    118\u001b[0m ):\n\u001b[0;32m--> 119\u001b[0m     start \u001b[38;5;241m=\u001b[39m \u001b[43mtokenized_result\u001b[49m\u001b[43m[\u001b[49m\u001b[38;5;124;43m\"\u001b[39;49m\u001b[38;5;124;43massistant_masks\u001b[39;49m\u001b[38;5;124;43m\"\u001b[39;49m\u001b[43m]\u001b[49m\u001b[38;5;241;43m.\u001b[39;49m\u001b[43mindex\u001b[49m\u001b[43m(\u001b[49m\u001b[38;5;241;43m1\u001b[39;49m\u001b[43m)\u001b[49m\n\u001b[1;32m    120\u001b[0m     end \u001b[38;5;241m=\u001b[39m start \u001b[38;5;241m+\u001b[39m tokenized_result[\u001b[38;5;124m\"\u001b[39m\u001b[38;5;124massistant_masks\u001b[39m\u001b[38;5;124m\"\u001b[39m][start:]\u001b[38;5;241m.\u001b[39mindex(\u001b[38;5;241m0\u001b[39m)\n\u001b[1;32m    121\u001b[0m     tokenized_result[\u001b[38;5;124m\"\u001b[39m\u001b[38;5;124minput_ids\u001b[39m\u001b[38;5;124m\"\u001b[39m][start:end] \u001b[38;5;241m=\u001b[39m [\n\u001b[1;32m    122\u001b[0m         \u001b[38;5;28mint\u001b[39m(token_logprob\u001b[38;5;241m.\u001b[39mtoken\u001b[38;5;241m.\u001b[39msplit(\u001b[38;5;124m\"\u001b[39m\u001b[38;5;124m:\u001b[39m\u001b[38;5;124m\"\u001b[39m)[\u001b[38;5;241m1\u001b[39m])\n\u001b[1;32m    123\u001b[0m         \u001b[38;5;28;01mfor\u001b[39;00m token_logprob \u001b[38;5;129;01min\u001b[39;00m choice\u001b[38;5;241m.\u001b[39mlogprobs\u001b[38;5;241m.\u001b[39mcontent\n\u001b[1;32m    124\u001b[0m     ]\n",
      "\u001b[0;31mValueError\u001b[0m: 1 is not in list"
     ]
    },
    {
     "name": "stdout",
     "output_type": "stream",
     "text": [
      "val: 100%|██████████| 128/128 [03:50<00:00,  1.80s/it, completion_tokens=1057, prompt_tokens=1150, reward=0.415, acc=0.415, token_logprobs=135267]\n"
     ]
    }
   ],
   "source": [
    "model_name = get_last_iteration_dir(output_dir) or model.base_model\n",
    "for i in range(get_iteration(output_dir), num_iterations):\n",
    "    vllm = await start_vllm(\n",
    "        model_name,\n",
    "        max_concurrent_requests=1024,\n",
    "        env={\"VLLM_ALLOW_LONG_MAX_MODEL_LEN\": \"1\"},\n",
    "        named_arguments=dict(\n",
    "            block_size=32,\n",
    "            disable_log_requests=True,\n",
    "            enable_prefix_caching=True,\n",
    "            enforce_eager=True,\n",
    "            gpu_memory_utilization=0.95,\n",
    "            max_model_len=16384,\n",
    "            max_num_seqs=1024,\n",
    "            max_num_batched_tokens=16384,\n",
    "            num_scheduler_steps=8,\n",
    "            preemption_mode=\"swap\",\n",
    "            return_tokens_as_token_ids=True,\n",
    "            swap_space=80,\n",
    "            tensor_parallel_size=torch.cuda.device_count(),\n",
    "        ),\n",
    "        timeout=240 + 30 * torch.cuda.device_count(),\n",
    "        verbosity=verbosity,\n",
    "    )\n",
    "    semaphore = asyncio.Semaphore(\n",
    "        int(1.33 * vllm.max_concurrent_tokens / expected_tokens)\n",
    "    )\n",
    "    offset = i * stride\n",
    "    val_results, train_results = await asyncio.gather(\n",
    "        get_task_results(\n",
    "            tasks=val_tasks,\n",
    "            client=vllm.client,\n",
    "            model=vllm.model,\n",
    "            cache=False,\n",
    "            log_results=8,\n",
    "            n=2,\n",
    "            on_chunk=inference_early_stop,\n",
    "            params=ChatCompletionParams(\n",
    "                stream_options={\n",
    "                    \"include_usage\": True,\n",
    "                },\n",
    "                max_completion_tokens=8192,\n",
    "            ),\n",
    "            pbar_desc=\"val\",\n",
    "            semaphore=semaphore,\n",
    "        ),\n",
    "        get_task_results(\n",
    "            tasks=list(islice(cycle(train_tasks), offset, offset + tasks_per_iter)),\n",
    "            client=vllm.client,\n",
    "            model=vllm.model,\n",
    "            cache=False,\n",
    "            log_results=False,\n",
    "            n=samples_per_task,\n",
    "            on_chunk=inference_early_stop,\n",
    "            params=ChatCompletionParams(\n",
    "                stream_options={\n",
    "                    \"include_usage\": True,\n",
    "                },\n",
    "                max_completion_tokens=8192,\n",
    "            ),\n",
    "            pbar_desc=\"train\",\n",
    "            semaphore=semaphore,\n",
    "            transform=TaskResultTokenizer(tokenizer),\n",
    "        ),\n",
    "    )\n",
    "    vllm.process.terminate()\n",
    "    kill_vllm_workers()\n",
    "    val_stats = val_results.stats\n",
    "    assert val_stats.grades > 0\n",
    "    assert val_stats.usages > 0\n",
    "    wandb_data = {\n",
    "        \"iteration\": i,\n",
    "        \"exceptions\": val_stats.exceptions + train_results.stats.exceptions,\n",
    "        \"reward\": val_stats.total_reward / val_stats.grades,\n",
    "        \"tokens\": round(val_stats.completion_tokens / val_stats.usages),\n",
    "    }\n",
    "    for metric in val_stats.total_metrics:\n",
    "        wandb_data[metric] = val_stats.total_metrics[metric] / val_stats.grades\n",
    "    try:\n",
    "        wandb_data.update(\n",
    "            pl.DataFrame(last_tune_log(output_dir)).drop(\"step\").mean().to_dicts()[0]\n",
    "        )\n",
    "    except Exception:\n",
    "        pass\n",
    "    wandb.log(wandb_data)\n",
    "    expected_tokens = wandb_data[\"tokens\"]\n",
    "    try:\n",
    "        best_iteration = (\n",
    "            wandb.Api()\n",
    "            .run(f\"{run.entity}/{run.project}/{run.id}\")\n",
    "            .history()\n",
    "            .sort_values(by=\"reward\")[\"iteration\"]\n",
    "            .iloc[-1]\n",
    "        )\n",
    "        clear_iteration_dirs(output_dir, [best_iteration, i])\n",
    "        # see ./logs/rsync.log for output\n",
    "        asyncio.create_task(rsync_dir(sync_dir, \"gs://atreides/openpipe/\"))\n",
    "    except Exception:\n",
    "        pass\n",
    "    tokenized_results = [\n",
    "        result\n",
    "        for results in train_results\n",
    "        for result in results\n",
    "        if result.advantage != 0\n",
    "    ]\n",
    "    packed_tensors = packed_tensors_from_tokenized_results(\n",
    "        tokenized_results,\n",
    "        seq_len=seq_len,\n",
    "        pad_token_id=tokenizer.pad_token_id,  # type: ignore\n",
    "    )\n",
    "    if verbosity == 2:\n",
    "        plot_packed_tensors(packed_tensors)\n",
    "    else:\n",
    "        print(f\"Packed tensors into {packed_tensors[\"tokens\"].size()} shape\")\n",
    "    optimizer_config = ComponentConfig(\n",
    "        model.tune_optimizer,\n",
    "        lr=lr,\n",
    "        betas=betas,\n",
    "        weight_decay=weight_decay,\n",
    "    )\n",
    "    if model.tune_optimizer == \"torch.optim.AdamW\":\n",
    "        optimizer_config.fused = True\n",
    "    model_name = await tune(\n",
    "        base_model=model.base_model,\n",
    "        output_dir=output_dir,\n",
    "        packed_tensors=packed_tensors,\n",
    "        model=model.tune_model,\n",
    "        model_type=model.tune_model_type,\n",
    "        config=TuneRecipeConfig(\n",
    "            optimizer=optimizer_config,\n",
    "            loss=ComponentConfig(\n",
    "                GRPO,\n",
    "                clip_epsilon=clip_epsilon,\n",
    "                entropy_coef=entropy_coef,\n",
    "                kl_coef=kl_coef,\n",
    "                tanh=tanh,\n",
    "            ),\n",
    "            shuffle=True,\n",
    "            batch_size=model.tune_max_batch_tokens // seq_len,\n",
    "            fsdp_cpu_offload=model.tune_fsdp_cpu_offload,\n",
    "            enable_activation_checkpointing=True,\n",
    "            enable_activation_offloading=True,\n",
    "            custom_sharded_layers=[\"tok_embeddings\", \"output\"],\n",
    "            num_output_chunks=model.tune_num_output_chunks,\n",
    "            compile=True,\n",
    "        ),\n",
    "        verbosity=verbosity,\n",
    "    )\n",
    "    # see ./logs/rsync.log for output\n",
    "    asyncio.create_task(rsync_dir(sync_dir, \"gs://atreides/openpipe/\"))"
   ]
  },
  {
   "cell_type": "code",
   "execution_count": 8,
   "metadata": {},
   "outputs": [
    {
     "name": "stdout",
     "output_type": "stream",
     "text": [
      "{{- bos_token }}\n",
      "{%- if custom_tools is defined %}\n",
      "    {%- set tools = custom_tools %}\n",
      "{%- endif %}\n",
      "{%- if not tools_in_user_message is defined %}\n",
      "    {%- set tools_in_user_message = true %}\n",
      "{%- endif %}\n",
      "{%- if not date_string is defined %}\n",
      "    {%- set date_string = \"26 Jul 2024\" %}\n",
      "{%- endif %}\n",
      "{%- if not tools is defined %}\n",
      "    {%- set tools = none %}\n",
      "{%- endif %}\n",
      "\n",
      "{#- This block extracts the system message, so we can slot it into the right place. #}\n",
      "{%- if messages[0]['role'] == 'system' %}\n",
      "    {%- set system_message = messages[0]['content']|trim %}\n",
      "    {%- set messages = messages[1:] %}\n",
      "{%- else %}\n",
      "    {%- set system_message = \"\" %}\n",
      "{%- endif %}\n",
      "\n",
      "{#- System message + builtin tools #}\n",
      "{{- \"<|start_header_id|>system<|end_header_id|>\\n\\n\" }}\n",
      "{%- if builtin_tools is defined or tools is not none %}\n",
      "    {{- \"Environment: ipython\\n\" }}\n",
      "{%- endif %}\n",
      "{%- if builtin_tools is defined %}\n",
      "    {{- \"Tools: \" + builtin_tools | reject('equalto', 'code_interpreter') | join(\", \") + \"\\n\\n\"}}\n",
      "{%- endif %}\n",
      "{{- \"Cutting Knowledge Date: December 2023\\n\" }}\n",
      "{{- \"Today Date: \" + date_string + \"\\n\\n\" }}\n",
      "{%- if tools is not none and not tools_in_user_message %}\n",
      "    {{- \"You have access to the following functions. To call a function, please respond with JSON for a function call.\" }}\n",
      "    {{- 'Respond in the format {\"name\": function name, \"parameters\": dictionary of argument name and its value}.' }}\n",
      "    {{- \"Do not use variables.\\n\\n\" }}\n",
      "    {%- for t in tools %}\n",
      "        {{- t | tojson(indent=4) }}\n",
      "        {{- \"\\n\\n\" }}\n",
      "    {%- endfor %}\n",
      "{%- endif %}\n",
      "{{- system_message }}\n",
      "{{- \"<|eot_id|>\" }}\n",
      "\n",
      "{#- Custom tools are passed in a user message with some extra guidance #}\n",
      "{%- if tools_in_user_message and not tools is none %}\n",
      "    {#- Extract the first user message so we can plug it in here #}\n",
      "    {%- if messages | length != 0 %}\n",
      "        {%- set first_user_message = messages[0]['content']|trim %}\n",
      "        {%- set messages = messages[1:] %}\n",
      "    {%- else %}\n",
      "        {{- raise_exception(\"Cannot put tools in the first user message when there's no first user message!\") }}\n",
      "{%- endif %}\n",
      "    {{- '<|start_header_id|>user<|end_header_id|>\\n\\n' -}}\n",
      "    {{- \"Given the following functions, please respond with a JSON for a function call \" }}\n",
      "    {{- \"with its proper arguments that best answers the given prompt.\\n\\n\" }}\n",
      "    {{- 'Respond in the format {\"name\": function name, \"parameters\": dictionary of argument name and its value}.' }}\n",
      "    {{- \"Do not use variables.\\n\\n\" }}\n",
      "    {%- for t in tools %}\n",
      "        {{- t | tojson(indent=4) }}\n",
      "        {{- \"\\n\\n\" }}\n",
      "    {%- endfor %}\n",
      "    {{- first_user_message + \"<|eot_id|>\"}}\n",
      "{%- endif %}\n",
      "\n",
      "{%- for message in messages %}\n",
      "    {%- if not (message.role == 'ipython' or message.role == 'tool' or 'tool_calls' in message) %}\n",
      "        {{- '<|start_header_id|>' + message['role'] + '<|end_header_id|>\\n\\n'+ message['content'] | trim + '<|eot_id|>' }}\n",
      "    {%- elif 'tool_calls' in message %}\n",
      "        {%- if not message.tool_calls|length == 1 %}\n",
      "            {{- raise_exception(\"This model only supports single tool-calls at once!\") }}\n",
      "        {%- endif %}\n",
      "        {%- set tool_call = message.tool_calls[0].function %}\n",
      "        {%- if builtin_tools is defined and tool_call.name in builtin_tools %}\n",
      "            {{- '<|start_header_id|>assistant<|end_header_id|>\\n\\n' -}}\n",
      "            {{- \"<|python_tag|>\" + tool_call.name + \".call(\" }}\n",
      "            {%- for arg_name, arg_val in tool_call.arguments | items %}\n",
      "                {{- arg_name + '=\"' + arg_val + '\"' }}\n",
      "                {%- if not loop.last %}\n",
      "                    {{- \", \" }}\n",
      "                {%- endif %}\n",
      "                {%- endfor %}\n",
      "            {{- \")\" }}\n",
      "        {%- else  %}\n",
      "            {{- '<|start_header_id|>assistant<|end_header_id|>\\n\\n' -}}\n",
      "            {{- '{\"name\": \"' + tool_call.name + '\", ' }}\n",
      "            {{- '\"parameters\": ' }}\n",
      "            {{- tool_call.arguments | tojson }}\n",
      "            {{- \"}\" }}\n",
      "        {%- endif %}\n",
      "        {%- if builtin_tools is defined %}\n",
      "            {#- This means we're in ipython mode #}\n",
      "            {{- \"<|eom_id|>\" }}\n",
      "        {%- else %}\n",
      "            {{- \"<|eot_id|>\" }}\n",
      "        {%- endif %}\n",
      "    {%- elif message.role == \"tool\" or message.role == \"ipython\" %}\n",
      "        {{- \"<|start_header_id|>ipython<|end_header_id|>\\n\\n\" }}\n",
      "        {%- if message.content is mapping or message.content is iterable %}\n",
      "            {{- message.content | tojson }}\n",
      "        {%- else %}\n",
      "            {{- message.content }}\n",
      "        {%- endif %}\n",
      "        {{- \"<|eot_id|>\" }}\n",
      "    {%- endif %}\n",
      "{%- endfor %}\n",
      "{%- if add_generation_prompt %}\n",
      "    {{- '<|start_header_id|>assistant<|end_header_id|>\\n\\n' }}\n",
      "{%- endif %}\n",
      "\n"
     ]
    }
   ],
   "source": [
    "print(tokenizer.get_chat_template())"
   ]
  }
 ],
 "metadata": {
  "kernelspec": {
   "display_name": ".venv",
   "language": "python",
   "name": "python3"
  },
  "language_info": {
   "codemirror_mode": {
    "name": "ipython",
    "version": 3
   },
   "file_extension": ".py",
   "mimetype": "text/x-python",
   "name": "python",
   "nbconvert_exporter": "python",
   "pygments_lexer": "ipython3",
   "version": "3.12.9"
  }
 },
 "nbformat": 4,
 "nbformat_minor": 2
}
