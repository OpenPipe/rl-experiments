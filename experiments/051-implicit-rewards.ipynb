{
 "cells": [
  {
   "cell_type": "code",
   "execution_count": 1,
   "metadata": {},
   "outputs": [],
   "source": [
    "%load_ext autoreload\n",
    "%autoreload 2"
   ]
  },
  {
   "cell_type": "code",
   "execution_count": 2,
   "metadata": {},
   "outputs": [
    {
     "data": {
      "text/html": [
       "<style>\n",
       ".cell-output-ipywidget-background {\n",
       "    background-color: transparent !important;\n",
       "}\n",
       ":root {\n",
       "    --jp-widgets-color: var(--vscode-editor-foreground);\n",
       "    --jp-widgets-font-size: var(--vscode-editor-font-size);\n",
       "}  \n",
       "</style>\n"
      ],
      "text/plain": [
       "<IPython.core.display.HTML object>"
      ]
     },
     "metadata": {},
     "output_type": "display_data"
    }
   ],
   "source": [
    "%%html\n",
    "<style>\n",
    ".cell-output-ipywidget-background {\n",
    "    background-color: transparent !important;\n",
    "}\n",
    ":root {\n",
    "    --jp-widgets-color: var(--vscode-editor-foreground);\n",
    "    --jp-widgets-font-size: var(--vscode-editor-font-size);\n",
    "}  \n",
    "</style>"
   ]
  },
  {
   "cell_type": "code",
   "execution_count": 3,
   "metadata": {},
   "outputs": [
    {
     "name": "stderr",
     "output_type": "stream",
     "text": [
      "\u001b[34m\u001b[1mwandb\u001b[0m: Currently logged in as: \u001b[33mbradhilton\u001b[0m to \u001b[32mhttps://api.wandb.ai\u001b[0m. Use \u001b[1m`wandb login --relogin`\u001b[0m to force relogin\n",
      "\u001b[34m\u001b[1mwandb\u001b[0m: Using wandb-core as the SDK backend.  Please refer to https://wandb.me/wandb-core for more information.\n"
     ]
    },
    {
     "data": {
      "text/html": [
       "Tracking run with wandb version 0.19.6"
      ],
      "text/plain": [
       "<IPython.core.display.HTML object>"
      ]
     },
     "metadata": {},
     "output_type": "display_data"
    },
    {
     "data": {
      "text/html": [
       "Run data is saved locally in <code>/home/gcpuser/sky_workdir/experiments/wandb/run-20250226_132404-051</code>"
      ],
      "text/plain": [
       "<IPython.core.display.HTML object>"
      ]
     },
     "metadata": {},
     "output_type": "display_data"
    },
    {
     "data": {
      "text/html": [
       "Syncing run <strong><a href='https://wandb.ai/bradhilton/rl-experiments/runs/051' target=\"_blank\">051</a></strong> to <a href='https://wandb.ai/bradhilton/rl-experiments' target=\"_blank\">Weights & Biases</a> (<a href='https://wandb.me/developer-guide' target=\"_blank\">docs</a>)<br>"
      ],
      "text/plain": [
       "<IPython.core.display.HTML object>"
      ]
     },
     "metadata": {},
     "output_type": "display_data"
    },
    {
     "data": {
      "text/html": [
       " View project at <a href='https://wandb.ai/bradhilton/rl-experiments' target=\"_blank\">https://wandb.ai/bradhilton/rl-experiments</a>"
      ],
      "text/plain": [
       "<IPython.core.display.HTML object>"
      ]
     },
     "metadata": {},
     "output_type": "display_data"
    },
    {
     "data": {
      "text/html": [
       " View run at <a href='https://wandb.ai/bradhilton/rl-experiments/runs/051' target=\"_blank\">https://wandb.ai/bradhilton/rl-experiments/runs/051</a>"
      ],
      "text/plain": [
       "<IPython.core.display.HTML object>"
      ]
     },
     "metadata": {},
     "output_type": "display_data"
    },
    {
     "data": {
      "text/plain": [
       "(64, 64, 2860)"
      ]
     },
     "execution_count": 3,
     "metadata": {},
     "output_type": "execute_result"
    }
   ],
   "source": [
    "import asyncio\n",
    "from itertools import cycle, islice\n",
    "import json\n",
    "from lib import models\n",
    "from lib.grpo import GRPO\n",
    "from lib.inference_early_stop import InferenceEarlyStop\n",
    "from lib.pack import packed_tensors_from_tokenized_results, plot_packed_tensors\n",
    "from lib.recipe import ComponentConfig, TuneRecipeConfig\n",
    "from lib.tasks import ChatCompletionParams, get_task_results\n",
    "from lib.temporal_clue import get_temporal_clue_tasks\n",
    "from lib.tokenize import TaskResultTokenizer, TokenizedResult\n",
    "from lib.tune import (\n",
    "    clear_iteration_dirs,\n",
    "    get_iteration,\n",
    "    get_last_iteration_dir,\n",
    "    last_tune_log,\n",
    "    tune,\n",
    "    Verbosity,\n",
    ")\n",
    "from lib.utils import symlink_shm, rsync_dir\n",
    "from lib.vllm import start_vllm, kill_vllm_workers\n",
    "import polars as pl\n",
    "import random\n",
    "import torch\n",
    "from transformers import AutoTokenizer\n",
    "import wandb\n",
    "\n",
    "run_name = \"051\"\n",
    "run = wandb.init(\n",
    "    project=\"rl-experiments\",\n",
    "    name=run_name,\n",
    "    id=run_name,\n",
    "    resume=\"allow\",\n",
    "    config={\"task\": \"temporal-clue\"},\n",
    ")\n",
    "\n",
    "tasks = list(get_temporal_clue_tasks())\n",
    "val_tasks = tasks[:64]\n",
    "test_tasks = tasks[64:128]\n",
    "train_tasks = tasks[128:]\n",
    "random.seed(42)\n",
    "random.shuffle(train_tasks)\n",
    "len(val_tasks), len(test_tasks), len(train_tasks)"
   ]
  },
  {
   "cell_type": "code",
   "execution_count": 4,
   "metadata": {},
   "outputs": [
    {
     "data": {
      "application/vnd.jupyter.widget-view+json": {
       "model_id": "653c4120bda344f1bb7f1a51314a2ac0",
       "version_major": 2,
       "version_minor": 0
      },
      "text/plain": [
       "tokenizer_config.json:   0%|          | 0.00/56.3k [00:00<?, ?B/s]"
      ]
     },
     "metadata": {},
     "output_type": "display_data"
    },
    {
     "data": {
      "application/vnd.jupyter.widget-view+json": {
       "model_id": "c3e47e9e7566449fad0d4a24aea14bfe",
       "version_major": 2,
       "version_minor": 0
      },
      "text/plain": [
       "tokenizer.json:   0%|          | 0.00/9.09M [00:00<?, ?B/s]"
      ]
     },
     "metadata": {},
     "output_type": "display_data"
    },
    {
     "data": {
      "application/vnd.jupyter.widget-view+json": {
       "model_id": "c5b1514b18ca4486a13a0751568b8b59",
       "version_major": 2,
       "version_minor": 0
      },
      "text/plain": [
       "special_tokens_map.json:   0%|          | 0.00/444 [00:00<?, ?B/s]"
      ]
     },
     "metadata": {},
     "output_type": "display_data"
    }
   ],
   "source": [
    "# GRPO params\n",
    "wandb.config[\"clip_epsilon\"] = clip_epsilon = 0.2\n",
    "wandb.config[\"entropy_coef\"] = entropy_coef = 0.0\n",
    "wandb.config[\"kl_coef\"] = kl_coef = 0.0\n",
    "wandb.config[\"tanh\"] = tanh = False\n",
    "\n",
    "expected_tokens = 300  # Expected completion tokens per task sample\n",
    "inference_early_stop = InferenceEarlyStop(alpha=0.992, threshold=-3.3)\n",
    "wandb.config[\"lr\"] = lr = 1e-5\n",
    "wandb.config[\"betas\"] = betas = (0.9, 0.99)\n",
    "wandb.config[\"weight_decay\"] = weight_decay = 0.1\n",
    "model = models.theta_8b()\n",
    "wandb.config[\"model\"] = model.base_model\n",
    "num_iterations = 1_000\n",
    "output_dir = f\"./models/{run_name}\"\n",
    "wandb.config[\"samples_per_task\"] = samples_per_task = 50\n",
    "wandb.config[\"seq_len\"] = seq_len = 16384\n",
    "wandb.config[\"stride\"] = stride = 32\n",
    "wandb.config[\"tasks_per_iter\"] = tasks_per_iter = 64\n",
    "sync_dir = output_dir  # symlink_shm(output_dir) or output_dir\n",
    "tokenizer = AutoTokenizer.from_pretrained(model.base_model)\n",
    "verbosity: Verbosity = 2\n",
    "prev_deferred_results: list[list[TokenizedResult]] | None = None"
   ]
  },
  {
   "cell_type": "code",
   "execution_count": 29,
   "metadata": {},
   "outputs": [
    {
     "name": "stdout",
     "output_type": "stream",
     "text": [
      "$ tune run --nproc-per-node=1 lib.recipe.TuneRecipe --config ./models/051/config.yaml\n",
      "Running with torchrun...\n"
     ]
    },
    {
     "name": "stderr",
     "output_type": "stream",
     "text": [
      "INFO:torchtune.utils._logging:Set intra op parallelism no. of threads to 26\n",
      "INFO:torchtune.utils._logging:Running FullFinetuneRecipe with resolved config:\n",
      "\n",
      "batch_size: 2\n",
      "checkpointer:\n",
      "  _component_: torchtune.training.checkpointing._checkpointer.FullModelHFCheckpointer\n",
      "  checkpoint_dir: ./models/051/0001\n",
      "  checkpoint_files:\n",
      "  - ft-model-00002-of-00004.safetensors\n",
      "  - ft-model-00003-of-00004.safetensors\n",
      "  - ft-model-00004-of-00004.safetensors\n",
      "  - ft-model-00001-of-00004.safetensors\n",
      "  model_type: LLAMA3\n",
      "  output_dir: ./models/051\n",
      "  recipe_checkpoint: null\n",
      "compile: true\n",
      "custom_sharded_layers:\n",
      "- tok_embeddings\n",
      "- output\n",
      "dataset:\n",
      "  _component_: lib.pack.PackedDataset\n",
      "  dir: ./models/051/tensors\n",
      "  num_sequences: 39\n",
      "  sequence_length: 16384\n",
      "device: cuda\n",
      "dtype: bf16\n",
      "enable_activation_checkpointing: true\n",
      "enable_activation_offloading: true\n",
      "epochs: 1\n",
      "fsdp_cpu_offload: true\n",
      "gradient_accumulation_steps: 17\n",
      "log_grad_magnitude: true\n",
      "loss:\n",
      "  _component_: lib.grpo.GRPO\n",
      "  clip_epsilon: 0.2\n",
      "  entropy_coef: 0.0\n",
      "  kl_coef: 0.0\n",
      "  tanh: false\n",
      "max_steps_per_epoch: 1\n",
      "metric_logger:\n",
      "  _component_: torchtune.training.metric_logging.DiskLogger\n",
      "  log_dir: ./models/051/logs\n",
      "model:\n",
      "  _component_: torchtune.models.llama3_1._model_builders.llama3_1_8b\n",
      "num_output_chunks: 8\n",
      "optimizer:\n",
      "  _component_: torch.optim.AdamW\n",
      "  betas:\n",
      "  - 0.9\n",
      "  - 0.99\n",
      "  fused: true\n",
      "  lr: 1.0e-05\n",
      "  weight_decay: 0.1\n",
      "resume_from_checkpoint: false\n",
      "seed: 42\n",
      "shuffle: false\n",
      "\n",
      "DEBUG:torchtune.utils._logging:Setting manual seed to local seed 42. Local seed is seed + rank = 42 + 0\n"
     ]
    },
    {
     "name": "stdout",
     "output_type": "stream",
     "text": [
      "Writing logs to models/051/logs/log_1740584830.txt\n"
     ]
    },
    {
     "name": "stderr",
     "output_type": "stream",
     "text": [
      "INFO:torchtune.utils._logging:FSDP is enabled. Instantiating model and loading checkpoint on Rank 0 ...\n",
      "INFO:torchtune.utils._logging:Compiling model layers with torch.compile...\n",
      "INFO:torchtune.utils._logging:Instantiating model and loading checkpoint took 18.90 secs\n",
      "INFO:torchtune.utils._logging:Memory stats after model init:\n",
      "\tGPU peak memory allocation: 2.02 GiB\n",
      "\tGPU peak memory reserved: 2.12 GiB\n",
      "\tGPU peak memory active: 2.02 GiB\n",
      "INFO:torchtune.utils._logging:Optimizer is initialized.\n",
      "INFO:torchtune.utils._logging:Compiling loss with torch.compile...\n",
      "INFO:torchtune.utils._logging:Loss is initialized.\n",
      "INFO:torchtune.utils._logging:Dataset and Sampler are initialized.\n",
      "WARNING:torchtune.utils._logging: Profiling disabled.\n",
      "INFO:torchtune.utils._logging: Profiler config after instantiation: {'enabled': False}\n",
      "1|1|Loss: 0.1354: 100%|██████████| 1/1 [07:03<00:00, 423.91s/it, loss=0.135, policy=0.135, entropy=0.457, kl_div=nan, grad_magnitude=40]INFO:torchtune.utils._logging:Saving checkpoint. This may take some time. Retrieving full model state dict...\n",
      "INFO:torchtune.utils._logging:Getting full model state dict took 9.69 secs\n",
      "INFO:torchtune.utils._logging:Model checkpoint of size 4.63 GiB saved to models/051/epoch_0/ft-model-00001-of-00004.safetensors\n",
      "INFO:torchtune.utils._logging:Model checkpoint of size 4.66 GiB saved to models/051/epoch_0/ft-model-00002-of-00004.safetensors\n",
      "INFO:torchtune.utils._logging:Model checkpoint of size 4.58 GiB saved to models/051/epoch_0/ft-model-00003-of-00004.safetensors\n",
      "INFO:torchtune.utils._logging:Model checkpoint of size 1.09 GiB saved to models/051/epoch_0/ft-model-00004-of-00004.safetensors\n",
      "INFO:torchtune.utils._logging:Saving final epoch checkpoint.\n",
      "INFO:torchtune.utils._logging:The full model checkpoint, including all weights and configurations, has been saved successfully.You can now use this checkpoint for further training or inference.\n",
      "INFO:torchtune.utils._logging:Saving checkpoint took 16.43 secs\n",
      "1|1|Loss: 0.1354: 100%|██████████| 1/1 [07:30<00:00, 450.51s/it, loss=0.135, policy=0.135, entropy=0.457, kl_div=nan, grad_magnitude=40]\n"
     ]
    }
   ],
   "source": [
    "optimizer_config = ComponentConfig(\n",
    "    model.tune_optimizer,\n",
    "    lr=lr,\n",
    "    betas=betas,\n",
    "    weight_decay=weight_decay,\n",
    ")\n",
    "if model.tune_optimizer == \"torch.optim.AdamW\":\n",
    "    optimizer_config.fused = True\n",
    "model_name = await tune(\n",
    "    base_model=model.base_model,\n",
    "    output_dir=output_dir,\n",
    "    packed_tensors=packed_tensors,\n",
    "    model=model.tune_model,\n",
    "    model_type=model.tune_model_type,\n",
    "    config=TuneRecipeConfig(\n",
    "        optimizer=optimizer_config,\n",
    "        gradient_accumulation_steps=packed_tensors[\"tokens\"].shape[0] // 2 - 2,\n",
    "        max_steps_per_epoch=1,\n",
    "        loss=ComponentConfig(\n",
    "            GRPO,\n",
    "            clip_epsilon=clip_epsilon,\n",
    "            entropy_coef=entropy_coef,\n",
    "            kl_coef=kl_coef,\n",
    "            tanh=tanh,\n",
    "        ),\n",
    "        shuffle=False,\n",
    "        batch_size=model.tune_max_batch_tokens // seq_len,\n",
    "        fsdp_cpu_offload=model.tune_fsdp_cpu_offload,\n",
    "        enable_activation_checkpointing=True,\n",
    "        enable_activation_offloading=True,\n",
    "        custom_sharded_layers=[\"tok_embeddings\", \"output\"],\n",
    "        num_output_chunks=model.tune_num_output_chunks,\n",
    "        compile=True,\n",
    "        log_grad_magnitude=True,\n",
    "    ),\n",
    "    verbosity=verbosity,\n",
    ")"
   ]
  },
  {
   "cell_type": "code",
   "execution_count": null,
   "metadata": {},
   "outputs": [],
   "source": [
    "model_name = get_last_iteration_dir(output_dir) or model.base_model\n",
    "for i in range(get_iteration(output_dir), num_iterations):\n",
    "    vllm = await start_vllm(\n",
    "        model_name,\n",
    "        max_concurrent_requests=1024,\n",
    "        env={\"VLLM_ALLOW_LONG_MAX_MODEL_LEN\": \"1\"},\n",
    "        named_arguments=dict(\n",
    "            block_size=32,\n",
    "            disable_log_requests=True,\n",
    "            enable_prefix_caching=True,\n",
    "            enforce_eager=True,\n",
    "            gpu_memory_utilization=0.95,\n",
    "            max_model_len=16384,\n",
    "            max_num_seqs=1024,\n",
    "            max_num_batched_tokens=16384,\n",
    "            num_scheduler_steps=8,\n",
    "            preemption_mode=\"swap\",\n",
    "            return_tokens_as_token_ids=True,\n",
    "            swap_space=80,\n",
    "            tensor_parallel_size=torch.cuda.device_count(),\n",
    "        ),\n",
    "        timeout=240 + 15 * torch.cuda.device_count(),\n",
    "        verbosity=verbosity,\n",
    "    )\n",
    "    semaphore = asyncio.Semaphore(\n",
    "        int(1.33 * vllm.max_concurrent_tokens / expected_tokens)\n",
    "    )\n",
    "    offset = i * stride\n",
    "    val_results, train_results = await asyncio.gather(\n",
    "        get_task_results(\n",
    "            tasks=val_tasks,\n",
    "            client=vllm.client,\n",
    "            model=vllm.model,\n",
    "            cache=False,\n",
    "            log_results=8,\n",
    "            n=2,\n",
    "            on_chunk=inference_early_stop,\n",
    "            params=ChatCompletionParams(\n",
    "                stream_options={\n",
    "                    \"include_usage\": True,\n",
    "                },\n",
    "                max_completion_tokens=8192,\n",
    "            ),\n",
    "            pbar_desc=\"val\",\n",
    "            semaphore=semaphore,\n",
    "        ),\n",
    "        get_task_results(\n",
    "            tasks=list(islice(cycle(train_tasks), offset, offset + tasks_per_iter)),\n",
    "            client=vllm.client,\n",
    "            model=vllm.model,\n",
    "            cache=False,\n",
    "            log_results=False,\n",
    "            n=samples_per_task,\n",
    "            on_chunk=inference_early_stop,\n",
    "            params=ChatCompletionParams(\n",
    "                stream_options={\n",
    "                    \"include_usage\": True,\n",
    "                },\n",
    "                max_completion_tokens=8192,\n",
    "            ),\n",
    "            pbar_desc=\"train\",\n",
    "            semaphore=semaphore,\n",
    "            transform=TaskResultTokenizer(tokenizer),\n",
    "        ),\n",
    "    )\n",
    "    vllm.process.terminate()\n",
    "    kill_vllm_workers()\n",
    "    val_stats = val_results.stats\n",
    "    assert val_stats.grades > 0\n",
    "    assert val_stats.usages > 0\n",
    "    wandb_data = {\n",
    "        \"iteration\": i,\n",
    "        \"exceptions\": val_stats.exceptions + train_results.stats.exceptions,\n",
    "        \"reward\": val_stats.total_reward / val_stats.grades,\n",
    "        \"tokens\": round(val_stats.completion_tokens / val_stats.usages),\n",
    "    }\n",
    "    for metric in val_stats.total_metrics:\n",
    "        wandb_data[metric] = val_stats.total_metrics[metric] / val_stats.grades\n",
    "    try:\n",
    "        wandb_data.update(\n",
    "            pl.DataFrame(last_tune_log(output_dir)).drop(\"step\").mean().to_dicts()[0]\n",
    "        )\n",
    "    except Exception:\n",
    "        pass\n",
    "    wandb.log(wandb_data)\n",
    "    expected_tokens = wandb_data[\"tokens\"]\n",
    "    try:\n",
    "        best_iteration = (\n",
    "            wandb.Api()\n",
    "            .run(f\"{run.entity}/{run.project}/{run.id}\")\n",
    "            .history()\n",
    "            .sort_values(by=\"reward\")[\"iteration\"]\n",
    "            .iloc[-1]\n",
    "        )\n",
    "        clear_iteration_dirs(output_dir, [best_iteration, i])\n",
    "        # see ./logs/rsync.log for output\n",
    "        asyncio.create_task(rsync_dir(sync_dir, \"gs://atreides/openpipe/\", output_dir))\n",
    "    except Exception:\n",
    "        pass\n",
    "    # Deferred results\n",
    "    train_results, deferred_results = (\n",
    "        train_results[: len(train_results) // 2],\n",
    "        train_results[len(train_results) // 2 :],\n",
    "    )\n",
    "    if prev_deferred_results is not None:\n",
    "        for _deferred_results, _train_results in zip(\n",
    "            prev_deferred_results, train_results\n",
    "        ):\n",
    "            mean_reward = (\n",
    "                torch.tensor([result.reward for result in _train_results]).mean().item()\n",
    "            )\n",
    "            differences = [mean_reward - result.reward for result in _deferred_results]\n",
    "            std_dev = torch.std(torch.tensor(differences)).item()\n",
    "            for result, difference in zip(_deferred_results, differences):\n",
    "                result.advantage = difference / std_dev if std_dev > 1e-2 else 0.0\n",
    "                result.deferred = True\n",
    "        random.shuffle(prev_deferred_results)\n",
    "        random.shuffle(train_results)\n",
    "        train_results = prev_deferred_results  # + train_results\n",
    "    else:\n",
    "        random.shuffle(train_results)\n",
    "    prev_deferred_results = deferred_results\n",
    "    tokenized_results = [\n",
    "        result\n",
    "        for results in train_results\n",
    "        for result in results\n",
    "        if result.advantage != 0\n",
    "    ]\n",
    "    packed_tensors = packed_tensors_from_tokenized_results(\n",
    "        tokenized_results,\n",
    "        seq_len=seq_len,\n",
    "        pad_token_id=tokenizer.pad_token_id,  # type: ignore\n",
    "    )\n",
    "    if verbosity == 2:\n",
    "        plot_packed_tensors(packed_tensors)\n",
    "    else:\n",
    "        print(f\"Packed tensors into {packed_tensors[\"tokens\"].size()} shape\")\n",
    "    optimizer_config = ComponentConfig(\n",
    "        model.tune_optimizer,\n",
    "        lr=lr,\n",
    "        betas=betas,\n",
    "        weight_decay=weight_decay,\n",
    "    )\n",
    "    if model.tune_optimizer == \"torch.optim.AdamW\":\n",
    "        optimizer_config.fused = True\n",
    "    batch_size = model.tune_max_batch_tokens // seq_len\n",
    "    model_name = await tune(\n",
    "        base_model=model.base_model,\n",
    "        output_dir=output_dir,\n",
    "        packed_tensors=packed_tensors,\n",
    "        model=model.tune_model,\n",
    "        model_type=model.tune_model_type,\n",
    "        config=TuneRecipeConfig(\n",
    "            optimizer=optimizer_config,\n",
    "            gradient_accumulation_steps=max(\n",
    "                packed_tensors[\"tokens\"].shape[0] // batch_size - batch_size, 1\n",
    "            ),\n",
    "            max_steps_per_epoch=1,\n",
    "            loss=ComponentConfig(\n",
    "                GRPO,\n",
    "                clip_epsilon=clip_epsilon,\n",
    "                entropy_coef=entropy_coef,\n",
    "                kl_coef=kl_coef,\n",
    "                tanh=tanh,\n",
    "            ),\n",
    "            shuffle=False,\n",
    "            batch_size=model.tune_max_batch_tokens // seq_len,\n",
    "            fsdp_cpu_offload=model.tune_fsdp_cpu_offload,\n",
    "            enable_activation_checkpointing=True,\n",
    "            enable_activation_offloading=True,\n",
    "            custom_sharded_layers=[\"tok_embeddings\", \"output\"],\n",
    "            num_output_chunks=model.tune_num_output_chunks,\n",
    "            compile=True,\n",
    "            log_grad_magnitude=True,\n",
    "        ),\n",
    "        verbosity=verbosity,\n",
    "    )\n",
    "    # see ./logs/rsync.log for output\n",
    "    asyncio.create_task(rsync_dir(sync_dir, \"gs://atreides/openpipe/\", output_dir))"
   ]
  }
 ],
 "metadata": {
  "kernelspec": {
   "display_name": ".venv",
   "language": "python",
   "name": "python3"
  },
  "language_info": {
   "codemirror_mode": {
    "name": "ipython",
    "version": 3
   },
   "file_extension": ".py",
   "mimetype": "text/x-python",
   "name": "python",
   "nbconvert_exporter": "python",
   "pygments_lexer": "ipython3",
   "version": "3.12.9"
  }
 },
 "nbformat": 4,
 "nbformat_minor": 2
}
